{
 "cells": [
  {
   "cell_type": "code",
   "execution_count": 11,
   "metadata": {},
   "outputs": [],
   "source": [
    "from docx import Document\n",
    "import re\n"
   ]
  },
  {
   "cell_type": "code",
   "execution_count": 12,
   "metadata": {},
   "outputs": [],
   "source": [
    "def load_docx(file_path):\n",
    "    try:\n",
    "        return Document(file_path)\n",
    "    except Exception as e:\n",
    "        print(f\"Error loading document: {e}\")\n",
    "        return None\n",
    "\n",
    "doc = load_docx('data/vb_test.docx')\n",
    "if not doc:\n",
    "    exit()\n"
   ]
  },
  {
   "cell_type": "code",
   "execution_count": 13,
   "metadata": {},
   "outputs": [],
   "source": [
    "import string\n",
    "seps = '[.,;-+]'\n",
    "ascii = string.ascii_lowercase\n",
    "lowest_level = [(i + \")\") for i in ascii]\n",
    "levels = [lowest_level]"
   ]
  },
  {
   "cell_type": "code",
   "execution_count": 14,
   "metadata": {},
   "outputs": [],
   "source": [
    "def extract_text(doc):\n",
    "    full_text = []\n",
    "    for para in doc.paragraphs:\n",
    "        full_text.append(para.text)\n",
    "    for table in doc.tables:\n",
    "        for row in table.rows:\n",
    "            for cell in row.cells:\n",
    "                full_text.append(cell.text)\n",
    "    return '\\n'.join(full_text)\n",
    "\n",
    "document_text = extract_text(doc)\n"
   ]
  },
  {
   "cell_type": "code",
   "execution_count": 15,
   "metadata": {},
   "outputs": [],
   "source": [
    "alphabet_lst = [i for i in ascii]\n",
    "digit_lst = [str(i) for i in range(99)]\n",
    "bullet_levels1 = [[\"chương\"], [\"điều\"], digit_lst]\n",
    "bullet_levels2 = [[\"chương\"], [\"phụ lục\"], digit_lst]"
   ]
  },
  {
   "cell_type": "code",
   "execution_count": 16,
   "metadata": {},
   "outputs": [],
   "source": [
    "from collections import OrderedDict"
   ]
  },
  {
   "cell_type": "code",
   "execution_count": 17,
   "metadata": {},
   "outputs": [],
   "source": [
    "text = []\n",
    "tree = OrderedDict()\n",
    "for i, para in enumerate(doc.paragraphs):\n",
    "    text.append(para.text)"
   ]
  },
  {
   "cell_type": "code",
   "execution_count": 18,
   "metadata": {},
   "outputs": [],
   "source": [
    "full_text = []\n",
    "c_check = False\n",
    "for i, para in enumerate(text):\n",
    "    if c_check == True:\n",
    "        c_check = False\n",
    "        continue\n",
    "    if para.split(\" \")[0].lower() == \"chương\":\n",
    "        para = para + \" \" + text[i + 1]\n",
    "        c_check = True\n",
    "    else:\n",
    "        c_check = False\n",
    "    full_text.append(para)"
   ]
  },
  {
   "cell_type": "code",
   "execution_count": 19,
   "metadata": {},
   "outputs": [],
   "source": [
    "def update_tree(bullet, par):\n",
    "    check_text = \n",
    "    for i in range (len(bullet_levels1)):\n",
    "        if bullet.lower() in bullet_levels1[i]:\n",
    "            k = tree\n",
    "            for j in range(i):\n",
    "                k = k[next(reversed(k))]\n",
    "            k[par] = OrderedDict()"
   ]
  },
  {
   "cell_type": "code",
   "execution_count": 20,
   "metadata": {},
   "outputs": [],
   "source": [
    "for i, para in enumerate(full_text):\n",
    "    first_token = para.split(\" \")[0]\n",
    "    if len(first_token.strip()) > 0:\n",
    "        bullet = re.split(r\"[.,;)]\",first_token)[0]\n",
    "        update_tree(bullet, para)\n"
   ]
  },
  {
   "cell_type": "code",
   "execution_count": 21,
   "metadata": {},
   "outputs": [],
   "source": [
    "def flatten_tree(tree, parent_path=\"\", separator=\" > \"):\n",
    "    flat_list = []\n",
    "    for key, value in tree.items():\n",
    "        current_path = f\"{parent_path}{separator}{key}\" if parent_path else key\n",
    "        # print(f\"Processing: {current_path}\")  # Debugging step\n",
    "        if value:  # Check if the value is not blank OrderedDict\n",
    "            flat_list.extend(flatten_tree(value, current_path, separator))\n",
    "        else:\n",
    "            # If value is a blank ordered dict, convert value to blank string\n",
    "            flat_list.append((current_path, \"\"))\n",
    "    return flat_list"
   ]
  },
  {
   "cell_type": "code",
   "execution_count": 22,
   "metadata": {},
   "outputs": [],
   "source": [
    "flat_data = flatten_tree(tree)\n",
    "chunks = [f\"{path}: {text}\" for path, text in flat_data]\n"
   ]
  },
  {
   "cell_type": "code",
   "execution_count": 24,
   "metadata": {},
   "outputs": [
    {
     "data": {
      "text/plain": [
       "['Chương I NHỮNG QUY ĐỊNH CHUNG > Điều 1. Phạm vi điều chỉnh và đối tượng áp dụng > 1. Nghị định này quy định về Chứng chỉ hành nghề dược; kinh doanh dược; xuất khẩu, nhập khẩu thuốc; đăng ký lưu hành dược liệu, tá dược, vỏ nang; đánh giá cơ sở sản xuất thuốc tại nước ngoài; thẩm quyền, hình thức, thủ tục thu hồi nguyên liệu làm thuốc, biện pháp xử lý nguyên liệu làm thuốc bị thu hồi; hồ sơ, trình tự thủ tục và thẩm quyền cấp giấy xác nhận nội dung thông tin, quảng cáo thuốc và biện pháp quản lý giá thuốc.: ',\n",
       " 'Chương I NHỮNG QUY ĐỊNH CHUNG > Điều 1. Phạm vi điều chỉnh và đối tượng áp dụng > 2. Nghị định này áp dụng đối với cơ quan, tổ chức, cá nhân trong nước và nước ngoài có hoạt động liên quan đến dược tại Việt Nam.: ',\n",
       " 'Chương I NHỮNG QUY ĐỊNH CHUNG > Điều 2. Giải thích từ ngữ  > 1. Thông tin thuốc là việc thu thập, cung cấp các thông tin có liên quan đến thuốc bao gồm chỉ định, chống chỉ định, liều dùng, cách dùng, phản ứng có hại của thuốc và các thông tin khác liên quan đến chất lượng, an toàn, hiệu quả của thuốc do các cơ sở có trách nhiệm thông tin thuốc thực hiện nhằm đáp ứng yêu cầu thông tin của cơ quan quản lý nhà nước về dược, tổ chức, cá nhân đang trực tiếp hành nghề y, dược hoặc của người sử dụng thuốc.: ',\n",
       " 'Chương I NHỮNG QUY ĐỊNH CHUNG > Điều 2. Giải thích từ ngữ  > 2. Hội thảo giới thiệu thuốc là buổi giới thiệu thuốc hoặc thảo luận chuyên đề khoa học liên quan đến thuốc cho người hành nghề khám bệnh, chữa bệnh.: ',\n",
       " 'Chương I NHỮNG QUY ĐỊNH CHUNG > Điều 2. Giải thích từ ngữ  > 3. Bán thành phẩm thuốc là sản phẩm đã qua một, một số hoặc tất cả các công đoạn chế biến, sản xuất, trừ công đoạn đóng gói cuối cùng. : ',\n",
       " 'Chương I NHỮNG QUY ĐỊNH CHUNG > Điều 2. Giải thích từ ngữ  > 4. Giá nhập khẩu của thuốc là trị giá hải quan của thuốc nhập khẩu được ghi trên tờ khai trị giá hải quan tại cảng Việt Nam sau khi thông quan.: ',\n",
       " 'Chương I NHỮNG QUY ĐỊNH CHUNG > Điều 2. Giải thích từ ngữ  > 5. Giá thành toàn bộ của thuốc sản xuất trong nước là các chi phí về nguyên liệu, nhiên liệu, công cụ, dụng cụ, năng lượng trực tiếp cộng (+) chi phí nhân công trực tiếp cộng (+) chi phí khấu hao máy móc thiết bị trực tiếp cộng (+) chi phí sản xuất chung cộng (+) chi phí tài chính (nếu có) cộng (+) chi phí bán hàng cộng (+) chi phí quản lý trừ (-) chi phí phân bổ cho sản phẩm phụ (nếu có).: ',\n",
       " 'Chương I NHỮNG QUY ĐỊNH CHUNG > Điều 2. Giải thích từ ngữ  > 6. Giá bán buôn thuốc là giá bán giữa các cơ sở kinh doanh dược với nhau hoặc giá bán của cơ sở kinh doanh dược cho các cơ sở khám bệnh, chữa bệnh.: ',\n",
       " 'Chương I NHỮNG QUY ĐỊNH CHUNG > Điều 2. Giải thích từ ngữ  > 7. Giá bán buôn thuốc dự kiến là giá do cơ sở nhập khẩu thuốc, cơ sở sản xuất thuốc hoặc cơ sở đặt gia công thuốc (trong trường hợp thuốc sản xuất gia công) kê khai với cơ quan quản lý nhà nước có thẩm quyền.: ',\n",
       " 'Chương I NHỮNG QUY ĐỊNH CHUNG > Điều 2. Giải thích từ ngữ  > 8. Giá bán lẻ thuốc là giá bán trực tiếp cho người mua thuốc tại các cơ sở bán lẻ thuốc.: ',\n",
       " 'Chương I NHỮNG QUY ĐỊNH CHUNG > Điều 2. Giải thích từ ngữ  > 9. Thặng số bán lẻ là trị giá tiền chênh lệch giữa giá thuốc bán ra và giá thuốc mua vào của cơ sở bán lẻ thuốc.: ',\n",
       " 'Chương I NHỮNG QUY ĐỊNH CHUNG > Điều 2. Giải thích từ ngữ  > 10. Mức thặng số bán lẻ là tỉ lệ phần trăm (%) giữa thặng số bán lẻ và giá thuốc mua vào của cơ sở bán lẻ thuốc.: ',\n",
       " 'Chương II CHỨNG CHỈ HÀNH NGHỀ DƯỢC > Điều 3. Quy định chi tiết về hồ sơ đề nghị cấp Chứng chỉ hành nghề dược > 1. Hồ sơ đề nghị cấp Chứng chỉ hành nghề dược thực hiện theo quy định tại Điều 24 của Luật dược và được quy định cụ thể như sau:: ',\n",
       " 'Chương II CHỨNG CHỈ HÀNH NGHỀ DƯỢC > Điều 3. Quy định chi tiết về hồ sơ đề nghị cấp Chứng chỉ hành nghề dược > 2. Đối với các giấy tờ do cơ quan có thẩm quyền nước ngoài cấp phải được hợp pháp hóa lãnh sự theo quy định. Các giấy tờ này phải có bản dịch sang tiếng Việt và được công chứng theo quy định.: ',\n",
       " 'Chương II CHỨNG CHỈ HÀNH NGHỀ DƯỢC > Điều 3. Quy định chi tiết về hồ sơ đề nghị cấp Chứng chỉ hành nghề dược > 3. Số lượng hồ sơ quy định tại Điều này là 01 bộ. : ',\n",
       " 'Chương II CHỨNG CHỈ HÀNH NGHỀ DƯỢC > Điều 4. Quy định chi tiết về hồ sơ đề nghị cấp lại Chứng chỉ hành nghề dược > 1. Hồ sơ đề nghị cấp lại Chứng chỉ hành nghề dược thực hiện theo quy định tại Điều 25 của Luật dược và được quy định cụ thể như sau:: ',\n",
       " 'Chương II CHỨNG CHỈ HÀNH NGHỀ DƯỢC > Điều 4. Quy định chi tiết về hồ sơ đề nghị cấp lại Chứng chỉ hành nghề dược > 2. Số lượng hồ sơ quy định tại Điều này là 01 bộ. : ',\n",
       " 'Chương II CHỨNG CHỈ HÀNH NGHỀ DƯỢC > Điều 5. Quy định chi tiết về hồ sơ đề nghị điều chỉnh nội dung Chứng chỉ hành nghề dược > 1. Hồ sơ đề nghị điều chỉnh nội dung Chứng chỉ hành nghề dược thực hiện theo quy định tại Điều 26 của Luật dược và được quy định cụ thể như sau:: ',\n",
       " 'Chương II CHỨNG CHỈ HÀNH NGHỀ DƯỢC > Điều 5. Quy định chi tiết về hồ sơ đề nghị điều chỉnh nội dung Chứng chỉ hành nghề dược > 2. Bản chính hoặc bản sao có chứng thực các giấy tờ quy định tại điểm b và điểm c khoản 1 Điều này.: ',\n",
       " 'Chương II CHỨNG CHỈ HÀNH NGHỀ DƯỢC > Điều 5. Quy định chi tiết về hồ sơ đề nghị điều chỉnh nội dung Chứng chỉ hành nghề dược > 3. Đối với các giấy tờ quy định tại điểm b và c khoản 1 Điều này do cơ quan có thẩm quyền nước ngoài cấp, phải là bản được hợp pháp hóa lãnh sự theo quy định. Các giấy tờ này phải có bản dịch sang tiếng Việt và được công chứng theo quy định.: ',\n",
       " 'Chương II CHỨNG CHỈ HÀNH NGHỀ DƯỢC > Điều 5. Quy định chi tiết về hồ sơ đề nghị điều chỉnh nội dung Chứng chỉ hành nghề dược > 4. Số lượng hồ sơ quy định tại Điều này là 01 bộ.: ',\n",
       " 'Chương II CHỨNG CHỈ HÀNH NGHỀ DƯỢC > Điều 6. Quy định chi tiết về thủ tục cấp, cấp lại, điều chỉnh nội dung Chứng chỉ hành nghề dược > 1. Người đề nghị cấp, cấp lại, điều chỉnh nội dung Chứng chỉ hành nghề dược nộp hồ sơ trực tiếp hoặc gửi qua đường bưu điện về:: ',\n",
       " 'Chương II CHỨNG CHỈ HÀNH NGHỀ DƯỢC > Điều 6. Quy định chi tiết về thủ tục cấp, cấp lại, điều chỉnh nội dung Chứng chỉ hành nghề dược > 2. Sau khi nhận hồ sơ, cơ quan tiếp nhận hồ sơ trả cho người đề nghị cấp, cấp lại, điều chỉnh nội dung Chứng chỉ hành nghề dược Phiếu tiếp nhận hồ sơ theo Mẫu số 01 tại Phụ lục I ban hành kèm theo Nghị định này. : ',\n",
       " 'Chương II CHỨNG CHỈ HÀNH NGHỀ DƯỢC > Điều 6. Quy định chi tiết về thủ tục cấp, cấp lại, điều chỉnh nội dung Chứng chỉ hành nghề dược > 3. Trường hợp không có yêu cầu sửa đổi, bổ sung hồ sơ, cơ quan cấp, cấp lại, điều chỉnh nội dung Chứng chỉ hành nghề dược có trách nhiệm:: ',\n",
       " 'Chương II CHỨNG CHỈ HÀNH NGHỀ DƯỢC > Điều 6. Quy định chi tiết về thủ tục cấp, cấp lại, điều chỉnh nội dung Chứng chỉ hành nghề dược > 4. Trường hợp có yêu cầu sửa đổi, bổ sung hồ sơ, cơ quan tiếp nhận hồ sơ có văn bản thông báo nội dung yêu cầu sửa đổi, bổ sung gửi cho người đề nghị trong thời hạn sau:: ',\n",
       " 'Chương II CHỨNG CHỈ HÀNH NGHỀ DƯỢC > Điều 6. Quy định chi tiết về thủ tục cấp, cấp lại, điều chỉnh nội dung Chứng chỉ hành nghề dược > 5. Sau khi nhận hồ sơ sửa đổi, bổ sung, cơ quan tiếp nhận hồ sơ trả cho người đề nghị Phiếu tiếp nhận hồ sơ sửa đổi, bổ sung theo Mẫu số 01 tại Phụ lục I ban hành kèm theo Nghị định này. : ',\n",
       " 'Chương II CHỨNG CHỈ HÀNH NGHỀ DƯỢC > Điều 6. Quy định chi tiết về thủ tục cấp, cấp lại, điều chỉnh nội dung Chứng chỉ hành nghề dược > 6. Trong thời hạn 06 tháng, kể từ ngày cơ quan tiếp nhận hồ sơ có văn bản thông báo sửa đổi, bổ sung, người đề nghị cấp, cấp lại, điều chỉnh nội dung Chứng chỉ hành nghề dược phải nộp hồ sơ sửa đổi, bổ sung theo yêu cầu. Sau thời hạn trên, người đề nghị không sửa đổi, bổ sung hoặc sau 12 tháng kể từ ngày nộp hồ sơ lần đầu mà hồ sơ bổ sung không đáp ứng yêu cầu thì hồ sơ đã nộp không còn giá trị.: ',\n",
       " 'Chương II CHỨNG CHỈ HÀNH NGHỀ DƯỢC > Điều 6. Quy định chi tiết về thủ tục cấp, cấp lại, điều chỉnh nội dung Chứng chỉ hành nghề dược > 7. Trong thời hạn 05 ngày làm việc, kể từ ngày cấp, cấp lại, điều chỉnh nội dung Chứng chỉ hành nghề dược, cơ quan tiếp nhận hồ sơ công bố, cập nhật trên Cổng thông tin điện tử của đơn vị các thông tin sau:: ',\n",
       " 'Chương II CHỨNG CHỈ HÀNH NGHỀ DƯỢC > Điều 6. Quy định chi tiết về thủ tục cấp, cấp lại, điều chỉnh nội dung Chứng chỉ hành nghề dược > 8. Chứng chỉ hành nghề dược được lập thành 02 (hai) bản: 01 (một) bản cấp cho cá nhân đề nghị cấp, cấp lại, điều chỉnh nội dung Chứng chỉ hành nghề dược; 01 bản lưu tại cơ quan cấp Chứng chỉ hành nghề dược.: ',\n",
       " 'Chương II CHỨNG CHỈ HÀNH NGHỀ DƯỢC > Điều 6. Quy định chi tiết về thủ tục cấp, cấp lại, điều chỉnh nội dung Chứng chỉ hành nghề dược > 9. Khi nhận Chứng chỉ hành nghề dược được cấp lại, được điều chỉnh nội dung thì người đề nghị cấp Chứng chỉ hành nghề dược phải nộp lại Chứng chỉ hành nghề dược đã được cấp.: ',\n",
       " 'Chương II CHỨNG CHỈ HÀNH NGHỀ DƯỢC > Điều 6. Quy định chi tiết về thủ tục cấp, cấp lại, điều chỉnh nội dung Chứng chỉ hành nghề dược > 10. Mẫu Chứng chỉ hành nghề dược:: ',\n",
       " 'Chương II CHỨNG CHỈ HÀNH NGHỀ DƯỢC > Điều 6. Quy định chi tiết về thủ tục cấp, cấp lại, điều chỉnh nội dung Chứng chỉ hành nghề dược > 11. Bộ trưởng Bộ Y tế quy định tổ chức và hoạt động của Hội đồng tư vấn cấp Chứng chỉ hành nghề dược.: ',\n",
       " 'Chương II CHỨNG CHỈ HÀNH NGHỀ DƯỢC > Điều 6. Quy định chi tiết về thủ tục cấp, cấp lại, điều chỉnh nội dung Chứng chỉ hành nghề dược > 12. Trường hợp Chứng chỉ hành nghề dược được cấp lại theo quy định tại khoản 8 Điều 24 của Luật dược, người đề nghị cấp lại Chứng chỉ hành nghề dược không phải nộp phí.: ',\n",
       " 'Chương II CHỨNG CHỈ HÀNH NGHỀ DƯỢC > Điều 7. Thủ tục thu hồi Chứng chỉ hành nghề dược > 1. Thu hồi Chứng chỉ hành nghề dược đối với các trường hợp quy định tại các khoản 1, 4, 5, 6, 7, 8, 9, 10 và 11 Điều 28 của Luật dược:: ',\n",
       " 'Chương II CHỨNG CHỈ HÀNH NGHỀ DƯỢC > Điều 7. Thủ tục thu hồi Chứng chỉ hành nghề dược > 2. Thu hồi Chứng chỉ hành nghề dược đối với trường hợp quy định tại khoản 2 và 3 Điều 28 của Luật dược:: ',\n",
       " 'Chương II CHỨNG CHỈ HÀNH NGHỀ DƯỢC > Điều 7. Thủ tục thu hồi Chứng chỉ hành nghề dược > 3. Trách nhiệm của cơ quan cấp, thu hồi Chứng chỉ hành nghề dược:: ',\n",
       " 'Chương II CHỨNG CHỈ HÀNH NGHỀ DƯỢC > Điều 8. Chương trình, nội dung, hình thức, phương pháp, thời gian đào tạo cập nhật kiến thức chuyên môn về dược > 1. Nội dung đào tạo bao gồm: : ',\n",
       " 'Chương II CHỨNG CHỈ HÀNH NGHỀ DƯỢC > Điều 8. Chương trình, nội dung, hình thức, phương pháp, thời gian đào tạo cập nhật kiến thức chuyên môn về dược > 2. Hình thức, phương pháp dạy, học thực hành đánh giá kết quả đầu ra của người học thực hành phù hợp với chương trình đào tạo cho từng môn học, đối tượng, trình độ đào tạo thực hành.: ',\n",
       " 'Chương II CHỨNG CHỈ HÀNH NGHỀ DƯỢC > Điều 8. Chương trình, nội dung, hình thức, phương pháp, thời gian đào tạo cập nhật kiến thức chuyên môn về dược > 3. Thời gian đào tạo, cập nhật kiến thức chuyên môn về dược:: ',\n",
       " 'Chương II CHỨNG CHỈ HÀNH NGHỀ DƯỢC > Điều 9. Yêu cầu đối với cơ sở đào tạo, cập nhật kiến thức chuyên môn về dược cho người hành nghề dược > 1. Cơ sở đào tạo, cập nhật kiến thức chuyên môn về dược phải đáp ứng các yêu cầu sau:: ',\n",
       " 'Chương II CHỨNG CHỈ HÀNH NGHỀ DƯỢC > Điều 9. Yêu cầu đối với cơ sở đào tạo, cập nhật kiến thức chuyên môn về dược cho người hành nghề dược > 2. Trường hợp cơ sở đào tạo, cập nhật kiến thức chuyên môn về dược không trực tiếp đào tạo, cập nhật các nội dung về kỹ năng, kỹ thuật trong hành nghề dược thì phải ký hợp đồng với cơ sở dược đáp ứng thực hành tốt phù hợp với nội dung kỹ năng, kỹ thuật trong hành nghề dược mà cơ sở đó thực hiện việc đào tạo, cập nhật.: ',\n",
       " 'Chương II CHỨNG CHỈ HÀNH NGHỀ DƯỢC > Điều 10. Hồ sơ đề nghị công bố, điều chỉnh công bố cơ sở đào tạo, cập nhật kiến thức chuyên môn về dược > 1. Hồ sơ đề nghị công bố cơ sở đào tạo, cập nhật kiến thức chuyên môn về dược gồm:: ',\n",
       " 'Chương II CHỨNG CHỈ HÀNH NGHỀ DƯỢC > Điều 10. Hồ sơ đề nghị công bố, điều chỉnh công bố cơ sở đào tạo, cập nhật kiến thức chuyên môn về dược > 2. Hồ sơ đề nghị điều chỉnh công bố cơ sở đào tạo, cập nhật kiến thức chuyên môn về dược trong trường hợp thay đổi một trong các nội dung liên quan đến hồ sơ công bố trước đó trừ trường hợp quy định tại điểm d khoản 1 Điều này gồm:: ',\n",
       " 'Chương II CHỨNG CHỈ HÀNH NGHỀ DƯỢC > Điều 10. Hồ sơ đề nghị công bố, điều chỉnh công bố cơ sở đào tạo, cập nhật kiến thức chuyên môn về dược > 3. Đối với trường hợp thay đổi bảng kê danh sách người hướng dẫn quy định tại điểm d khoản 1 Điều này, cơ sở phải gửi thông báo theo Mẫu số 11 tại Phụ lục I ban hành kèm theo Nghị định này.: ',\n",
       " 'Chương II CHỨNG CHỈ HÀNH NGHỀ DƯỢC > Điều 10. Hồ sơ đề nghị công bố, điều chỉnh công bố cơ sở đào tạo, cập nhật kiến thức chuyên môn về dược > 4. Hồ sơ được làm thành 01 bộ và tập tin điện tử của tất cả các giấy tờ trong hồ sơ.: ',\n",
       " 'Chương II CHỨNG CHỈ HÀNH NGHỀ DƯỢC > Điều 11. Trình tự, thủ tục công bố, điều chỉnh công bố cơ sở đào tạo, cập nhật kiến thức chuyên môn về dược > 1. Cơ sở đề nghị công bố, điều chỉnh công bố cơ sở đào tạo, cập nhật kiến thức chuyên môn về dược (sau đây gọi tắt là cơ sở công bố đào tạo cập nhật) nộp trực tiếp 01 bộ hồ sơ quy định tại Điều 10 của Nghị định này tại Sở Y tế nơi cơ sở đó đặt trụ sở hoặc gửi qua đường bưu điện.: ',\n",
       " 'Chương II CHỨNG CHỈ HÀNH NGHỀ DƯỢC > Điều 11. Trình tự, thủ tục công bố, điều chỉnh công bố cơ sở đào tạo, cập nhật kiến thức chuyên môn về dược > 2. Sau khi nhận hồ sơ, Sở Y tế trả cho cơ sở nộp hồ sơ đề nghị công bố, điều chỉnh công bố cơ sở đào tạo cập nhật (sau đây gọi tắt là hồ sơ công bố cơ sở đào tạo cập nhật) Phiếu tiếp nhận hồ sơ theo Mẫu số 01 tại Phụ lục I ban hành kèm theo Nghị định này.: ',\n",
       " 'Chương II CHỨNG CHỈ HÀNH NGHỀ DƯỢC > Điều 11. Trình tự, thủ tục công bố, điều chỉnh công bố cơ sở đào tạo, cập nhật kiến thức chuyên môn về dược > 3. Trường hợp không có yêu cầu sửa đổi, bổ sung hồ sơ công bố, điều chỉnh công bố cơ sở đào tạo cập nhật, Sở Y tế có trách nhiệm:: ',\n",
       " 'Chương II CHỨNG CHỈ HÀNH NGHỀ DƯỢC > Điều 11. Trình tự, thủ tục công bố, điều chỉnh công bố cơ sở đào tạo, cập nhật kiến thức chuyên môn về dược > 4. Trường hợp hồ sơ có yêu cầu sửa đổi, bổ sung thì Sở Y tế phải có văn bản thông báo cho cơ sở đào tạo, cập nhật để sửa đổi, bổ sung hồ sơ công bố đào tạo, cập nhật trong thời hạn:: ',\n",
       " 'Chương II CHỨNG CHỈ HÀNH NGHỀ DƯỢC > Điều 11. Trình tự, thủ tục công bố, điều chỉnh công bố cơ sở đào tạo, cập nhật kiến thức chuyên môn về dược > 5. Sau khi nhận hồ sơ sửa đổi, bổ sung, Sở Y tế trả cho cơ sở nộp hồ sơ sửa đổi, bổ sung Phiếu tiếp nhận hồ sơ theo Mẫu số 01 tại Phụ lục I ban hành kèm theo Nghị định này. : ',\n",
       " 'Chương II CHỨNG CHỈ HÀNH NGHỀ DƯỢC > Điều 11. Trình tự, thủ tục công bố, điều chỉnh công bố cơ sở đào tạo, cập nhật kiến thức chuyên môn về dược > 6. Trong thời hạn 06 tháng, kể từ ngày Sở Y tế có văn bản thông báo sửa đổi, bổ sung, cơ sở đề nghị công bố, điều chỉnh công bố phải nộp hồ sơ sửa đổi, bổ sung theo yêu cầu. Sau thời hạn trên, cơ sở không sửa đổi, bổ sung hoặc sau 12 tháng kể từ ngày nộp hồ sơ lần đầu mà hồ sơ bổ sung không đáp ứng yêu cầu thì hồ sơ đã nộp không còn giá trị.: ',\n",
       " 'Chương II CHỨNG CHỈ HÀNH NGHỀ DƯỢC > Điều 11. Trình tự, thủ tục công bố, điều chỉnh công bố cơ sở đào tạo, cập nhật kiến thức chuyên môn về dược > 7. Trường hợp cơ sở bị hủy công bố theo quy định tại khoản 3 Điều 12 của Nghị định này, Sở Y tế chỉ tiếp nhận hồ sơ công bố cơ sở đào tạo cập nhật kiến thức chuyên môn về dược sau 12 tháng kể từ ngày bị hủy công bố.: ',\n",
       " 'Chương II CHỨNG CHỈ HÀNH NGHỀ DƯỢC > Điều 11. Trình tự, thủ tục công bố, điều chỉnh công bố cơ sở đào tạo, cập nhật kiến thức chuyên môn về dược > 8. Sở Y tế có trách nhiệm công bố cơ sở đào tạo cập nhật trên Cổng thông tin điện tử của đơn vị các thông tin sau:: ',\n",
       " 'Chương II CHỨNG CHỈ HÀNH NGHỀ DƯỢC > Điều 12. Các trường hợp hủy công bố, điều chỉnh công bố cơ sở đào tạo, cập nhật kiến thức chuyên môn về dược > 1. Chấm dứt hoạt động đào tạo, cập nhật kiến thức chuyên môn về dược.: ',\n",
       " 'Chương II CHỨNG CHỈ HÀNH NGHỀ DƯỢC > Điều 12. Các trường hợp hủy công bố, điều chỉnh công bố cơ sở đào tạo, cập nhật kiến thức chuyên môn về dược > 2. Không đáp ứng một trong các yêu cầu đối với cơ sở đào tạo, cập nhật kiến thức chuyên môn về dược quy định tại Điều 9 của Nghị định này.: ',\n",
       " 'Chương II CHỨNG CHỈ HÀNH NGHỀ DƯỢC > Điều 12. Các trường hợp hủy công bố, điều chỉnh công bố cơ sở đào tạo, cập nhật kiến thức chuyên môn về dược > 3. Giả mạo giấy tờ trong hồ sơ công bố, điều chỉnh công bố cơ sở đào tạo cập nhật kiến thức chuyên môn về dược.: ',\n",
       " 'Chương II CHỨNG CHỈ HÀNH NGHỀ DƯỢC > Điều 12. Các trường hợp hủy công bố, điều chỉnh công bố cơ sở đào tạo, cập nhật kiến thức chuyên môn về dược > 4. Không hoạt động đào tạo, cập nhật kiến thức chuyên môn về dược trong thời gian 12 tháng liên tục mà không thông báo với Sở Y tế nơi cơ sở đó đặt trụ sở.: ',\n",
       " 'Chương II CHỨNG CHỈ HÀNH NGHỀ DƯỢC > Điều 13. Trình tự, thủ tục hủy công bố, điều chỉnh công bố cơ sở đào tạo cập nhật kiến thức chuyên môn về dược > 1. Trong thời hạn 05 ngày làm việc, kể từ ngày nhận được kết luận thanh tra, kiểm tra hoặc kết luận của cơ quan có thẩm quyền có kiến nghị hủy công bố, điều chỉnh công bố liên quan đến các trường hợp quy định tại Điều 12 của Nghị định này, Sở Y tế công bố, điều chỉnh công bố cơ sở đào tạo, cập nhật kiến thức chuyên môn về dược hủy công bố, điều chỉnh công bố cơ sở đào tạo, cập nhật kiến thức chuyên môn về dược thuộc thẩm quyền quản lý; trường hợp không hủy công bố phải có văn trả lời cho cơ quan kiến nghị hủy và nêu rõ lý do.: ',\n",
       " 'Chương II CHỨNG CHỈ HÀNH NGHỀ DƯỢC > Điều 13. Trình tự, thủ tục hủy công bố, điều chỉnh công bố cơ sở đào tạo cập nhật kiến thức chuyên môn về dược > 2. Trong thời hạn 05 ngày làm việc, kể từ ngày ban hành quyết định hủy bỏ công bố, điều chỉnh công bố cơ sở đào tạo, cập nhật kiến thức chuyên môn về dược, Sở Y tế ban hành quyết định thu hồi có trách nhiệm:: ',\n",
       " 'Chương II CHỨNG CHỈ HÀNH NGHỀ DƯỢC > Điều 13. Trình tự, thủ tục hủy công bố, điều chỉnh công bố cơ sở đào tạo cập nhật kiến thức chuyên môn về dược > 3. Trong thời hạn 05 ngày làm việc, kể từ ngày nhận được quyết định hủy công bố, điều chỉnh công bố cơ sở đào tạo, cập nhật kiến thức chuyên môn về dược, Bộ Y tế và các Sở Y tế có trách nhiệm đăng tải quyết định này trên Cổng thông tin điện tử của đơn vị.: ']"
      ]
     },
     "execution_count": 24,
     "metadata": {},
     "output_type": "execute_result"
    }
   ],
   "source": [
    "chunks"
   ]
  },
  {
   "cell_type": "code",
   "execution_count": 23,
   "metadata": {},
   "outputs": [
    {
     "name": "stderr",
     "output_type": "stream",
     "text": [
      "Failed to load libllamamodel-mainline-cuda-avxonly.so: dlopen: libcudart.so.11.0: cannot open shared object file: No such file or directory\n",
      "Failed to load libllamamodel-mainline-cuda.so: dlopen: libcudart.so.11.0: cannot open shared object file: No such file or directory\n"
     ]
    }
   ],
   "source": [
    "from langchain.vectorstores import FAISS\n",
    "from langchain.embeddings import GPT4AllEmbeddings\n",
    "from typing import List, Dict, Tuple\n",
    "# Initialize the embedding model\n",
    "embedding_model = GPT4AllEmbeddings(model_file=\"models/all-MiniLM-L6-v2-f16.gguf\")\n",
    "\n",
    "# Embed and store in FAISS\n",
    "db = FAISS.from_texts(texts=chunks, embedding=embedding_model)\n",
    "\n",
    "# Save the FAISS vector database\n",
    "vector_db_path = \"vectorstores/db_faiss\"\n",
    "db.save_local(vector_db_path)"
   ]
  }
 ],
 "metadata": {
  "kernelspec": {
   "display_name": "llm2",
   "language": "python",
   "name": "python3"
  },
  "language_info": {
   "codemirror_mode": {
    "name": "ipython",
    "version": 3
   },
   "file_extension": ".py",
   "mimetype": "text/x-python",
   "name": "python",
   "nbconvert_exporter": "python",
   "pygments_lexer": "ipython3",
   "version": "3.11.11"
  }
 },
 "nbformat": 4,
 "nbformat_minor": 2
}
