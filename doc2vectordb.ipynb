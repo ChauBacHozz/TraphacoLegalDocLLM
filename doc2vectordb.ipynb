{
 "cells": [
  {
   "cell_type": "code",
   "execution_count": 1,
   "metadata": {},
   "outputs": [],
   "source": [
    "from docx import Document\n",
    "import re\n"
   ]
  },
  {
   "cell_type": "code",
   "execution_count": 2,
   "metadata": {},
   "outputs": [],
   "source": [
    "def load_docx(file_path):\n",
    "    try:\n",
    "        return Document(file_path)\n",
    "    except Exception as e:\n",
    "        print(f\"Error loading document: {e}\")\n",
    "        return None\n",
    "\n",
    "doc = load_docx('data/vb_test.docx')\n",
    "if not doc:\n",
    "    exit()\n"
   ]
  },
  {
   "cell_type": "code",
   "execution_count": 3,
   "metadata": {},
   "outputs": [],
   "source": [
    "import string\n",
    "seps = '[.,;-+]'\n",
    "ascii = string.ascii_lowercase\n",
    "lowest_level = [(i + \")\") for i in ascii]\n",
    "levels = [lowest_level]"
   ]
  },
  {
   "cell_type": "code",
   "execution_count": 4,
   "metadata": {},
   "outputs": [],
   "source": [
    "def extract_text(doc):\n",
    "    full_text = []\n",
    "    for para in doc.paragraphs:\n",
    "        full_text.append(para.text)\n",
    "    for table in doc.tables:\n",
    "        for row in table.rows:\n",
    "            for cell in row.cells:\n",
    "                full_text.append(cell.text)\n",
    "    return '\\n'.join(full_text)\n",
    "\n",
    "document_text = extract_text(doc)\n"
   ]
  },
  {
   "cell_type": "code",
   "execution_count": 5,
   "metadata": {},
   "outputs": [],
   "source": [
    "alphabet_lst = [i for i in ascii]\n",
    "digit_lst = [str(i) for i in range(99)]\n",
    "bullet_levels1 = [[\"chương\"], [\"điều\"], digit_lst, alphabet_lst]\n",
    "bullet_levels2 = [[\"chương\"], [\"phụ lục\"], digit_lst, alphabet_lst]"
   ]
  },
  {
   "cell_type": "code",
   "execution_count": 6,
   "metadata": {},
   "outputs": [],
   "source": [
    "from collections import OrderedDict"
   ]
  },
  {
   "cell_type": "code",
   "execution_count": 7,
   "metadata": {},
   "outputs": [],
   "source": [
    "text = []\n",
    "tree = OrderedDict()\n",
    "for i, para in enumerate(doc.paragraphs):\n",
    "    text.append(para.text)"
   ]
  },
  {
   "cell_type": "code",
   "execution_count": 8,
   "metadata": {},
   "outputs": [],
   "source": [
    "full_text = []\n",
    "c_check = False\n",
    "for i, para in enumerate(text):\n",
    "    if c_check == True:\n",
    "        c_check = False\n",
    "        continue\n",
    "    if para.split(\" \")[0].lower() == \"chương\":\n",
    "        para = para + \" \" + text[i + 1]\n",
    "        c_check = True\n",
    "    else:\n",
    "        c_check = False\n",
    "    full_text.append(para)"
   ]
  },
  {
   "cell_type": "code",
   "execution_count": 9,
   "metadata": {},
   "outputs": [],
   "source": [
    "def update_tree(bullet, par):\n",
    "    for i in range (4):\n",
    "        if bullet.lower() in bullet_levels1[i]:\n",
    "            k = tree\n",
    "            for j in range(i):\n",
    "                k = k[next(reversed(k))]\n",
    "            k[par] = OrderedDict()"
   ]
  },
  {
   "cell_type": "code",
   "execution_count": 10,
   "metadata": {},
   "outputs": [],
   "source": [
    "for i, para in enumerate(full_text):\n",
    "    first_token = para.split(\" \")[0]\n",
    "    if len(first_token.strip()) > 0:\n",
    "        bullet = re.split(r\"[.,;)]\",first_token)[0]\n",
    "        update_tree(bullet, para)\n"
   ]
  },
  {
   "cell_type": "code",
   "execution_count": 11,
   "metadata": {},
   "outputs": [],
   "source": [
    "def flatten_tree(tree, parent_path=\"\", separator=\" > \"):\n",
    "    flat_list = []\n",
    "    for key, value in tree.items():\n",
    "        current_path = f\"{parent_path}{separator}{key}\" if parent_path else key\n",
    "        # print(f\"Processing: {current_path}\")  # Debugging step\n",
    "        if value:  # Check if the value is not blank OrderedDict\n",
    "            flat_list.extend(flatten_tree(value, current_path, separator))\n",
    "        else:\n",
    "            # If value is a blank ordered dict, convert value to blank string\n",
    "            flat_list.append((current_path, \"\"))\n",
    "    return flat_list"
   ]
  },
  {
   "cell_type": "code",
   "execution_count": 12,
   "metadata": {},
   "outputs": [],
   "source": [
    "flat_data = flatten_tree(tree)\n",
    "chunks = [f\"{path}: {text}\" for path, text in flat_data]\n"
   ]
  },
  {
   "cell_type": "code",
   "execution_count": 13,
   "metadata": {},
   "outputs": [
    {
     "name": "stderr",
     "output_type": "stream",
     "text": [
      "Failed to load libllamamodel-mainline-cuda-avxonly.so: dlopen: libcudart.so.11.0: cannot open shared object file: No such file or directory\n",
      "Failed to load libllamamodel-mainline-cuda.so: dlopen: libcudart.so.11.0: cannot open shared object file: No such file or directory\n"
     ]
    }
   ],
   "source": [
    "from langchain.vectorstores import FAISS\n",
    "from langchain.embeddings import GPT4AllEmbeddings\n",
    "from typing import List, Dict, Tuple\n",
    "# Initialize the embedding model\n",
    "embedding_model = GPT4AllEmbeddings(model_file=\"models/all-MiniLM-L6-v2-f16.gguf\")\n",
    "\n",
    "# Embed and store in FAISS\n",
    "db = FAISS.from_texts(texts=chunks, embedding=embedding_model)\n",
    "\n",
    "# Save the FAISS vector database\n",
    "vector_db_path = \"vectorstores/db_faiss\"\n",
    "db.save_local(vector_db_path)"
   ]
  }
 ],
 "metadata": {
  "kernelspec": {
   "display_name": "llm2",
   "language": "python",
   "name": "python3"
  },
  "language_info": {
   "codemirror_mode": {
    "name": "ipython",
    "version": 3
   },
   "file_extension": ".py",
   "mimetype": "text/x-python",
   "name": "python",
   "nbconvert_exporter": "python",
   "pygments_lexer": "ipython3",
   "version": "3.11.11"
  }
 },
 "nbformat": 4,
 "nbformat_minor": 2
}
