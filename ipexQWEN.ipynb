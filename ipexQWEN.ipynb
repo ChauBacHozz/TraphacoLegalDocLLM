{
 "cells": [
  {
   "cell_type": "code",
   "execution_count": 1,
   "metadata": {},
   "outputs": [
    {
     "name": "stderr",
     "output_type": "stream",
     "text": [
      "c:\\Users\\84866\\miniforge3\\envs\\llm\\Lib\\site-packages\\tqdm\\auto.py:21: TqdmWarning: IProgress not found. Please update jupyter and ipywidgets. See https://ipywidgets.readthedocs.io/en/stable/user_install.html\n",
      "  from .autonotebook import tqdm as notebook_tqdm\n",
      "c:\\Users\\84866\\miniforge3\\envs\\llm\\Lib\\site-packages\\transformers\\deepspeed.py:23: FutureWarning: transformers.deepspeed module is deprecated and will be removed in a future version. Please import deepspeed modules directly from transformers.integrations\n",
      "  warnings.warn(\n",
      "c:\\Users\\84866\\miniforge3\\envs\\llm\\Lib\\site-packages\\torchvision\\io\\image.py:13: UserWarning: Failed to load image Python extension: 'Could not find module 'C:\\Users\\84866\\miniforge3\\envs\\llm\\Lib\\site-packages\\torchvision\\image.pyd' (or one of its dependencies). Try using the full path with constructor syntax.'If you don't plan on using image functionality from `torchvision.io`, you can ignore this warning. Otherwise, there might be something wrong with your environment. Did you have `libjpeg` or `libpng` installed before building `torchvision` from source?\n",
      "  warn(\n",
      "2025-02-04 10:31:26,302 - INFO - intel_extension_for_pytorch auto imported\n"
     ]
    },
    {
     "name": "stdout",
     "output_type": "stream",
     "text": [
      "Now start loading Tokenizer and optimizing Model...\n"
     ]
    },
    {
     "name": "stderr",
     "output_type": "stream",
     "text": [
      "c:\\Users\\84866\\miniforge3\\envs\\llm\\Lib\\site-packages\\huggingface_hub\\file_download.py:795: FutureWarning: `resume_download` is deprecated and will be removed in version 1.0.0. Downloads always resume when possible. If you want to force a new download, use `force_download=True`.\n",
      "  warnings.warn(\n",
      "Special tokens have been added in the vocabulary, make sure the associated word embeddings are fine-tuned or trained.\n",
      "2025-02-04 10:31:29,902 - INFO - Converting the current model to sym_int4 format......\n",
      "c:\\Users\\84866\\miniforge3\\envs\\llm\\Lib\\site-packages\\torch\\nn\\init.py:412: UserWarning: Initializing zero-element tensors is a no-op\n",
      "  warnings.warn(\"Initializing zero-element tensors is a no-op\")\n"
     ]
    },
    {
     "name": "stdout",
     "output_type": "stream",
     "text": [
      "Successfully loaded Tokenizer and optimized Model!\n",
      "--------------------------------------Note-----------------------------------------\n",
      "| For the first time that each model runs on Intel iGPU/Intel Arc™ A300-Series or |\n",
      "| Pro A60, it may take several minutes for GPU kernels to compile and initialize. |\n",
      "| Please be patient until it finishes warm-up...                                  |\n",
      "-----------------------------------------------------------------------------------\n",
      "Successfully finished warm-up, now start generation...\n",
      "<|im_start|>system\n",
      "You are a helpful assistant.<|im_end|>\n",
      "<|im_start|>user\n",
      "What is AI?<|im_end|>\n",
      "<|im_start|>assistant\n",
      "Artificial Intelligence (AI) refers to the simulation of human intelligence in machines that are programmed to think and act like humans. It involves the development of computer systems\n"
     ]
    }
   ],
   "source": [
    "# Copy/Paste the contents to a new file demo.py\n",
    "import torch\n",
    "from ipex_llm.transformers import AutoModelForCausalLM\n",
    "from transformers import AutoTokenizer, GenerationConfig\n",
    "generation_config = GenerationConfig(use_cache=True)\n",
    "\n",
    "print('Now start loading Tokenizer and optimizing Model...')\n",
    "tokenizer = AutoTokenizer.from_pretrained(\"Qwen/Qwen2-1.5B-Instruct\",\n",
    "                                          trust_remote_code=True)\n",
    "\n",
    "# Load Model using ipex-llm and load it to GPU\n",
    "model = AutoModelForCausalLM.from_pretrained(\"Qwen/Qwen2-1.5B-Instruct\",\n",
    "                                             load_in_4bit=True,\n",
    "                                             cpu_embedding=True,\n",
    "                                             low_cpu_mem_usage=False,\n",
    "                                             trust_remote_code=True)\n",
    "model = model.to('xpu')\n",
    "print('Successfully loaded Tokenizer and optimized Model!')\n",
    "\n",
    "# Format the prompt\n",
    "# you could tune the prompt based on your own model,\n",
    "# here the prompt tuning refers to https://huggingface.co/Qwen/Qwen2-1.5B-Instruct#quickstart\n",
    "question = \"What is AI?\"\n",
    "messages = [\n",
    "    {\"role\": \"system\", \"content\": \"You are a helpful assistant.\"},\n",
    "    {\"role\": \"user\", \"content\": question}\n",
    "]\n",
    "text = tokenizer.apply_chat_template(\n",
    "    messages,\n",
    "    tokenize=False,\n",
    "    add_generation_prompt=True\n",
    ")\n",
    "\n",
    "# Generate predicted tokens\n",
    "with torch.inference_mode():\n",
    "   input_ids = tokenizer.encode(text, return_tensors=\"pt\").to('xpu')\n",
    "\n",
    "   print('--------------------------------------Note-----------------------------------------')\n",
    "   print('| For the first time that each model runs on Intel iGPU/Intel Arc™ A300-Series or |')\n",
    "   print('| Pro A60, it may take several minutes for GPU kernels to compile and initialize. |')\n",
    "   print('| Please be patient until it finishes warm-up...                                  |')\n",
    "   print('-----------------------------------------------------------------------------------')\n",
    "\n",
    "   # To achieve optimal and consistent performance, we recommend a one-time warm-up by running `model.generate(...)` an additional time before starting your actual generation tasks.\n",
    "   # If you're developing an application, you can incorporate this warm-up step into start-up or loading routine to enhance the user experience.\n",
    "   output = model.generate(input_ids,\n",
    "                           do_sample=False,\n",
    "                           max_new_tokens=32,\n",
    "                           generation_config=generation_config) # warm-up\n",
    "\n",
    "   print('Successfully finished warm-up, now start generation...')\n",
    "\n",
    "   output = model.generate(input_ids,\n",
    "                           do_sample=False,\n",
    "                           max_new_tokens=32,\n",
    "                           generation_config=generation_config).cpu()\n",
    "   output_str = tokenizer.decode(output[0], skip_special_tokens=False)\n",
    "   print(output_str)"
   ]
  }
 ],
 "metadata": {
  "kernelspec": {
   "display_name": "Python 3",
   "language": "python",
   "name": "python3"
  },
  "language_info": {
   "codemirror_mode": {
    "name": "ipython",
    "version": 3
   },
   "file_extension": ".py",
   "mimetype": "text/x-python",
   "name": "python",
   "nbconvert_exporter": "python",
   "pygments_lexer": "ipython3",
   "version": "3.11.11"
  }
 },
 "nbformat": 4,
 "nbformat_minor": 2
}
