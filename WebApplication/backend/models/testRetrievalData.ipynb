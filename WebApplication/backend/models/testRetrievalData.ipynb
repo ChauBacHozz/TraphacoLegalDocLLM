{
 "cells": [
  {
   "cell_type": "code",
   "execution_count": 1,
   "metadata": {},
   "outputs": [],
   "source": [
    "from RetrievalData import RetrievalData"
   ]
  },
  {
   "cell_type": "code",
   "execution_count": 2,
   "metadata": {},
   "outputs": [
    {
     "name": "stderr",
     "output_type": "stream",
     "text": [
      "/home/qlcladmin/DuckFong/CODE_WORKSPACE/llm/TraphacoLegalDocLLM/WebApplication/backend/models/RetrievalData.py:34: LangChainDeprecationWarning: The class `HuggingFaceEmbeddings` was deprecated in LangChain 0.2.2 and will be removed in 1.0. An updated version of the class exists in the :class:`~langchain-huggingface package and should be used instead. To use it run `pip install -U :class:`~langchain-huggingface` and import as `from :class:`~langchain_huggingface import HuggingFaceEmbeddings``.\n",
      "  self.embedding_model = HuggingFaceEmbeddings(\n"
     ]
    }
   ],
   "source": [
    "rd = RetrievalData()"
   ]
  },
  {
   "cell_type": "code",
   "execution_count": 3,
   "metadata": {},
   "outputs": [],
   "source": [
    "rd.get_model_ready()"
   ]
  },
  {
   "cell_type": "code",
   "execution_count": 4,
   "metadata": {},
   "outputs": [],
   "source": [
    "prompt = \"Quyền của Công ty dược có vốn đầu tư nước ngoài gồm những nội dung gì?\""
   ]
  },
  {
   "cell_type": "code",
   "execution_count": 5,
   "metadata": {},
   "outputs": [
    {
     "ename": "AttributeError",
     "evalue": "'Neo4jVector' object has no attribute 'query_with_params'",
     "output_type": "error",
     "traceback": [
      "\u001b[31m---------------------------------------------------------------------------\u001b[39m",
      "\u001b[31mAttributeError\u001b[39m                            Traceback (most recent call last)",
      "\u001b[36mCell\u001b[39m\u001b[36m \u001b[39m\u001b[32mIn[5]\u001b[39m\u001b[32m, line 1\u001b[39m\n\u001b[32m----> \u001b[39m\u001b[32m1\u001b[39m context = \u001b[43mrd\u001b[49m\u001b[43m.\u001b[49m\u001b[43mrag_answer\u001b[49m\u001b[43m(\u001b[49m\u001b[43mprompt\u001b[49m\u001b[43m=\u001b[49m\u001b[43mprompt\u001b[49m\u001b[43m)\u001b[49m\n",
      "\u001b[36mFile \u001b[39m\u001b[32m~/DuckFong/CODE_WORKSPACE/llm/TraphacoLegalDocLLM/WebApplication/backend/models/RetrievalData.py:374\u001b[39m, in \u001b[36mRetrievalData.rag_answer\u001b[39m\u001b[34m(self, prompt)\u001b[39m\n\u001b[32m    373\u001b[39m \u001b[38;5;28;01mdef\u001b[39;00m\u001b[38;5;250m \u001b[39m\u001b[34mrag_answer\u001b[39m(\u001b[38;5;28mself\u001b[39m, prompt):\n\u001b[32m--> \u001b[39m\u001b[32m374\u001b[39m     origin_context, modified_context = \u001b[38;5;28;43mself\u001b[39;49m\u001b[43m.\u001b[49m\u001b[43mget_retrieval_data\u001b[49m\u001b[43m(\u001b[49m\u001b[43mprompt\u001b[49m\u001b[43m)\u001b[49m\n\u001b[32m    375\u001b[39m     \u001b[38;5;66;03m# origin_context.insert(0, \"Nội dung gốc\")\u001b[39;00m\n\u001b[32m    376\u001b[39m     \u001b[38;5;66;03m# modified_context.insert(0, \"Nội dung sửa đổi, bãi bỏ, bổ sung\")\u001b[39;00m\n\u001b[32m    377\u001b[39m     context_list = origin_context + modified_context\n",
      "\u001b[36mFile \u001b[39m\u001b[32m~/DuckFong/CODE_WORKSPACE/llm/TraphacoLegalDocLLM/WebApplication/backend/models/RetrievalData.py:367\u001b[39m, in \u001b[36mRetrievalData.get_retrieval_data\u001b[39m\u001b[34m(self, query)\u001b[39m\n\u001b[32m    365\u001b[39m \u001b[38;5;28;01mdef\u001b[39;00m\u001b[38;5;250m \u001b[39m\u001b[34mget_retrieval_data\u001b[39m(\u001b[38;5;28mself\u001b[39m, query: \u001b[38;5;28mstr\u001b[39m):\n\u001b[32m    366\u001b[39m     \u001b[38;5;66;03m# CHECK IF QUERY IS A HEADER OR NOT\u001b[39;00m\n\u001b[32m--> \u001b[39m\u001b[32m367\u001b[39m     origin_context, modified_context = \u001b[38;5;28;43mself\u001b[39;49m\u001b[43m.\u001b[49m\u001b[43msearch_query_from_path\u001b[49m\u001b[43m(\u001b[49m\u001b[43mquery\u001b[49m\u001b[43m)\u001b[49m\n\u001b[32m    368\u001b[39m     \u001b[38;5;28;01mreturn\u001b[39;00m origin_context, modified_context\n",
      "\u001b[36mFile \u001b[39m\u001b[32m~/DuckFong/CODE_WORKSPACE/llm/TraphacoLegalDocLLM/WebApplication/backend/models/RetrievalData.py:98\u001b[39m, in \u001b[36mRetrievalData.search_query_from_path\u001b[39m\u001b[34m(self, query, k)\u001b[39m\n\u001b[32m     90\u001b[39m \u001b[38;5;66;03m# Submit keyword search task\u001b[39;00m\n\u001b[32m     91\u001b[39m keyword_query = \u001b[33mf\u001b[39m\u001b[33m\"\"\"\u001b[39m\n\u001b[32m     92\u001b[39m \u001b[33m    CALL db.index.fulltext.queryNodes(\u001b[39m\u001b[33m\"\u001b[39m\u001b[33mfull_doc_index\u001b[39m\u001b[33m\"\u001b[39m\u001b[33m, $query) \u001b[39m\n\u001b[32m     93\u001b[39m \u001b[33m    YIELD node, score \u001b[39m\n\u001b[32m     94\u001b[39m \u001b[33m    RETURN node.content AS content, node.d_id AS d_id, node.path AS path\u001b[39m\n\u001b[32m     95\u001b[39m \u001b[33m    LIMIT $limit\u001b[39m\n\u001b[32m     96\u001b[39m \u001b[33m\u001b[39m\u001b[33m\"\"\"\u001b[39m\n\u001b[32m     97\u001b[39m keyword_future = executor.submit(\n\u001b[32m---> \u001b[39m\u001b[32m98\u001b[39m     \u001b[38;5;28;43mself\u001b[39;49m\u001b[43m.\u001b[49m\u001b[43mpaper_store\u001b[49m\u001b[43m.\u001b[49m\u001b[43mquery_with_params\u001b[49m, \n\u001b[32m     99\u001b[39m     keyword_query, \n\u001b[32m    100\u001b[39m     {\u001b[33m\"\u001b[39m\u001b[33mquery\u001b[39m\u001b[33m\"\u001b[39m: sanitized_query, \u001b[33m\"\u001b[39m\u001b[33mlimit\u001b[39m\u001b[33m\"\u001b[39m: k}\n\u001b[32m    101\u001b[39m )\n\u001b[32m    103\u001b[39m \u001b[38;5;66;03m# Get results\u001b[39;00m\n\u001b[32m    104\u001b[39m vector_results = vector_future.result()\n",
      "\u001b[31mAttributeError\u001b[39m: 'Neo4jVector' object has no attribute 'query_with_params'"
     ]
    }
   ],
   "source": [
    "context = rd.rag_answer(prompt=prompt)"
   ]
  },
  {
   "cell_type": "code",
   "execution_count": null,
   "metadata": {},
   "outputs": [],
   "source": [
    "from pprint import pprint"
   ]
  },
  {
   "cell_type": "code",
   "execution_count": null,
   "metadata": {},
   "outputs": [],
   "source": [
    "template = '''Khi trả lời câu hỏi liên quan đến các quy định pháp luật, bạn PHẢI tuân thủ nghiêm ngặt các nguyên tắc sau:\n",
    "- Chỉ trả lời dựa trên thông tin có trong ngữ cảnh được cung cấp, không sử dụng bất kỳ thông tin nào ngoài ngữ cảnh.\n",
    "- Nếu ngữ cảnh chứa câu trả lời, hãy cung cấp câu trả lời chính xác, đầy đủ, bao gồm toàn bộ nội dung liên quan từ ngữ cảnh (văn bản, đề mục, và các chi tiết cụ thể), không bỏ sót thông tin quan trọng.\n",
    "- Phải nêu rõ câu trả lời được lấy từ nội dung của văn bản nào, đề mục như thế nào.\n",
    "- Nêu rõ thông tin bãi bỏ, sửa đổi, bổ sung bên cạnh đề mục đó\n",
    "- Nếu nhiều đề mục cùng nằm trong một đề lục lớn cha, trả lời toàn bộ đề mục thuộc đề mục cha. Không thực hiện tóm tắt lại.\n",
    "- Trích dẫn đầy đủ và chính xác các văn bản, điều, khoản, hoặc đề mục được nêu trong ngữ cảnh để tránh thiếu sót.\n",
    "- Nếu ngữ cảnh không chứa câu trả lời, chỉ từ chối trả lời bằng cách nêu rõ không có thông tin, không suy luận hay bổ sung thêm.\n",
    "\n",
    "Trích xuất đoạn văn bản có liên quan nhất từ tài liệu ngữ cảnh sau\n",
    "### Ngữ cảnh:\n",
    "{context} \n",
    "\n",
    "### Câu hỏi:\n",
    "Trả lời một cách chi tiết câu hỏi sau: {question}.Nêu rõ đề mục và văn bản mà nội dung được trả lời. Chỉ trả về văn bản chính xác từ ngữ cảnh mà không cần sửa đổi, có thể xuống dòng giữa các đề mục. Nêu rõ về nội dung bãi bỏ, sửa đổi bổ sung.\n",
    "\n",
    "### Trả lời:'''"
   ]
  },
  {
   "cell_type": "code",
   "execution_count": null,
   "metadata": {},
   "outputs": [
    {
     "name": "stdout",
     "output_type": "stream",
     "text": [
      "Prompt tokens: 2301\n",
      "Completion tokens: 609\n",
      "Total tokens: 2910\n",
      "Chat response: Quyền của Công ty dược có vốn đầu tư nước ngoài bao gồm:\n",
      "\n",
      "- Điểm a) Quyền quy định tại các điểm b, c và d khoản 1 Điều 42 của Luật này;\n",
      "- Điểm b) Quyền tương ứng với loại hình cơ sở kinh doanh dược quy định tại các điểm b, c, d, đ và g khoản 1 Điều 43, các điểm b, c và đ khoản 1 Điều 44, các điểm b, c và d khoản 1 Điều 51, các điểm b, c và d khoản 1 Điều 52, các điểm b, c, d và đ khoản 1 Điều 53 của Luật này;\n",
      "\n",
      "Nội dung này được quy định tại Điều 53a, khoản 1 của Luật số 44/2024/QH15.\n",
      "\n",
      "Công ty dược có vốn đầu tư nước ngoài cũng có các quyền sau:\n",
      "\n",
      "- Điểm a) Bán buôn, giao nhận, vận chuyển thuốc, nguyên liệu làm thuốc do chính công ty sản xuất hoặc đặt gia công hoặc chuyển giao công nghệ tại Việt Nam cho cơ sở khám bệnh, chữa bệnh, cơ sở tiêm chủng và cơ sở y tế khác; cơ sở cai nghiện ma túy; cơ sở kiểm nghiệm thuốc, nguyên liệu làm thuốc của Nhà nước; tổ chức khoa học và công nghệ, cơ sở đào tạo có hoạt động nghiên cứu, giảng dạy liên quan đến dược; cơ sở kinh doanh dược quy định tại khoản 2 Điều 32 của Luật này; cơ sở đã được cấp Giấy chứng nhận đăng ký đầu tư sản xuất thuốc nhưng chưa được cấp Giấy chứng nhận đủ điều kiện kinh doanh dược để sản xuất thử và đánh giá quy trình sản xuất thuốc. Trường hợp bán thuốc kê đơn, công ty sản xuất thuốc được bán thuốc kể từ ngày Bộ Y tế tiếp nhận hồ sơ công bố, công bố lại giá bán buôn thuốc dự kiến;\n",
      "- Điểm b) Giao nhận, vận chuyển thuốc trong chương trình tài trợ, viện trợ, viện trợ nhân đạo, phòng, chống dịch bệnh đến các cơ sở y tế nhận tài trợ;\n",
      "\n",
      "Nội dung này được quy định tại Điều 53a, khoản 2 của Luật số 44/2024/QH15.\n",
      "\n",
      "Nội dung bãi bỏ, sửa đổi, bổ sung:\n",
      "\n",
      "- Văn bản 155/2018/NĐ-CP đã sửa đổi điểm e khoản 1 và điểm e khoản 2 Điều 108 của văn bản 54/2017/NĐ-CP.\n",
      "\n",
      "Trích dẫn từ văn bản 155/2018/NĐ-CP, khoản 56:\n",
      "\n",
      "\"Điểm e khoản 1 và điểm e khoản 2 Điều 108 được sửa đổi như sau:\"\n"
     ]
    }
   ],
   "source": [
    "from openai import OpenAI\n",
    "# Set OpenAI's API key and API base to use vLLM's API server.\n",
    "openai_api_key = \"EMPTY\"\n",
    "openai_api_base = \"http://192.168.126.45:8000/v1\"\n",
    "\n",
    "client = OpenAI(\n",
    "    api_key=openai_api_key,\n",
    "    base_url=openai_api_base,\n",
    ")\n",
    "\n",
    "chat_response = client.chat.completions.create(\n",
    "    model=\"Qwen/Qwen2.5-7B-Instruct-AWQ\",\n",
    "    messages=[\n",
    "        {\"role\": \"system\", \"content\": \"Bạn là một AI chuyên xử lý tài liệu pháp lý Tiếng Việt nhiệt tình và trung thực. Hãy luôn trả lời một cách chính xác và chi tiết theo đúng cấu trúc yêu cầu.\"},\n",
    "        {\"role\": \"user\", \"content\": template.format(context = context, question = prompt)},\n",
    "    ],\n",
    "    temperature=0.9,\n",
    "    top_p=0.2,\n",
    "    max_tokens=5000,\n",
    ")\n",
    "\n",
    "print(\"Prompt tokens:\", chat_response.usage.prompt_tokens)\n",
    "print(\"Completion tokens:\", chat_response.usage.completion_tokens)\n",
    "print(\"Total tokens:\", chat_response.usage.total_tokens)\n",
    "print(\"Chat response:\", chat_response.choices[0].message.content)"
   ]
  }
 ],
 "metadata": {
  "kernelspec": {
   "display_name": "llm",
   "language": "python",
   "name": "python3"
  },
  "language_info": {
   "codemirror_mode": {
    "name": "ipython",
    "version": 3
   },
   "file_extension": ".py",
   "mimetype": "text/x-python",
   "name": "python",
   "nbconvert_exporter": "python",
   "pygments_lexer": "ipython3",
   "version": "3.12.9"
  }
 },
 "nbformat": 4,
 "nbformat_minor": 2
}
