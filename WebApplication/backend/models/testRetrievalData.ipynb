{
 "cells": [
  {
   "cell_type": "code",
   "execution_count": 2,
   "metadata": {},
   "outputs": [],
   "source": [
    "from RetrievalData import RetrievalData"
   ]
  },
  {
   "cell_type": "code",
   "execution_count": 3,
   "metadata": {},
   "outputs": [],
   "source": [
    "prompt = \"Quyền của Công ty dược có vốn đầu tư nước ngoài gồm những gì?\""
   ]
  },
  {
   "cell_type": "code",
   "execution_count": 4,
   "metadata": {},
   "outputs": [
    {
     "name": "stderr",
     "output_type": "stream",
     "text": [
      "/home/qlcladmin/DuckFong/CODE_WORKSPACE/llm/TraphacoLegalDocLLM/WebApplication/backend/models/RetrievalData.py:44: LangChainDeprecationWarning: The class `HuggingFaceEmbeddings` was deprecated in LangChain 0.2.2 and will be removed in 1.0. An updated version of the class exists in the :class:`~langchain-huggingface package and should be used instead. To use it run `pip install -U :class:`~langchain-huggingface` and import as `from :class:`~langchain_huggingface import HuggingFaceEmbeddings``.\n",
      "  self.embedding_model = HuggingFaceEmbeddings(\n"
     ]
    }
   ],
   "source": [
    "rd = RetrievalData()"
   ]
  },
  {
   "cell_type": "code",
   "execution_count": 5,
   "metadata": {},
   "outputs": [],
   "source": [
    "rd.get_model_ready()"
   ]
  },
  {
   "cell_type": "code",
   "execution_count": 6,
   "metadata": {},
   "outputs": [
    {
     "data": {
      "text/plain": [
       "'Nội dung gốc:\\n44/2024/QH15 điều 1 > khoản 27 > Điều 53a. Quyền và trách nhiệm của cơ sở kinh doanh dược có vốn đầu tư nước ngoài | Điều 53a. Quyền và trách nhiệm của cơ sở kinh doanh dược có vốn đầu tư nước ngoài\\nkhoản 1. Cơ sở kinh doanh dược quy định tại các điểm a, b, e, g và h khoản 2 Điều 32 của Luật này có vốn đầu tư nước ngoài có các quyền sau đây:;\\nđiểm a) Quyền quy định tại các điểm b, c và d khoản 1 Điều 42 của Luật này;\\nđiểm b) Quyền tương ứng với loại hình cơ sở kinh doanh dược quy định tại các điểm b, c, d, đ và g khoản 1 Điều 43, các điểm b, c và đ khoản 1 Điều 44, các điểm b, c và d khoản 1 Điều 51, các điểm b, c và d khoản 1 Điều 52, các điểm b, c, d và đ khoản 1 Điều 53 của Luật này;\\nkhoản 2. Cơ sở sản xuất thuốc, nguyên liệu làm thuốc có vốn đầu tư nước ngoài có các quyền quy định tại khoản 1 Điều này và các quyền sau đây:;\\nđiểm a) Bán buôn, giao nhận, vận chuyển thuốc, nguyên liệu làm thuốc do chính cơ sở sản xuất hoặc đặt gia công hoặc chuyển giao công nghệ tại Việt Nam cho cơ sở khám bệnh, chữa bệnh, cơ sở tiêm chủng và cơ sở y tế khác; cơ sở cai nghiện ma túy; cơ sở kiểm nghiệm thuốc, nguyên liệu làm thuốc của Nhà nước; tổ chức khoa học và công nghệ, cơ sở đào tạo có hoạt động nghiên cứu, giảng dạy liên quan đến dược; cơ sở kinh doanh dược quy định tại khoản 2 Điều 32 của Luật này; cơ sở đã được cấp Giấy chứng nhận đăng ký đầu tư sản xuất thuốc nhưng chưa được cấp Giấy chứng nhận đủ điều kiện kinh doanh dược để sản xuất thử và đánh giá quy trình sản xuất thuốc.. Trường hợp bán thuốc kê đơn, cơ sở sản xuất thuốc được bán thuốc kể từ ngày Bộ Y tế tiếp nhận hồ sơ công bố, công bố lại giá bán buôn thuốc dự kiến;\\nđiểm b) Giao nhận, vận chuyển thuốc trong chương trình tài trợ, viện trợ, viện trợ nhân đạo, phòng, chống dịch bệnh đến các cơ sở y tế nhận tài trợ;\\nkhoản 3. Cơ sở nhập khẩu thuốc, nguyên liệu làm thuốc có vốn đầu tư nước ngoài có các quyền quy định tại khoản 1 Điều này và các quyền sau đây:;\\nđiểm a) Bán buôn thuốc, nguyên liệu làm thuốc do chính cơ sở nhập khẩu cho cơ sở bán buôn thuốc, nguyên liệu làm thuốc. Trường hợp bán thuốc kê đơn, cơ sở nhập khẩu thuốc được bán thuốc kể từ ngày Bộ Y tế tiếp nhận hồ sơ công bố, công bố lại giá bán buôn thuốc dự kiến;\\nđiểm b) Mua lại thuốc, nguyên liệu làm thuốc do chính cơ sở chuyển giao công nghệ tại Việt Nam; bán thuốc, nguyên liệu làm thuốc do chính cơ sở đặt gia công, chuyển giao công nghệ tại Việt Nam cho cơ sở bán buôn thuốc, nguyên liệu làm thuốc;\\nđiểm c) Nhập khẩu nguyên liệu làm thuốc theo đúng phạm vi nêu trên Giấy chứng nhận đủ điều kiện kinh doanh dược để cung cấp cho cơ sở sản xuất thuốc do chính cơ sở đặt gia công, chuyển giao công nghệ tại Việt Nam theo hợp đồng gia công, hợp đồng chuyển giao công nghệ;\\nđiểm d) Giao nhận, vận chuyển thuốc, nguyên liệu làm thuốc do cơ sở nhập khẩu, đặt gia công, chuyển giao công nghệ tại Việt Nam từ kho bảo quản thuốc, nguyên liệu làm thuốc của cơ sở đến cơ sở bán buôn thuốc, nguyên liệu làm thuốc;\\nđiểm e) Vận chuyển nguyên liệu làm thuốc do cơ sở nhập khẩu từ kho bảo quản nguyên liệu làm thuốc của cơ sở đến cơ sở sản xuất thuốc do chính cơ sở đặt gia công, chuyển giao công nghệ tại Việt Nam theo hợp đồng gia công, hợp đồng chuyển giao công nghệ; vận chuyển thuốc sử dụng trong thử nghiệm lâm sàng do chính cơ sở tài trợ và nhập khẩu tới cơ sở nhận thử thuốc trên lâm sàng;\\nđiểm đ) Giao thuốc, vận chuyển thuốc trong chương trình tài trợ, viện trợ, viện trợ nhân đạo, phòng, chống dịch bệnh đến các cơ sở y tế nhận tài trợ;\\nkhoản 4. Cơ sở kinh doanh dược quy định tại các điểm a, b, e, g và h khoản 2 Điều 32 có vốn đầu tư nước ngoài có trách nhiệm tương ứng với từng loại hình cơ sở kinh doanh dược quy định tại khoản 2 Điều 42, khoản 2 Điều 43, khoản 2 Điều 44, khoản 2 Điều 51, khoản 2 Điều 52, khoản 2 Điều 53 của Luật này và không được thực hiện các hoạt động liên quan trực tiếp đến phân phối thuốc, nguyên liệu làm thuốc, bao gồm:;\\nđiểm a) Bán, giao nhận, vận chuyển thuốc, nguyên liệu làm thuốc, trừ trường hợp quy định tại khoản 2 và khoản 3 Điều này;\\nđiểm b) Nhận bảo quản thuốc, nguyên liệu làm thuốc không phải do chính cơ sở nhập khẩu hoặc sản xuất, đặt gia công, chuyển giao công nghệ tại Việt Nam;\\nđiểm c) Nhận đơn đặt hàng, nhận thanh toán thuốc, nguyên liệu làm thuốc của cơ sở khám bệnh, chữa bệnh, cơ sở bán lẻ, cá nhân, tổ chức không phải là cơ sở bán buôn thuốc, nguyên liệu làm thuốc, trừ trường hợp quy định tại khoản 2 Điều này;\\nđiểm d) Xác định, áp đặt giá bán thuốc, nguyên liệu làm thuốc do cơ sở kinh doanh dược khác phân phối, trừ trường hợp thực hiện các quy định về quản lý giá thuốc tại Luật này;\\nđiểm e) Xây dựng kế hoạch cung ứng thuốc, nguyên liệu làm thuốc của các cơ sở khám bệnh, chữa bệnh tại Việt Nam;\\nđiểm g) Hỗ trợ tài chính dưới mọi hình thức cho tổ chức, cá nhân trực tiếp mua thuốc, nguyên liệu làm thuốc của cơ sở nhằm mục đích thao túng việc phân phối thuốc, nguyên liệu làm thuốc nhập khẩu;\\nđiểm đ) Quyết định chiến lược phân phối, chính sách kinh doanh thuốc, nguyên liệu làm thuốc do cơ sở kinh doanh dược khác phân phối;\\nkhoản 5. Cơ sở kinh doanh dược có vốn đầu tư nước ngoài không được thực hiện hoạt động bán lẻ thuốc, bán buôn thuốc, nguyên liệu làm thuốc, trừ trường hợp quy định tại khoản 2 và khoản 3 Điều này;\\n105/2016/QH13 chương II > điều 10 > khoản 5 > điểm a | a) Bố trí và cân đối các nguồn lực đầu tư cho phát triển công nghiệp dược, vận động các nguồn vốn nước ngoài ưu tiên dành cho phát triển công nghiệp dược;\\n44/2024/QH15 điều 1 > khoản 5 > Điều 8. Chính sách ưu đãi, hỗ trợ đầu tư trong phát triển công nghiệp dược > 2. Dự án đầu tư thành lập mới (bao gồm cả việc mở rộng dự án thành lập mới đó) trong phát triển công nghiệp dược có tổng vốn đầu tư từ 3.000 tỷ đồng trở lên, thực hiện giải ngân tối thiểu 1.000 tỷ đồng trong thời hạn 03 năm kể từ ngày được cấp Giấy chứng nhận đăng ký đầu tư hoặc chấp thuận chủ trương đầu tư thì được áp dụng ưu đãi và hỗ trợ đầu tư đặc biệt như đối tượng quy định tại điểm a khoản 2 Điều 20 của Luật Đầu tư, bao gồm: | 2. Dự án đầu tư thành lập mới (bao gồm cả việc mở rộng dự án thành lập mới đó) trong phát triển công nghiệp dược có tổng vốn đầu tư từ 3.000 tỷ đồng trở lên, thực hiện giải ngân tối thiểu 1.000 tỷ đồng trong thời hạn 03 năm kể từ ngày được cấp Giấy chứng nhận đăng ký đầu tư hoặc chấp thuận chủ trương đầu tư thì được áp dụng ưu đãi và hỗ trợ đầu tư đặc biệt như đối tượng quy định tại điểm a khoản 2 Điều 20 của Luật Đầu tư, bao gồm:\\nNội dung sửa đổi, bãi bỏ, bổ sung:'"
      ]
     },
     "execution_count": 6,
     "metadata": {},
     "output_type": "execute_result"
    }
   ],
   "source": [
    "rd.rag_answer(prompt)"
   ]
  }
 ],
 "metadata": {
  "kernelspec": {
   "display_name": "llm",
   "language": "python",
   "name": "python3"
  },
  "language_info": {
   "codemirror_mode": {
    "name": "ipython",
    "version": 3
   },
   "file_extension": ".py",
   "mimetype": "text/x-python",
   "name": "python",
   "nbconvert_exporter": "python",
   "pygments_lexer": "ipython3",
   "version": "3.12.9"
  }
 },
 "nbformat": 4,
 "nbformat_minor": 2
}
