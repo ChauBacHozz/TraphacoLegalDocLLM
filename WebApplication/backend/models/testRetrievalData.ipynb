{
 "cells": [
  {
   "cell_type": "code",
   "execution_count": 28,
   "metadata": {},
   "outputs": [],
   "source": [
    "from RetrievalData import RetrievalData"
   ]
  },
  {
   "cell_type": "code",
   "execution_count": 29,
   "metadata": {},
   "outputs": [],
   "source": [
    "rd = RetrievalData()"
   ]
  },
  {
   "cell_type": "code",
   "execution_count": 30,
   "metadata": {},
   "outputs": [],
   "source": [
    "rd.get_model_ready()"
   ]
  },
  {
   "cell_type": "code",
   "execution_count": 31,
   "metadata": {},
   "outputs": [],
   "source": [
    "prompt = \"Quyền của Công ty dược có vốn đầu tư nước ngoài gồm những nội dung gì?\""
   ]
  },
  {
   "cell_type": "code",
   "execution_count": 32,
   "metadata": {},
   "outputs": [],
   "source": [
    "context = rd.rag_answer(prompt=prompt)"
   ]
  },
  {
   "cell_type": "code",
   "execution_count": 33,
   "metadata": {},
   "outputs": [],
   "source": [
    "from pprint import pprint"
   ]
  },
  {
   "cell_type": "code",
   "execution_count": null,
   "metadata": {},
   "outputs": [],
   "source": [
    "template = '''Khi trả lời câu hỏi liên quan đến các quy định pháp luật, bạn PHẢI tuân thủ nghiêm ngặt các nguyên tắc sau:\n",
    "- Chỉ trả lời dựa trên thông tin có trong ngữ cảnh được cung cấp, không sử dụng bất kỳ thông tin nào ngoài ngữ cảnh.\n",
    "- Nếu ngữ cảnh chứa câu trả lời, hãy cung cấp câu trả lời chính xác, đầy đủ, bao gồm toàn bộ nội dung liên quan từ ngữ cảnh (văn bản, đề mục, và các chi tiết cụ thể), không bỏ sót thông tin quan trọng.\n",
    "- Phải nêu rõ câu trả lời được lấy từ nội dung của văn bản nào, đề mục như thế nào.\n",
    "- Nêu rõ thông tin bãi bỏ, sửa đổi, bổ sung bên cạnh đề mục đó\n",
    "- Nếu nhiều đề mục cùng nằm trong một đề lục lớn cha, trả lời toàn bộ đề mục thuộc đề mục cha. Không thực hiện tóm tắt lại.\n",
    "- Trích dẫn đầy đủ và chính xác các văn bản, điều, khoản, hoặc đề mục được nêu trong ngữ cảnh để tránh thiếu sót.\n",
    "- Nếu ngữ cảnh không chứa câu trả lời, chỉ từ chối trả lời bằng cách nêu rõ không có thông tin, không suy luận hay bổ sung thêm.\n",
    "\n",
    "Trích xuất đoạn văn bản có liên quan nhất từ tài liệu ngữ cảnh sau\n",
    "### Ngữ cảnh:\n",
    "{context} \n",
    "\n",
    "### Câu hỏi:\n",
    "Trả lời một cách chi tiết câu hỏi sau: {question}.Nêu rõ đề mục và văn bản mà nội dung được trả lời. Chỉ trả về văn bản chính xác từ ngữ cảnh mà không cần sửa đổi, có thể xuống dòng giữa các đề mục. Nêu rõ về nội dung bãi bỏ, sửa đổi bổ sung.\n",
    "\n",
    "### Trả lời:'''"
   ]
  },
  {
   "cell_type": "code",
   "execution_count": 35,
   "metadata": {},
   "outputs": [
    {
     "name": "stdout",
     "output_type": "stream",
     "text": [
      "Prompt tokens: 2353\n",
      "Completion tokens: 1428\n",
      "Total tokens: 3781\n",
      "Chat response: Xin chào, tôi có thể giúp gì cho bạn?\n",
      "\n",
      "Dưới đây là quyền của Cơ sở kinh doanh dược có vốn đầu tư nước ngoài theo Điều 53a của Luật này, được trích từ văn bản 44/2024/QH15:\n",
      "\n",
      "**Khoản 1. Quyền của Cơ sở kinh doanh dược có vốn đầu tư nước ngoài:**\n",
      "\n",
      "*   Điểm a) Quyền quy định tại các điểm b, c và d khoản 1 Điều 42 của Luật này.\n",
      "*   Điểm b) Quyền tương ứng với loại hình cơ sở kinh doanh dược quy định tại các điểm b, c, d, đ và g khoản 1 Điều 43, các điểm b, c và đ khoản 1 Điều 44, các điểm b, c và d khoản 1 Điều 51, các điểm b, c và d khoản 1 Điều 52, các điểm b, c, d và đ khoản 1 Điều 53 của Luật này.\n",
      "\n",
      "**Khoản 2. Quyền của Cơ sở sản xuất thuốc, nguyên liệu làm thuốc có vốn đầu tư nước ngoài:**\n",
      "\n",
      "*   Điểm a) Bán buôn, giao nhận, vận chuyển thuốc, nguyên liệu làm thuốc do chính cơ sở sản xuất hoặc đặt gia công hoặc chuyển giao công nghệ tại Việt Nam cho cơ sở khám bệnh, chữa bệnh, cơ sở tiêm chủng và cơ sở y tế khác; cơ sở cai nghiện ma túy; cơ sở kiểm nghiệm thuốc, nguyên liệu làm thuốc của Nhà nước; tổ chức khoa học và công nghệ, cơ sở đào tạo có hoạt động nghiên cứu, giảng dạy liên quan đến dược; cơ sở kinh doanh dược quy định tại khoản 2 Điều 32 của Luật này; cơ sở đã được cấp Giấy chứng nhận đăng ký đầu tư sản xuất thuốc nhưng chưa được cấp Giấy chứng nhận đủ điều kiện kinh doanh dược để sản xuất thử và đánh giá quy trình sản xuất thuốc.. Trường hợp bán thuốc kê đơn, cơ sở sản xuất thuốc được bán thuốc kể từ ngày Bộ Y tế tiếp nhận hồ sơ công bố, công bố lại giá bán buôn thuốc dự kiến;\n",
      "*   Điểm b) Giao nhận, vận chuyển thuốc trong chương trình tài trợ, viện trợ, viện trợ nhân đạo, phòng, chống dịch bệnh đến các cơ sở y tế nhận tài trợ;\n",
      "\n",
      "**Khoản 3. Quyền của Cơ sở nhập khẩu thuốc, nguyên liệu làm thuốc có vốn đầu tư nước ngoài:**\n",
      "\n",
      "*   Điểm a) Bán buôn thuốc, nguyên liệu làm thuốc do chính cơ sở nhập khẩu cho cơ sở bán buôn thuốc, nguyên liệu làm thuốc. Trường hợp bán thuốc kê đơn, cơ sở nhập khẩu thuốc được bán thuốc kể từ ngày Bộ Y tế tiếp nhận hồ sơ công bố, công bố lại giá bán buôn thuốc dự kiến;\n",
      "*   Điểm b) Mua lại thuốc, nguyên liệu làm thuốc do chính cơ sở chuyển giao công nghệ tại Việt Nam; bán thuốc, nguyên liệu làm thuốc do chính cơ sở đặt gia công, chuyển giao công nghệ tại Việt Nam cho cơ sở bán buôn thuốc, nguyên liệu làm thuốc;\n",
      "*   Điểm c) Nhập khẩu nguyên liệu làm thuốc theo đúng phạm vi nêu trên Giấy chứng nhận đủ điều kiện kinh doanh dược để cung cấp cho cơ sở sản xuất thuốc do chính cơ sở đặt gia công, chuyển giao công nghệ tại Việt Nam theo hợp đồng gia công, hợp đồng chuyển giao công nghệ;\n",
      "*   Điểm d) Giao nhận, vận chuyển thuốc, nguyên liệu làm thuốc do cơ sở nhập khẩu, đặt gia công, chuyển giao công nghệ tại Việt Nam từ kho bảo quản thuốc, nguyên liệu làm thuốc của cơ sở đến cơ sở bán buôn thuốc, nguyên liệu làm thuốc;\n",
      "*   Điểm e) Vận chuyển nguyên liệu làm thuốc do cơ sở nhập khẩu từ kho bảo quản nguyên liệu làm thuốc của cơ sở đến cơ sở sản xuất thuốc do chính cơ sở đặt gia công, chuyển giao công nghệ tại Việt Nam theo hợp đồng gia công, hợp đồng chuyển giao công nghệ; vận chuyển thuốc sử dụng trong thử nghiệm lâm sàng do chính cơ sở tài trợ và nhập khẩu tới cơ sở nhận thử thuốc trên lâm sàng;\n",
      "*   Điểm đ) Giao thuốc, vận chuyển thuốc trong chương trình tài trợ, viện trợ, viện trợ nhân đạo, phòng, chống dịch bệnh đến các cơ sở y tế nhận tài trợ;\n",
      "\n",
      "**Khoản 4. Trách nhiệm của Cơ sở kinh doanh dược có vốn đầu tư nước ngoài:**\n",
      "\n",
      "*   Điểm a) Bán, giao nhận, vận chuyển thuốc, nguyên liệu làm thuốc, trừ trường hợp quy định tại khoản 2 và khoản 3 Điều này;\n",
      "*   Điểm b) Nhận bảo quản thuốc, nguyên liệu làm thuốc không phải do chính cơ sở nhập khẩu hoặc sản xuất, đặt gia công, chuyển giao công nghệ tại Việt Nam;\n",
      "*   Điểm c) Nhận đơn đặt hàng, nhận thanh toán thuốc, nguyên liệu làm thuốc của cơ sở khám bệnh, chữa bệnh, cơ sở bán lẻ, cá nhân, tổ chức không phải là cơ sở bán buôn thuốc, nguyên liệu làm thuốc, trừ trường hợp quy định tại khoản 2 Điều này;\n",
      "*   Điểm d) Xác định, áp đặt giá bán thuốc, nguyên liệu làm thuốc do cơ sở kinh doanh dược khác phân phối, trừ trường hợp thực hiện các quy định về quản lý giá thuốc tại Luật này;\n",
      "*   Điểm e) Xây dựng kế hoạch cung ứng thuốc, nguyên liệu làm thuốc của các cơ sở khám bệnh, chữa bệnh tại Việt Nam;\n",
      "*   Điểm g) Hỗ trợ tài chính dưới mọi hình thức cho tổ chức, cá nhân trực tiếp mua thuốc, nguyên liệu làm thuốc của cơ sở nhằm mục đích thao túng việc phân phối thuốc, nguyên liệu làm thuốc nhập khẩu;\n",
      "*   Điểm đ) Quyết định chiến lược phân phối, chính sách kinh doanh thuốc, nguyên liệu làm thuốc do cơ sở kinh doanh dược khác phân phối;\n",
      "*   Điểm 5) Cơ sở kinh doanh dược có vốn đầu tư nước ngoài không được thực hiện hoạt động bán lẻ thuốc, bán buôn thuốc, nguyên liệu làm thuốc, trừ trường hợp quy định tại khoản 2 và khoản 3 Điều này;\n",
      "\n",
      "**Văn bản tham khảo:**\n",
      "\n",
      "*   Điều 53a. Quyền và trách nhiệm của cơ sở kinh doanh dược có vốn đầu tư nước ngoài (44/2024/QH15)\n",
      "*   Chương II điều 5 khoản 56 thuộc văn bản 155/2018/NĐ-CP\n",
      "*   Chương VII mục 1 điều 108 của Nghị định số 54/2017/NĐ-CP\n"
     ]
    }
   ],
   "source": [
    "from openai import OpenAI\n",
    "# Set OpenAI's API key and API base to use vLLM's API server.\n",
    "openai_api_key = \"EMPTY\"\n",
    "openai_api_base = \"http://192.168.126.45:8000/v1\"\n",
    "\n",
    "client = OpenAI(\n",
    "    api_key=openai_api_key,\n",
    "    base_url=openai_api_base,\n",
    ")\n",
    "\n",
    "chat_response = client.chat.completions.create(\n",
    "    model=\"google/gemma-3-4b-it\",\n",
    "    messages=[\n",
    "        {\"role\": \"system\", \"content\": \"Bạn là một AI chuyên xử lý tài liệu pháp lý Tiếng Việt nhiệt tình và trung thực. Hãy luôn trả lời một cách chính xác và chi tiết theo đúng cấu trúc yêu cầu.\"},\n",
    "        {\"role\": \"user\", \"content\": template.format(context = context, question = prompt)},\n",
    "    ],\n",
    "    temperature=0.1,\n",
    "    top_p=0.2,\n",
    "    max_tokens=5000,\n",
    ")\n",
    "\n",
    "print(\"Prompt tokens:\", chat_response.usage.prompt_tokens)\n",
    "print(\"Completion tokens:\", chat_response.usage.completion_tokens)\n",
    "print(\"Total tokens:\", chat_response.usage.total_tokens)\n",
    "print(\"Chat response:\", chat_response.choices[0].message.content)"
   ]
  }
 ],
 "metadata": {
  "kernelspec": {
   "display_name": "llm",
   "language": "python",
   "name": "python3"
  },
  "language_info": {
   "codemirror_mode": {
    "name": "ipython",
    "version": 3
   },
   "file_extension": ".py",
   "mimetype": "text/x-python",
   "name": "python",
   "nbconvert_exporter": "python",
   "pygments_lexer": "ipython3",
   "version": "3.12.9"
  }
 },
 "nbformat": 4,
 "nbformat_minor": 2
}
