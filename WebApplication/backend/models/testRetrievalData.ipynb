{
 "cells": [
  {
   "cell_type": "code",
   "execution_count": 1,
   "metadata": {},
   "outputs": [],
   "source": [
    "from RetrievalData import RetrievalData"
   ]
  },
  {
   "cell_type": "code",
   "execution_count": 3,
   "metadata": {},
   "outputs": [
    {
     "name": "stderr",
     "output_type": "stream",
     "text": [
      "/home/qlcladmin/DuckFong/CODE_WORKSPACE/llm/TraphacoLegalDocLLM/WebApplication/backend/models/RetrievalData.py:41: LangChainDeprecationWarning: The class `HuggingFaceEmbeddings` was deprecated in LangChain 0.2.2 and will be removed in 1.0. An updated version of the class exists in the :class:`~langchain-huggingface package and should be used instead. To use it run `pip install -U :class:`~langchain-huggingface` and import as `from :class:`~langchain_huggingface import HuggingFaceEmbeddings``.\n",
      "  self.embedding_model = HuggingFaceEmbeddings(\n"
     ]
    }
   ],
   "source": [
    "rd = RetrievalData()"
   ]
  },
  {
   "cell_type": "code",
   "execution_count": 4,
   "metadata": {},
   "outputs": [],
   "source": [
    "rd.get_model_ready()"
   ]
  },
  {
   "cell_type": "code",
   "execution_count": 37,
   "metadata": {},
   "outputs": [],
   "source": [
    "prompt = \"Quyền của Công ty dược có vốn đầu tư nước ngoài gồm những nội dung gì?\""
   ]
  },
  {
   "cell_type": "code",
   "execution_count": 38,
   "metadata": {},
   "outputs": [],
   "source": [
    "context = rd.rag_answer(prompt=prompt)"
   ]
  },
  {
   "cell_type": "code",
   "execution_count": 39,
   "metadata": {},
   "outputs": [],
   "source": [
    "from pprint import pprint"
   ]
  },
  {
   "cell_type": "code",
   "execution_count": 40,
   "metadata": {},
   "outputs": [],
   "source": [
    "template = '''Khi trả lời câu hỏi liên quan đến các quy định pháp luật, bạn PHẢI tuân thủ nghiêm ngặt các nguyên tắc sau:\n",
    "- Chỉ trả lời dựa trên thông tin có trong ngữ cảnh được cung cấp, không sử dụng bất kỳ thông tin nào ngoài ngữ cảnh.\n",
    "- Nếu ngữ cảnh chứa câu trả lời, hãy cung cấp câu trả lời chính xác, đầy đủ, bao gồm toàn bộ nội dung liên quan từ ngữ cảnh (văn bản, đề mục, và các chi tiết cụ thể), không bỏ sót thông tin quan trọng.\n",
    "- Phải nêu rõ câu trả lời được lấy từ nội dung của văn bản nào, đề mục như thế nào.\n",
    "- Nêu rõ thông tin bãi bỏ, sửa đổi, bổ sung bên cạnh đề mục đó\n",
    "- Nếu nhiều đề mục cùng nằm trong một đề lục lớn cha, trả lời toàn bộ đề mục thuộc đề mục cha. Không thực hiện tóm tắt lại.\n",
    "- Trích dẫn đầy đủ và chính xác các văn bản, điều, khoản, hoặc đề mục được nêu trong ngữ cảnh để tránh thiếu sót.\n",
    "- Nếu ngữ cảnh không chứa câu trả lời, chỉ từ chối trả lời bằng cách nêu rõ không có thông tin, không suy luận hay bổ sung thêm.\n",
    "\n",
    "Trích xuất đoạn văn bản có liên quan nhất từ tài liệu ngữ cảnh sau\n",
    "### Ngữ cảnh:\n",
    "{context} \n",
    "\n",
    "### Câu hỏi:\n",
    "Trả lời một cách chi tiết câu hỏi sau: {question}.Nêu rõ đề mục và văn bản mà nội dung được trả lời. Chỉ trả về văn bản chính xác từ ngữ cảnh mà không cần sửa đổi, có thể xuống dòng giữa các đề mục. Nêu rõ về nội dung bãi bỏ, sửa đổi bổ sung.\n",
    "\n",
    "### Trả lời:'''"
   ]
  },
  {
   "cell_type": "code",
   "execution_count": null,
   "metadata": {},
   "outputs": [
    {
     "name": "stdout",
     "output_type": "stream",
     "text": [
      "Chat response: Quyền của Công ty dược có vốn đầu tư nước ngoài bao gồm:\n",
      "\n",
      "- Điểm a) Quyền quy định tại các điểm b, c và d khoản 1 Điều 42 của Luật này;\n",
      "- Điểm b) Quyền tương ứng với loại hình cơ sở kinh doanh dược quy định tại các điểm b, c, d, đ và g khoản 1 Điều 43, các điểm b, c và đ khoản 1 Điều 44, các điểm b, c và d khoản 1 Điều 51, các điểm b, c và d khoản 1 Điều 52, các điểm b, c, d và đ khoản 1 Điều 53 của Luật này;\n",
      "\n",
      "Nội dung này được quy định tại Điều 53a, khoản 1 của Luật Dược (44/2024/QH15).\n",
      "\n",
      "Nội dung bãi bỏ, sửa đổi, bổ sung:\n",
      "- Điểm e) của Điều 108, Mục 1, Chương VII, Nghị định 54/2017/NĐ-CP đã được sửa đổi tại Khoản 56 của Nghị định 155/2018/NĐ-CP, cụ thể là:\n",
      "  - Miễn nộp Giấy chứng nhận đủ điều kiện kinh doanh dược do Bộ Y tế cấp đối với cơ sở kinh doanh dược của Việt Nam đứng tên đề nghị xác nhận nội dung thông tin thuốc.\n"
     ]
    }
   ],
   "source": [
    "template = '''Khi trả lời câu hỏi liên quan đến các quy định pháp luật, bạn PHẢI tuân thủ nghiêm ngặt các nguyên tắc sau:\n",
    "- Chỉ trả lời dựa trên thông tin có trong ngữ cảnh được cung cấp, không sử dụng bất kỳ thông tin nào ngoài ngữ cảnh.\n",
    "- Nếu ngữ cảnh chứa câu trả lời, hãy cung cấp câu trả lời chính xác, đầy đủ, bao gồm toàn bộ nội dung liên quan từ ngữ cảnh (văn bản, đề mục, và các chi tiết cụ thể), không bỏ sót thông tin quan trọng.\n",
    "- Phải nêu rõ câu trả lời được lấy từ nội dung của văn bản nào, đề mục như thế nào.\n",
    "- Nêu rõ thông tin bãi bỏ, sửa đổi, bổ sung bên cạnh đề mục đó\n",
    "- Nếu nhiều đề mục cùng nằm trong một đề lục lớn cha, trả lời toàn bộ đề mục thuộc đề mục cha. Không thực hiện tóm tắt lại.\n",
    "- Trích dẫn đầy đủ và chính xác các văn bản, điều, khoản, hoặc đề mục được nêu trong ngữ cảnh để tránh thiếu sót.\n",
    "- Nếu ngữ cảnh không chứa câu trả lời, chỉ từ chối trả lời bằng cách nêu rõ không có thông tin, không suy luận hay bổ sung thêm.\n",
    "\n",
    "Trích xuất đoạn văn bản có liên quan nhất từ tài liệu ngữ cảnh sau\n",
    "### Ngữ cảnh:\n",
    "{context} \n",
    "\n",
    "### Câu hỏi:\n",
    "Trả lời một cách chi tiết câu hỏi sau: {question}.Nêu rõ đề mục và văn bản mà nội dung được trả lời. Chỉ trả về văn bản chính xác từ ngữ cảnh mà không cần sửa đổi, có thể xuống dòng giữa các đề mục. Nêu rõ về nội dung bãi bỏ, sửa đổi bổ sung.\n",
    "\n",
    "### Trả lời:'''\n",
    "\n",
    "\n",
    "from openai import OpenAI\n",
    "# Set OpenAI's API key and API base to use vLLM's API server.\n",
    "openai_api_key = \"EMPTY\"\n",
    "openai_api_base = \"http://192.168.126.45:8000/v1\"\n",
    "\n",
    "client = OpenAI(\n",
    "    api_key=openai_api_key,\n",
    "    base_url=openai_api_base,\n",
    ")\n",
    "\n",
    "chat_response = client.chat.completions.create(\n",
    "    model=\"google/gemma-3-4b-it\",\n",
    "    messages=[\n",
    "        {\"role\": \"system\", \"content\": \"Bạn là một AI chuyên xử lý tài liệu pháp lý Tiếng Việt nhiệt tình và trung thực. Hãy luôn trả lời một cách chính xác và chi tiết theo đúng cấu trúc yêu cầu.\"},\n",
    "        {\"role\": \"user\", \"content\": template.format(context = context, question = prompt)},\n",
    "    ],\n",
    "    temperature=0.1,\n",
    "    top_p=0.2,\n",
    "    max_tokens=5000,\n",
    ")\n",
    "print(\"Chat response:\", chat_response.choices[0].message.content)"
   ]
  }
 ],
 "metadata": {
  "kernelspec": {
   "display_name": "llm",
   "language": "python",
   "name": "python3"
  },
  "language_info": {
   "codemirror_mode": {
    "name": "ipython",
    "version": 3
   },
   "file_extension": ".py",
   "mimetype": "text/x-python",
   "name": "python",
   "nbconvert_exporter": "python",
   "pygments_lexer": "ipython3",
   "version": "3.12.9"
  }
 },
 "nbformat": 4,
 "nbformat_minor": 2
}
