{
 "cells": [
  {
   "cell_type": "code",
   "execution_count": 1,
   "metadata": {},
   "outputs": [],
   "source": [
    "import docx"
   ]
  },
  {
   "cell_type": "code",
   "execution_count": 2,
   "metadata": {},
   "outputs": [],
   "source": [
    "doc = docx.Document(\"data/VBPL test/54_2017_ND-CP ban TV.docx\")"
   ]
  },
  {
   "cell_type": "code",
   "execution_count": null,
   "metadata": {},
   "outputs": [],
   "source": [
    "def extract_text(doc):\n",
    "    body_text = []\n",
    "    for para in doc.paragraphs:\n",
    "        body_text.append(para.text)\n",
    "    return '\\n'.join(body_text)\n",
    "number = doc.tables[0].rows[1].cells[0].text\n",
    "document_text = extract_text(doc).strip()\n"
   ]
  },
  {
   "cell_type": "code",
   "execution_count": 4,
   "metadata": {},
   "outputs": [],
   "source": [
    "heading = \": \".join(document_text.split(\"\\n\")[:2])"
   ]
  },
  {
   "cell_type": "code",
   "execution_count": 8,
   "metadata": {},
   "outputs": [
    {
     "data": {
      "text/plain": [
       "True"
      ]
     },
     "execution_count": 8,
     "metadata": {},
     "output_type": "execute_result"
    }
   ],
   "source": [
    "heading = heading + \" | \" + number\n",
    "\"nghị định\" in heading.lower()"
   ]
  },
  {
   "cell_type": "code",
   "execution_count": 6,
   "metadata": {},
   "outputs": [
    {
     "name": "stdout",
     "output_type": "stream",
     "text": [
      "THÔNG TƯ\n",
      "QUY ĐỊNH VỀ THỰC HÀNH TỐT BẢO QUẢN THUỐC, NGUYÊN LIỆU LÀM THUỐC\n",
      "QUY ĐỊNH CHUNG\n",
      "BAN HÀNH THỰC HÀNH TỐT BẢO QUẢN THUỐC, NGUYÊN LIỆU LÀM THUỐC\n",
      "ĐÁNH GIÁ VIỆC ĐÁP ỨNG THỰC HÀNH TỐT BẢO QUẢN THUỐC, NGUYÊN LIỆU LÀM THUỐC\n",
      "ĐÁNH GIÁ VIỆC DUY TRÌ ĐÁP ỨNG THỰC HÀNH TỐT BẢO QUẢN THUỐC, NGUYÊN LIỆU LÀM THUỐC\n",
      "TUÂN THỦ THỰC HÀNH TỐT BẢO QUẢN THUỐC, NGUYÊN LIỆU LÀM THUỐC CỦA CƠ SỞ CÓ HOẠT ĐỘNG DƯỢC KHÔNG THUỘC DIỆN CẤP GIẤY CHỨNG NHẬN ĐỦ ĐIỀU KIỆN KINH DOANH DƯỢC\n",
      "ĐOÀN ĐÁNH GIÁ VIỆC ĐÁP ỨNG THỰC HÀNH TỐT BẢO QUẢN THUỐC, NGUYÊN LIỆU LÀM THUỐC\n",
      "ĐIỀU KHOẢN THI HÀNH\n",
      "PHỤ LỤC I\n",
      "NGUYÊN TẮC, TIÊU CHUẨN THỰC HÀNH TỐT BẢO QUẢN THUỐC, NGUYÊN LIỆU LÀM THUỐC\n",
      "(Kèm theo Thông tư số 36/2018/TT-BYT ngày 22 tháng 11 năm 2018 của Bộ trưởng Bộ Y tế)\n",
      " \n",
      "PHỤ LỤC II\n",
      "NGUYÊN TẮC, TIÊU CHUẨN THỰC HÀNH TỐT BẢO QUẢN DƯỢC LIỆU, VỊ THUỐC CỔ TRUYỀN\n",
      "(Kèm theo Thông tư số 36/2018/TT-BYT ngày 22 tháng 11 năm 2018 của Bộ trưởng Bộ Y tế)\n",
      "PHỤ LỤC III\n",
      "NGUYÊN TẮC, TIÊU CHUẨN THỰC HÀNH TỐT BẢO QUẢN THUỐC, NGUYÊN LIỆU LÀM THUỐC ĐỐI VỚI CƠ SỞ CÓ HOẠT ĐỘNG BẢO QUẢN THUỐC, NGUYÊN LIỆU LÀM THUỐC KHÔNG VÌ MỤC ĐÍCH THƯƠNG MẠI\n",
      "(Kèm theo Thông tư số 36/2018/TT-BYT ngày 22 tháng 11 năm 2018 của Bộ trưởng Bộ Y tế)\n",
      "PHỤ LỤC IV\n",
      "NGUYÊN TẮC, TIÊU CHUẨN THỰC HÀNH TỐT BẢO QUẢN THUỐC ĐỐI VỚI ĐỐI VỚI CƠ SỞ KHÁM BỆNH, CHỮA BỆNH\n",
      "(Kèm theo Thông tư số 36/2018/TT-BYT ngày 22 tháng 11 năm 2018 của Bộ trưởng Bộ Y tế)\n",
      "PHỤ LỤC V\n",
      "PHÂN LOẠI MỨC ĐỘ TỒN TẠI VÀ ĐÁNH GIÁ MỨC ĐỘ TUÂN THỦ THỰC HÀNH TỐT BẢO QUẢN THUỐC, NGUYÊN LIỆU LÀM THUỐC CỦA CƠ SỞ BẢO QUẢN THUỐC, NGUYÊN LIỆU LÀM THUỐC\n",
      "(Kèm theo Thông tư số 36/2018/TT-BYT ngày 22 tháng 11 năm 2018 của Bộ trưởng Bộ Y tế)\n",
      "PHỤ LỤC VI\n",
      "HỒ SƠ TỔNG THỂ CỦA CƠ SỞ BẢO QUẢN THUỐC, NGUYÊN LIỆU LÀM THUỐC\n",
      "(Kèm theo Thông tư số 36/2018/TT-BYT ngày 22 tháng 11 năm 2018 của Bộ trưởng Bộ Y tế)\n",
      "PHỤ LỤC VII\n",
      "BIỂU MẪU VĂN BẢN\n",
      "(Kèm theo Thông tư số 36/2018/TT-BYT ngày 22 tháng 11 năm 2018 của Bộ trưởng Bộ Y tế)\n",
      "THÔNG BÁO ĐÁP ỨNG\n",
      "THỰC HÀNH TỐT BẢO QUẢN THUỐC, NGUYÊN LIỆU LÀM THUỐC\n",
      "Kính gửi: Cục Quản lý Dược /Cục Quản lý Y, Dược cổ truyền - Bộ Y tế / Sở Y tế tỉnh/thành phố …\n",
      " \n",
      "BÁO CÁO HOẠT ĐỘNG BẢO QUẢN VÀ DUY TRÌ NGUYÊN TẮC THỰC HÀNH TỐT BẢO QUẢN THUỐC, NGUYÊN LIỆU LÀM THUỐC\n",
      "Kính gửi: Cục Quản lý Dược / Cục Quản lý Y, Dược cổ truyền - Bộ Y tế\n",
      "BIÊN BẢN ĐÁNH GIÁ\n",
      "“THỰC HÀNH TỐT BẢO QUẢN THUỐC, NGUYÊN LIỆU LÀM THUỐC” (GSP)\n",
      "BÁO CÁO ĐÁNH GIÁ\n",
      "THỰC HÀNH TỐT BẢO QUẢN THUỐC, NGUYÊN LIỆU LÀM THUỐC (GSP)\n",
      "GIẤY CHỨNG NHẬN ĐÁP ỨNG THỰC HÀNH TỐT BẢO QUẢN THUỐC, NGUYÊN LIỆU LÀM THUỐC (GSP)\n",
      "CERTIFICATE OF GSP COMPLIANCE\n",
      "BÁO CÁO THAY ĐỔI VỀ\n",
      "THỰC HÀNH TỐT BẢO QUẢN THUỐC, NGUYÊN LIỆU LÀM THUỐC\n",
      "Kính gửi: Cục Quản lý Dược / Cục Quản lý Y, Dược cổ truyền - Bộ Y tế\n"
     ]
    }
   ],
   "source": [
    "from docx import Document\n",
    "from docx.enum.text import WD_PARAGRAPH_ALIGNMENT\n",
    "\n",
    "# Load the document\n",
    "doc = Document(\"data/VBPL test/TT36.2018.TTBYT (VBHN+29).docx\")\n",
    "\n",
    "# Iterate through paragraphs and check for center alignment\n",
    "center_aligned_texts = []\n",
    "for para in doc.paragraphs:\n",
    "    if para.alignment == WD_PARAGRAPH_ALIGNMENT.CENTER:\n",
    "        center_aligned_texts.append(para.text)\n",
    "\n",
    "# Print center-aligned texts\n",
    "for text in center_aligned_texts:\n",
    "    print(text)\n"
   ]
  }
 ],
 "metadata": {
  "kernelspec": {
   "display_name": "Python 3",
   "language": "python",
   "name": "python3"
  },
  "language_info": {
   "codemirror_mode": {
    "name": "ipython",
    "version": 3
   },
   "file_extension": ".py",
   "mimetype": "text/x-python",
   "name": "python",
   "nbconvert_exporter": "python",
   "pygments_lexer": "ipython3",
   "version": "3.11.11"
  }
 },
 "nbformat": 4,
 "nbformat_minor": 2
}
