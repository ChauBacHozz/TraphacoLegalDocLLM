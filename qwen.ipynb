{
 "cells": [
  {
   "cell_type": "code",
   "execution_count": 2,
   "metadata": {},
   "outputs": [
    {
     "data": {
      "text/plain": [
       "True"
      ]
     },
     "execution_count": 2,
     "metadata": {},
     "output_type": "execute_result"
    }
   ],
   "source": [
    "import torch\n",
    "torch.cuda.is_available()"
   ]
  },
  {
   "cell_type": "code",
   "execution_count": 3,
   "metadata": {},
   "outputs": [
    {
     "data": {
      "text/plain": [
       "1"
      ]
     },
     "execution_count": 3,
     "metadata": {},
     "output_type": "execute_result"
    }
   ],
   "source": [
    "torch.cuda.device_count()"
   ]
  },
  {
   "cell_type": "code",
   "execution_count": 4,
   "metadata": {},
   "outputs": [
    {
     "data": {
      "text/plain": [
       "0"
      ]
     },
     "execution_count": 4,
     "metadata": {},
     "output_type": "execute_result"
    }
   ],
   "source": [
    "torch.cuda.current_device()"
   ]
  },
  {
   "cell_type": "code",
   "execution_count": 5,
   "metadata": {},
   "outputs": [
    {
     "data": {
      "text/plain": [
       "'NVIDIA GeForce RTX 3060'"
      ]
     },
     "execution_count": 5,
     "metadata": {},
     "output_type": "execute_result"
    }
   ],
   "source": [
    "torch.cuda.get_device_name(0)"
   ]
  },
  {
   "cell_type": "code",
   "execution_count": 13,
   "metadata": {},
   "outputs": [
    {
     "name": "stderr",
     "output_type": "stream",
     "text": [
      "/home/phongnd/anaconda3/envs/llm2/lib/python3.11/site-packages/tqdm/auto.py:21: TqdmWarning: IProgress not found. Please update jupyter and ipywidgets. See https://ipywidgets.readthedocs.io/en/stable/user_install.html\n",
      "  from .autonotebook import tqdm as notebook_tqdm\n",
      "The `load_in_4bit` and `load_in_8bit` arguments are deprecated and will be removed in the future versions. Please, pass a `BitsAndBytesConfig` object in `quantization_config` argument instead.\n",
      "Loading checkpoint shards: 100%|██████████| 4/4 [02:14<00:00, 33.53s/it]\n"
     ]
    }
   ],
   "source": [
    "from transformers import AutoModelForCausalLM, AutoTokenizer\n",
    "\n",
    "model_name = \"Qwen/Qwen2.5-7B-Instruct\"\n",
    "\n",
    "model = AutoModelForCausalLM.from_pretrained(\n",
    "    model_name,\n",
    "    torch_dtype=\"auto\",\n",
    "    device_map=\"auto\",\n",
    "    load_in_8bit=True\n",
    ")\n",
    "tokenizer = AutoTokenizer.from_pretrained(model_name)\n",
    "\n",
    "\n"
   ]
  },
  {
   "cell_type": "code",
   "execution_count": 14,
   "metadata": {},
   "outputs": [
    {
     "name": "stdout",
     "output_type": "stream",
     "text": [
      "Using cuda:0\n"
     ]
    },
    {
     "name": "stderr",
     "output_type": "stream",
     "text": [
      "/home/phongnd/anaconda3/envs/llm2/lib/python3.11/site-packages/bitsandbytes/autograd/_functions.py:315: UserWarning: MatMul8bitLt: inputs will be cast from torch.bfloat16 to float16 during quantization\n",
      "  warnings.warn(f\"MatMul8bitLt: inputs will be cast from {A.dtype} to float16 during quantization\")\n"
     ]
    },
    {
     "name": "stdout",
     "output_type": "stream",
     "text": [
      "Chemosometrics là một lĩnh vực nghiên cứu trong hóa học và thống kê mà mục tiêu chính là sử dụng các kỹ thuật thống kê và toán học để phân tích dữ liệu từ các phương pháp đo lường hóa học. Dưới đây là một số thông tin chi tiết về chemometrics:\n",
      "\n",
      "1. Định nghĩa:\n",
      "Chemosometrics là sự kết hợp giữa hóa học và thống kê, nhằm phát triển các phương pháp để xử lý, phân tích và giải thích dữ liệu hóa học.\n",
      "\n",
      "2. Mục đích:\n",
      "- Phân tích cấu trúc hóa học của các hợp chất.\n",
      "- Xác định các mối quan hệ giữa cấu trúc hóa học và tính chất vật lý, hóa học.\n",
      "- Dự đoán các tính chất của hợp chất mới dựa trên cấu trúc hóa học.\n",
      "- Phân loại và phân tích dữ liệu phức tạp từ các phương pháp phân tích hóa học.\n",
      "\n",
      "3. Các kỹ thuật thường được sử dụng:\n",
      "- Phân tích đa biến (Multivariate analysis)\n",
      "- Phân loại (Classification)\n",
      "- Phân tích hồi quy (Regression analysis)\n",
      "- Phân tích thành phần chính (Principal Component Analysis - PCA)\n",
      "- Phân tích thành phần hữu ích (Partial Least Squares - PLS)\n",
      "\n",
      "4. Áp dụng thực tế:\n",
      "- Dinh dưỡng: Đánh giá chất lượng thức ăn, dự đoán giá trị dinh dưỡng.\n",
      "- Dược phẩm: Phát triển và tối ưu hóa quá trình sản xuất thuốc.\n",
      "- Hóa sinh môi trường: Theo dõi ô nhiễm không khí, nước.\n",
      "- Sản xuất: Quản lý chất lượng sản phẩm, tối ưu hóa quy trình sản xuất.\n",
      "- Sinh học: Phân tích DNA, RNA, protein.\n",
      "\n",
      "5. Thách thức:\n",
      "- Dữ liệu hóa học thường phức tạp và chứa nhiều biến số.\n",
      "- Cần có kiến thức sâu rộng về hóa học và thống kê.\n",
      "- Yêu cầu máy tính mạnh để xử lý dữ liệu lớn.\n",
      "\n",
      "6. Công nghệ hỗ trợ:\n",
      "- Máy tính và phần mềm chuyên dụng cho phân tích đa biến.\n",
      "- Thiết bị phân tích hóa học hiện đại như spectrometry, chromatography.\n",
      "\n",
      "7. Vị trí trong nghiên cứu hóa học:\n",
      "Chemosometrics đóng vai trò quan trọng trong việc tối ưu hóa quy trình nghiên cứu hóa học, giúp nhà khoa học làm việc hiệu quả hơn với dữ liệu phức tạp.\n",
      "\n",
      "Tóm lại, chemometrics là một công cụ mạnh mẽ trong việc giải quyết các vấn đề liên quan đến hóa học thông qua việc sử dụng các phương pháp thống kê và\n"
     ]
    }
   ],
   "source": [
    "with torch.inference_mode():\n",
    "    prompt = \"Giới thiệu cho tôi về chemometrics\"\n",
    "    messages = [\n",
    "        {\"role\": \"system\", \"content\": \"You are Qwen, created by Alibaba Cloud. You are a helpful assistant.\"},\n",
    "        {\"role\": \"user\", \"content\": prompt} \n",
    "    ]\n",
    "    text = tokenizer.apply_chat_template(\n",
    "        messages,\n",
    "        tokenize=False,\n",
    "        add_generation_prompt=True\n",
    "    )\n",
    "    model_inputs = tokenizer([text], return_tensors=\"pt\").to(model.device)\n",
    "    print(\"Using\", model.device)\n",
    "    generated_ids = model.generate(\n",
    "        **model_inputs,\n",
    "        max_new_tokens=512\n",
    "    )\n",
    "    generated_ids = [\n",
    "        output_ids[len(input_ids):] for input_ids, output_ids in zip(model_inputs.input_ids, generated_ids)\n",
    "    ]\n",
    "\n",
    "    response = tokenizer.batch_decode(generated_ids, skip_special_tokens=True)[0]\n",
    "print(response)\n"
   ]
  }
 ],
 "metadata": {
  "kernelspec": {
   "display_name": "llm2",
   "language": "python",
   "name": "python3"
  },
  "language_info": {
   "codemirror_mode": {
    "name": "ipython",
    "version": 3
   },
   "file_extension": ".py",
   "mimetype": "text/x-python",
   "name": "python",
   "nbconvert_exporter": "python",
   "pygments_lexer": "ipython3",
   "version": "3.11.11"
  }
 },
 "nbformat": 4,
 "nbformat_minor": 2
}
