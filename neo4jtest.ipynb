{
 "cells": [
  {
   "cell_type": "code",
   "execution_count": null,
   "metadata": {},
   "outputs": [
    {
     "name": "stdout",
     "output_type": "stream",
     "text": [
      "Connected to Remote Neo4j!\n"
     ]
    }
   ],
   "source": [
    "from neo4j import GraphDatabase\n",
    "\n",
    "WINDOWS_IP = \"28.11.5.39\"\n",
    "URI = f\"bolt://{WINDOWS_IP}:7687\"\n",
    "USERNAME = \"neo4j\"\n",
    "PASSWORD = \"phongthang2012\"\n",
    "\n",
    "driver = GraphDatabase.driver(URI, auth=(USERNAME, PASSWORD))\n",
    "\n",
    "\n",
    "def test_connection():\n",
    "    with driver.session() as session:\n",
    "        result = session.run(\"RETURN 'Connected to Remote Neo4j!' AS message\")\n",
    "        for record in result:\n",
    "            print(record[\"message\"])\n",
    "\n",
    "test_connection()"
   ]
  },
  {
   "cell_type": "code",
   "execution_count": 1,
   "metadata": {},
   "outputs": [],
   "source": [
    "# from neo4j_graphrag.embeddings.sentence_transformers import SentenceTransformerEmbeddings\n",
    "# embedder = SentenceTransformerEmbeddings(model=\"dangvantuan/vietnamese-document-embedding\", trust_remote_code=True)\n"
   ]
  },
  {
   "cell_type": "code",
   "execution_count": 2,
   "metadata": {},
   "outputs": [
    {
     "name": "stderr",
     "output_type": "stream",
     "text": [
      "/tmp/ipykernel_37188/3601335033.py:6: LangChainDeprecationWarning: The class `HuggingFaceEmbeddings` was deprecated in LangChain 0.2.2 and will be removed in 1.0. An updated version of the class exists in the :class:`~langchain-huggingface package and should be used instead. To use it run `pip install -U :class:`~langchain-huggingface` and import as `from :class:`~langchain_huggingface import HuggingFaceEmbeddings``.\n",
      "  embedding_model = HuggingFaceEmbeddings(\n",
      "/home/phongnd/anaconda3/envs/llm2/lib/python3.11/site-packages/tqdm/auto.py:21: TqdmWarning: IProgress not found. Please update jupyter and ipywidgets. See https://ipywidgets.readthedocs.io/en/stable/user_install.html\n",
      "  from .autonotebook import tqdm as notebook_tqdm\n",
      "/home/phongnd/anaconda3/envs/llm2/lib/python3.11/site-packages/torch/cuda/__init__.py:129: UserWarning: CUDA initialization: CUDA unknown error - this may be due to an incorrectly set up environment, e.g. changing env variable CUDA_VISIBLE_DEVICES after program start. Setting the available devices to be zero. (Triggered internally at ../c10/cuda/CUDAFunctions.cpp:108.)\n",
      "  return torch._C._cuda_getDeviceCount() > 0\n"
     ]
    },
    {
     "name": "stdout",
     "output_type": "stream",
     "text": [
      "[Document(metadata={'d_id': '03/2018/TT-BYT'}, page_content='\\ncontent: THÔNG TƯ: QUY ĐỊNH VỀ THỰC HÀNH TỐT PHÂN PHỐI THUỐC, NGUYÊN LIỆU LÀM THUỐC'),\n",
      " Document(metadata={'d_id': '03/2018/TT-BYT', 'path': 'chương V', 'bullet_type': 'chương', 'bullet': 'V'}, page_content='\\ncontent: Chương V ĐOÀN ĐÁNH GIÁ VIỆC ĐÁP ỨNG THỰC HÀNH TỐT PHÂN PHỐI THUỐC, NGUYÊN LIỆU LÀM THUỐC'),\n",
      " Document(metadata={'d_id': '03/2018/TT-BYT', 'path': 'chương III', 'bullet_type': 'chương', 'bullet': 'III'}, page_content='\\ncontent: Chương III ĐÁNH GIÁ VIỆC ĐÁP ỨNG THỰC HÀNH TỐT PHÂN PHỐI THUỐC, NGUYÊN LIỆU LÀM THUỐC'),\n",
      " Document(metadata={'d_id': '105/2016/QH13', 'path': 'chương V > mục 2', 'bullet_type': 'mục', 'bullet': '2'}, page_content='\\ncontent: Mục 2. LƯU HÀNH THUỐC, NGUYÊN LIỆU LÀM THUỐC')]\n"
     ]
    }
   ],
   "source": [
    "from langchain_community.vectorstores import Neo4jVector\n",
    "# from langchain_openai import OpenAIEmbeddings\n",
    "from langchain.embeddings import HuggingFaceEmbeddings\n",
    "import os \n",
    "from dotenv import load_dotenv\n",
    "embedding_model = HuggingFaceEmbeddings(\n",
    "    model_name=\"dangvantuan/vietnamese-document-embedding\", \n",
    "    model_kwargs={\"trust_remote_code\": True},)\n",
    "# load_dotenv()\n",
    "from pprint import pprint\n",
    "\n",
    "# Create the vectorstore for our existing graph\n",
    "paper_graph = Neo4jVector.from_existing_graph(\n",
    "    embedding=embedding_model,\n",
    "    url=\"bolt://28.11.5.39:7687\",\n",
    "    username=\"neo4j\",\n",
    "    password=\"phongthang2012\",\n",
    "    index_name=\"doc_index\",\n",
    "    node_label=\"Doc_Node\",\n",
    "    text_node_properties=[\"content\"],\n",
    "    embedding_node_property=\"doc_embedding\",\n",
    ")\n",
    "# paper_store = Neo4jVector.from_existing_index(\n",
    "#     embedding=embedding_model,\n",
    "#     url=\"bolt://28.11.5.39:7687\",\n",
    "#     username=\"neo4j\",\n",
    "#     password=\"phongthang2012\",\n",
    "#     index_name=\"doc_index\",\n",
    "#     text_node_property=\"content\"\n",
    "# )\n",
    "# query_embedding = embedding_model.embed_query(query)\n",
    "result = paper_graph.similarity_search(\"THÔNG TƯ: QUY ĐỊNH VỀ THỰC HÀNH TỐT PHÂN PHỐI THUỐC, NGUYÊN LIỆU LÀM THUỐC\")\n",
    "pprint(result)"
   ]
  },
  {
   "cell_type": "code",
   "execution_count": 3,
   "metadata": {},
   "outputs": [
    {
     "name": "stdout",
     "output_type": "stream",
     "text": [
      "[Document(metadata={'d_id': '03/2018/TT-BYT'}, page_content='\\ncontent: THÔNG TƯ: QUY ĐỊNH VỀ THỰC HÀNH TỐT PHÂN PHỐI THUỐC, NGUYÊN LIỆU LÀM THUỐC'),\n",
      " Document(metadata={'d_id': '03/2018/TT-BYT', 'path': 'chương V', 'bullet_type': 'chương', 'bullet': 'V'}, page_content='\\ncontent: Chương V ĐOÀN ĐÁNH GIÁ VIỆC ĐÁP ỨNG THỰC HÀNH TỐT PHÂN PHỐI THUỐC, NGUYÊN LIỆU LÀM THUỐC'),\n",
      " Document(metadata={'d_id': '03/2018/TT-BYT', 'path': 'chương III', 'bullet_type': 'chương', 'bullet': 'III'}, page_content='\\ncontent: Chương III ĐÁNH GIÁ VIỆC ĐÁP ỨNG THỰC HÀNH TỐT PHÂN PHỐI THUỐC, NGUYÊN LIỆU LÀM THUỐC'),\n",
      " Document(metadata={'d_id': '105/2016/QH13', 'path': 'chương V > mục 2', 'bullet_type': 'mục', 'bullet': '2'}, page_content='\\ncontent: Mục 2. LƯU HÀNH THUỐC, NGUYÊN LIỆU LÀM THUỐC')]\n"
     ]
    }
   ],
   "source": [
    "result = paper_graph.similarity_search(\"THÔNG TƯ: QUY ĐỊNH VỀ THỰC HÀNH TỐT PHÂN PHỐI THUỐC, NGUYÊN LIỆU LÀM THUỐC\")\n",
    "pprint(result)"
   ]
  },
  {
   "cell_type": "code",
   "execution_count": 4,
   "metadata": {},
   "outputs": [
    {
     "name": "stdout",
     "output_type": "stream",
     "text": [
      "[Document(metadata={'d_id': '03/2018/TT-BYT', 'path': 'phụ lục I > khoản 20', 'bullet_type': 'khoản', 'bullet': '20'}, page_content='20. Hoạt động theo hợp đồng '),\n",
      " Document(metadata={'d_id': '03/2018/TT-BYT', 'path': 'phụ lục II > khoản 14', 'bullet_type': 'khoản', 'bullet': '14'}, page_content='14. Hoạt động hợp đồng '),\n",
      " Document(metadata={'d_id': '54/2017/NĐ-CP', 'path': 'chương II > mục 4 > điều 20', 'bullet_type': 'điều', 'bullet': '20'}, page_content='Điều 20. Nội dung thực hành chuyên môn '),\n",
      " Document(metadata={'d_id': '155/2018/NĐ-CP', 'bullet_type': 'điều', 'bullet': '20'}, page_content='Điều 20. Hiệu lực thi hành ')]\n"
     ]
    }
   ],
   "source": [
    "paper_store = Neo4jVector.from_existing_index(\n",
    "    embedding=embedding_model,\n",
    "    url=\"bolt://28.11.5.39:7687\",\n",
    "    username=\"neo4j\",\n",
    "    password=\"phongthang2012\",\n",
    "    index_name=\"doc_index\",\n",
    "    text_node_property=\"content\"\n",
    ")\n",
    "\n",
    "result = paper_store.similarity_search(\"20. Hoạt động theo hợp đồng\")\n",
    "pprint(result)"
   ]
  },
  {
   "cell_type": "code",
   "execution_count": 33,
   "metadata": {},
   "outputs": [
    {
     "name": "stdout",
     "output_type": "stream",
     "text": [
      "chương II > mục 1 > điều 6 54/2017/NĐ-CP\n",
      "Điều 6. Quy định chi tiết về thủ tục cấp, cấp lại, điều chỉnh nội dung Chứng chỉ hành nghề dược\n",
      "\n",
      "chương III > mục 1 > điều 27 105/2016/QH13\n",
      "Điều 27. Thủ tục cấp, cấp lại, Điều chỉnh nội dung Chứng chỉ hành nghề dược\n",
      "\n",
      "chương II > mục 1 > điều 6 > khoản 1 > điểm b 54/2017/NĐ-CP\n",
      "b) Sở Y tế đối với trường hợp đề nghị cấp, cấp lại, điều chỉnh nội dung Chứng chỉ hành nghề dược theo hình thức xét hồ sơ.\n",
      "\n",
      "chương II > mục 1 > điều 6 > khoản 1 > điểm a 54/2017/NĐ-CP\n",
      "a) Bộ Y tế đối với trường hợp đề nghị cấp, cấp lại, điều chỉnh nội dung Chứng chỉ hành nghề dược theo hình thức thi;\n",
      "\n",
      "chương IV > mục 1 > điều 41 > khoản 2 > điểm a 105/2016/QH13\n",
      "a) Hồ sơ, thủ tục cấp, cấp lại, Điều chỉnh, thu hồi Giấy chứng nhận đủ Điều kiện kinh doanh dược;\n",
      "\n",
      "chương III > mục 1 > điều 12 > khoản 3 105/2016/QH13\n",
      "3. Điều chỉnh nội dung Chứng chỉ hành nghề dược áp dụng đối với trường hợp người đã được cấp Chứng chỉ hành nghề dược nhưng có thay đổi phạm vi hành nghề, hình thức cấp Chứng chỉ hành nghề dược hoặc thông tin của người được cấp Chứng chỉ hành nghề dược.\n",
      "\n",
      "chương II > mục 1 > điều 5 54/2017/NĐ-CP\n",
      "Điều 5. Quy định chi tiết về hồ sơ đề nghị điều chỉnh nội dung Chứng chỉ hành nghề dược\n",
      "\n",
      "chương III > mục 1 > điều 26 105/2016/QH13\n",
      "Điều 26. Hồ sơ đề nghị Điều chỉnh nội dung Chứng chỉ hành nghề dược\n",
      "\n",
      "chương III > mục 1 > điều 32 54/2017/NĐ-CP\n",
      "Điều 32. Quy định chi tiết hồ sơ cấp, cấp lại, điều chỉnh Giấy chứng nhận đủ điều kiện kinh doanh dược\n",
      "\n",
      "chương II > mục 1 > điều 5 > khoản 1 54/2017/NĐ-CP\n",
      "1. Hồ sơ đề nghị điều chỉnh nội dung Chứng chỉ hành nghề dược thực hiện theo quy định tại Điều 26 của Luật dược và được quy định cụ thể như sau:\n",
      "\n"
     ]
    }
   ],
   "source": [
    "from pprint import pprint\n",
    "\n",
    "result = paper_store.similarity_search(\"Điều 6. Quy định chi tiết về thủ tục cấp, cấp lại, điều chỉnh nội dung Chứng chỉ hành nghề dược\", k = 10)\n",
    "\n",
    "\n",
    "for i in result:\n",
    "    print(i.metadata[\"path\"], i.metadata[\"d_id\"])\n",
    "    print(i.page_content.strip())\n",
    "    print()\n",
    "    "
   ]
  },
  {
   "cell_type": "code",
   "execution_count": null,
   "metadata": {},
   "outputs": [
    {
     "name": "stdout",
     "output_type": "stream",
     "text": [
      "[Document(metadata={'d_id': '03/2018/TT-BYT', 'path': 'phụ lục I > khoản 20', 'bullet_type': 'khoản', 'bullet': '20'}, page_content='20. Hoạt động theo hợp đồng '),\n",
      " Document(metadata={'d_id': '03/2018/TT-BYT', 'path': 'phụ lục II > khoản 14', 'bullet_type': 'khoản', 'bullet': '14'}, page_content='14. Hoạt động hợp đồng '),\n",
      " Document(metadata={'d_id': '54/2017/NĐ-CP', 'path': 'chương II > mục 4 > điều 20', 'bullet_type': 'điều', 'bullet': '20'}, page_content='Điều 20. Nội dung thực hành chuyên môn '),\n",
      " Document(metadata={'d_id': '155/2018/NĐ-CP', 'bullet_type': 'điều', 'bullet': '20'}, page_content='Điều 20. Hiệu lực thi hành ')]\n"
     ]
    }
   ],
   "source": [
    "from langchain_community.vectorstores import Neo4jVector\n",
    "# from langchain_openai import OpenAIEmbeddings\n",
    "from langchain.embeddings import HuggingFaceEmbeddings\n",
    "import os \n",
    "from dotenv import load_dotenv\n",
    "embedding_model = HuggingFaceEmbeddings(\n",
    "    model_name=\"dangvantuan/vietnamese-document-embedding\", \n",
    "    model_kwargs={\"trust_remote_code\": True},)\n",
    "paper_store = Neo4jVector.from_existing_index(\n",
    "    embedding=embedding_model,\n",
    "    url=\"bolt://28.11.5.39:7687\",\n",
    "    username=\"neo4j\",\n",
    "    password=\"phongthang2012\",\n",
    "    index_name=\"doc_index\",\n",
    "    text_node_property=\"content\"\n",
    ")\n"
   ]
  },
  {
   "cell_type": "code",
   "execution_count": 58,
   "metadata": {},
   "outputs": [
    {
     "name": "stdout",
     "output_type": "stream",
     "text": [
      "[Document(metadata={'d_id': '105/2016/QH13', 'path': 'chương III > mục 1 > điều 27 > khoản 1', 'c_id': 7306751638, 'bullet_type': 'khoản', 'bullet': '1'}, page_content='1. Người đề nghị cấp Chứng chỉ hành nghề dược nộp hồ sơ đến cơ quan cấp Chứng chỉ hành nghề dược.. Trong thời hạn 20 ngày kể từ ngày nhận đủ hồ sơ đề nghị cấp; 10 ngày kể từ ngày nhận đủ hồ sơ đề nghị cấp lại, Điều chỉnh nội dung Chứng chỉ hành nghề dược, người đứng đầu cơ quan cấp Chứng chỉ hành nghề dược cấp Chứng chỉ hành nghề dược; trường hợp không cấp, phải trả lời bằng văn bản và nêu rõ lý do.'),\n",
      " Document(metadata={'d_id': '54/2017/NĐ-CP', 'path': 'chương II > mục 1 > điều 3', 'bullet_type': 'điều', 'bullet': '3'}, page_content='Điều 3. Quy định chi tiết về hồ sơ đề nghị cấp Chứng chỉ hành nghề dược'),\n",
      " Document(metadata={'d_id': '54/2017/NĐ-CP', 'path': 'chương III > mục 4 > điều 50 > khoản 1', 'bullet_type': 'khoản', 'bullet': '1'}, page_content='1. Cơ sở đề nghị cấp Giấy chứng nhận đủ điều kiện kinh doanh dược nộp hồ sơ trực tiếp hoặc gửi qua đường bưu điện về: '),\n",
      " Document(metadata={'d_id': '54/2017/NĐ-CP', 'path': 'chương II > mục 1 > điều 3 > khoản 1', 'bullet_type': 'khoản', 'bullet': '1'}, page_content='1. Hồ sơ đề nghị cấp Chứng chỉ hành nghề dược thực hiện theo quy định tại Điều 24 của Luật dược và được quy định cụ thể như sau: '),\n",
      " Document(metadata={'d_id': '105/2016/QH13', 'path': 'chương III > mục 1 > điều 27 > khoản 1'}, page_content='1. Người đề nghị cấp Chứng chỉ hành nghề dược nộp hồ sơ đến cơ quan cấp Chứng chỉ hành nghề dược.. Trong thời hạn 20 ngày kể từ ngày nhận đủ hồ sơ đề nghị cấp; 10 ngày kể từ ngày nhận đủ hồ sơ đề nghị cấp lại, Điều chỉnh nội dung Chứng chỉ hành nghề dược, người đứng đầu cơ quan cấp Chứng chỉ hành nghề dược cấp Chứng chỉ hành nghề dược; trường hợp không cấp, phải trả lời bằng văn bản và nêu rõ lý do.'),\n",
      " Document(metadata={'d_id': '54/2017/NĐ-CP', 'path': 'chương II > mục 1 > điều 6 > khoản 9'}, page_content='9. Khi nhận Chứng chỉ hành nghề dược được cấp lại, được điều chỉnh nội dung thì người đề nghị cấp Chứng chỉ hành nghề dược phải nộp lại Chứng chỉ hành nghề dược đã được cấp.. Trường hợp bị mất Chứng chỉ hành nghề dược, người đề nghị cấp Chứng chỉ hành nghề dược phải nộp Đơn đề nghị cấp lại Chứng chỉ hành nghề dược theo Mẫu số 04 tại Phụ lục I ban hành kèm theo Nghị định này.'),\n",
      " Document(metadata={'d_id': '54/2017/NĐ-CP', 'path': 'chương II > mục 1 > điều 6 > khoản 1 > điểm b'}, page_content='b) Sở Y tế đối với trường hợp đề nghị cấp, cấp lại, điều chỉnh nội dung Chứng chỉ hành nghề dược theo hình thức xét hồ sơ.'),\n",
      " Document(metadata={'d_id': '54/2017/NĐ-CP', 'path': 'chương II > mục 1 > điều 6 > khoản 1'}, page_content='1. Người đề nghị cấp, cấp lại, điều chỉnh nội dung Chứng chỉ hành nghề dược nộp hồ sơ trực tiếp hoặc gửi qua đường bưu điện về: '),\n",
      " Document(metadata={'d_id': '105/2016/QH13', 'path': 'chương III > mục 1 > điều 25'}, page_content='Điều 25. Hồ sơ đề nghị cấp lại Chứng chỉ hành nghề dược '),\n",
      " Document(metadata={'d_id': '54/2017/NĐ-CP', 'path': 'chương II > mục 1 > điều 3'}, page_content='Điều 3. Quy định chi tiết về hồ sơ đề nghị cấp Chứng chỉ hành nghề dược'),\n",
      " Document(metadata={'d_id': '54/2017/NĐ-CP', 'path': 'chương II > mục 1 > điều 4'}, page_content='Điều 4. Quy định chi tiết về hồ sơ đề nghị cấp lại Chứng chỉ hành nghề dược'),\n",
      " Document(metadata={'d_id': '54/2017/NĐ-CP', 'path': 'chương II > mục 1 > điều 6 > khoản 10 > điểm a'}, page_content='a) Chứng chỉ hành nghề dược cấp theo hình thức xét hồ sơ được cấp theo Mẫu số 06 tại Phụ lục I ban hành kèm theo Nghị định này;'),\n",
      " Document(metadata={'d_id': '54/2017/NĐ-CP', 'path': 'chương II > mục 1 > điều 6 > khoản 4 > điểm a'}, page_content='a) 10 ngày, kể từ ngày ghi trên Phiếu tiếp nhận hồ sơ đối với hồ sơ đề nghị cấp Chứng chỉ hành nghề dược;'),\n",
      " Document(metadata={'d_id': '54/2017/NĐ-CP', 'path': 'chương II > mục 5 > điều 24 > khoản 1'}, page_content='1. Hồ sơ đề nghị công bố cơ sở tổ chức thi xét cấp Chứng chỉ hành nghề dược gồm: ')]\n"
     ]
    }
   ],
   "source": [
    "from langchain.schema import Document\n",
    "from langchain.vectorstores.utils import maximal_marginal_relevance\n",
    "import numpy as np\n",
    "\n",
    "def hybrid_search(query, k=10):\n",
    "    # Vector Similarity Search\n",
    "    vector_results = paper_store.similarity_search_with_score(query, k=k)\n",
    "\n",
    "    # BM25 Search (Full-Text Index)\n",
    "    keyword_query = f\"\"\"\n",
    "        CALL db.index.fulltext.queryNodes(\"full_doc_index\", \"{query}\") \n",
    "        YIELD node, score \n",
    "        RETURN node.content AS content, node.d_id AS d_id, node.path AS path\n",
    "        LIMIT {k}\n",
    "    \"\"\"\n",
    "    keyword_results = paper_store.query(keyword_query)\n",
    "\n",
    "    # Convert results to LangChain Document objects\n",
    "    vector_documents = [doc for doc, _ in vector_results]\n",
    "    vector_embeddings = np.array([embedding_model.embed_query(doc.page_content) for doc in vector_documents])\n",
    "\n",
    "    keyword_documents = [\n",
    "        Document(page_content=doc[\"content\"], metadata={\"d_id\": doc[\"d_id\"], \"path\": doc[\"path\"]}) \n",
    "        for doc in keyword_results\n",
    "    ]\n",
    "\n",
    "    # Convert query embedding to NumPy array\n",
    "    query_embedding = np.array(embedding_model.embed_query(query))\n",
    "\n",
    "    # Merge using MMR\n",
    "    hybrid_indices = maximal_marginal_relevance(\n",
    "        query_embedding=query_embedding,\n",
    "        embedding_list=vector_embeddings,  # Only embeddings, no documents\n",
    "        lambda_mult=0.9\n",
    "    )\n",
    "\n",
    "    # Return re-ranked documents based on MMR indices\n",
    "    hybrid_results = [vector_documents[i] for i in hybrid_indices]\n",
    "\n",
    "    return hybrid_results + keyword_documents  # Combine with keyword-based retrieval\n",
    "\n",
    "# Run hybrid search\n",
    "query = \"Cách thức nộp hồ sơ đề nghị cấp chứng chỉ hành nghề dược? \"\n",
    "results = hybrid_search(query)\n",
    "pprint(results)\n"
   ]
  },
  {
   "cell_type": "code",
   "execution_count": null,
   "metadata": {},
   "outputs": [
    {
     "ename": "NameError",
     "evalue": "name 'driver' is not defined",
     "output_type": "error",
     "traceback": [
      "\u001b[0;31m---------------------------------------------------------------------------\u001b[0m",
      "\u001b[0;31mNameError\u001b[0m                                 Traceback (most recent call last)",
      "Cell \u001b[0;32mIn[6], line 1\u001b[0m\n\u001b[0;32m----> 1\u001b[0m \u001b[43mdriver\u001b[49m\u001b[38;5;241m.\u001b[39mclose()\n",
      "\u001b[0;31mNameError\u001b[0m: name 'driver' is not defined"
     ]
    }
   ],
   "source": [
    "# driver.close()"
   ]
  }
 ],
 "metadata": {
  "kernelspec": {
   "display_name": "llm2",
   "language": "python",
   "name": "python3"
  },
  "language_info": {
   "codemirror_mode": {
    "name": "ipython",
    "version": 3
   },
   "file_extension": ".py",
   "mimetype": "text/x-python",
   "name": "python",
   "nbconvert_exporter": "python",
   "pygments_lexer": "ipython3",
   "version": "3.11.11"
  }
 },
 "nbformat": 4,
 "nbformat_minor": 2
}
