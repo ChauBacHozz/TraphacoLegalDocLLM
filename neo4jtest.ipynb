{
 "cells": [
  {
   "cell_type": "code",
   "execution_count": 1,
   "metadata": {},
   "outputs": [
    {
     "name": "stdout",
     "output_type": "stream",
     "text": [
      "Connected to Remote Neo4j!\n"
     ]
    }
   ],
   "source": [
    "from neo4j import GraphDatabase\n",
    "\n",
    "WINDOWS_IP = \"28.11.5.39\"\n",
    "URI = f\"bolt://{WINDOWS_IP}:7687\"\n",
    "USERNAME = \"neo4j\"\n",
    "PASSWORD = \"phongthang2012\"\n",
    "\n",
    "driver = GraphDatabase.driver(URI, auth=(USERNAME, PASSWORD))\n",
    "\n",
    "\n",
    "def test_connection():\n",
    "    with driver.session() as session:\n",
    "        result = session.run(\"RETURN 'Connected to Remote Neo4j!' AS message\")\n",
    "        for record in result:\n",
    "            print(record[\"message\"])\n",
    "\n",
    "test_connection()"
   ]
  },
  {
   "cell_type": "code",
   "execution_count": 2,
   "metadata": {},
   "outputs": [],
   "source": [
    "# from neo4j_graphrag.embeddings.sentence_transformers import SentenceTransformerEmbeddings\n",
    "# embedder = SentenceTransformerEmbeddings(model=\"dangvantuan/vietnamese-document-embedding\", trust_remote_code=True)\n"
   ]
  },
  {
   "cell_type": "code",
   "execution_count": null,
   "metadata": {},
   "outputs": [
    {
     "name": "stderr",
     "output_type": "stream",
     "text": [
      "/tmp/ipykernel_10388/1384602514.py:6: LangChainDeprecationWarning: The class `HuggingFaceEmbeddings` was deprecated in LangChain 0.2.2 and will be removed in 1.0. An updated version of the class exists in the :class:`~langchain-huggingface package and should be used instead. To use it run `pip install -U :class:`~langchain-huggingface` and import as `from :class:`~langchain_huggingface import HuggingFaceEmbeddings``.\n",
      "  embedding_model = HuggingFaceEmbeddings(\n",
      "/home/phongnd/anaconda3/envs/llm2/lib/python3.11/site-packages/tqdm/auto.py:21: TqdmWarning: IProgress not found. Please update jupyter and ipywidgets. See https://ipywidgets.readthedocs.io/en/stable/user_install.html\n",
      "  from .autonotebook import tqdm as notebook_tqdm\n"
     ]
    },
    {
     "name": "stdout",
     "output_type": "stream",
     "text": [
      "[Document(metadata={'d_id': 340406751}, page_content='\\ncontent: ')]\n"
     ]
    }
   ],
   "source": [
    "from langchain_community.vectorstores import Neo4jVector\n",
    "# from langchain_openai import OpenAIEmbeddings\n",
    "from langchain.embeddings import HuggingFaceEmbeddings\n",
    "import os \n",
    "from dotenv import load_dotenv\n",
    "embedding_model = HuggingFaceEmbeddings(\n",
    "    model_name=\"dangvantuan/vietnamese-document-embedding\", \n",
    "    model_kwargs={\"trust_remote_code\": True},)\n",
    "# load_dotenv()\n",
    "from pprint import pprint\n",
    "\n",
    "# Create the vectorstore for our existing graph\n",
    "paper_graph = Neo4jVector.from_existing_graph(\n",
    "    embedding=embedding_model,\n",
    "    url=\"bolt://28.11.5.39:7687\",\n",
    "    username=\"neo4j\",\n",
    "    password=\"phongthang2012\",\n",
    "    index_name=\"doc_index\",\n",
    "    node_label=\"Doc_Node\",\n",
    "    text_node_properties=[\"content\"],\n",
    "    embedding_node_property=\"doc_embedding\",\n",
    ")\n",
    "# paper_store = Neo4jVector.from_existing_index(\n",
    "#     embedding=embedding_model,\n",
    "#     url=\"bolt://28.11.5.39:7687\",\n",
    "#     username=\"neo4j\",\n",
    "#     password=\"phongthang2012\",\n",
    "#     index_name=\"doc_index\",\n",
    "#     text_node_property=\"content\"\n",
    "# )\n",
    "# query_embedding = embedding_model.embed_query(query)\n",
    "result = paper_graph.similarity_search(\"THÔNG TƯ: QUY ĐỊNH VỀ THỰC HÀNH TỐT PHÂN PHỐI THUỐC, NGUYÊN LIỆU LÀM THUỐC\")\n",
    "pprint(result)"
   ]
  },
  {
   "cell_type": "code",
   "execution_count": 7,
   "metadata": {},
   "outputs": [
    {
     "name": "stdout",
     "output_type": "stream",
     "text": [
      "[Document(metadata={'d_id': '032018TTBYT'}, page_content='\\ncontent: THÔNG TƯ: QUY ĐỊNH VỀ THỰC HÀNH TỐT PHÂN PHỐI THUỐC, NGUYÊN LIỆU LÀM THUỐC'),\n",
      " Document(metadata={'d_id': '032018TTBYT'}, page_content='\\ncontent: Chương V ĐOÀN ĐÁNH GIÁ VIỆC ĐÁP ỨNG THỰC HÀNH TỐT PHÂN PHỐI THUỐC, NGUYÊN LIỆU LÀM THUỐC'),\n",
      " Document(metadata={'d_id': '032018TTBYT'}, page_content='\\ncontent: Chương III ĐÁNH GIÁ VIỆC ĐÁP ỨNG THỰC HÀNH TỐT PHÂN PHỐI THUỐC, NGUYÊN LIỆU LÀM THUỐC'),\n",
      " Document(metadata={'d_id': '032018TTBYT'}, page_content='\\ncontent: Chương IV ĐÁNH GIÁ VIỆC DUY TRÌ ĐÁP ỨNG THỰC HÀNH TỐT PHÂN PHỐI THUỐC, NGUYÊN LIỆU LÀM THUỐC')]\n"
     ]
    }
   ],
   "source": [
    "result = paper_graph.similarity_search(\"THÔNG TƯ: QUY ĐỊNH VỀ THỰC HÀNH TỐT PHÂN PHỐI THUỐC, NGUYÊN LIỆU LÀM THUỐC\")\n",
    "pprint(result)"
   ]
  },
  {
   "cell_type": "code",
   "execution_count": 4,
   "metadata": {},
   "outputs": [
    {
     "name": "stdout",
     "output_type": "stream",
     "text": [
      "[Document(metadata={'d_id': '032018TTBYT'}, page_content='20. Hoạt động theo hợp đồng '),\n",
      " Document(metadata={'d_id': '032018TTBYT'}, page_content='14. Hoạt động hợp đồng '),\n",
      " Document(metadata={'d_id': 7818584976}, page_content='20.1. Bất kỳ hoạt động nào liên quan đến việc phân phối thuốc được ủy thác cho một cá nhân hay cơ sở khác phải do các bên được cho phép thực hiện chức năng đó tiến hành và phải dưới dạng hợp đồng bằng văn bản, được thống nhất giữa bên hợp đồng và bên nhận hợp đồng.\\n20.2. Hợp đồng phải xác định rõ trách nhiệm của mỗi bên trong đó có nêu các nguyên tắc GDP và các điều khoản đảm bảo liên quan. Hợp đồng phải bao gồm trách nhiệm của bên thực hiện hợp đồng trong việc thực hiện các biện pháp nhằm ngăn chặn tình trạng thuốc giả thâm nhập chuỗi cung ứng.\\n20.3. Tất cả các bên nhận hợp đồng đều phải tuân thủ các yêu cầu của hướng dẫn này.\\n20.4. Có thể chấp nhận hợp đồng phụ trong những điều kiện nhất định và tùy thuộc vào phê duyệt của bên giao kết hợp đồng; tuy nhiên, bên hợp đồng phụ phải được phép thực hiện chức năng hợp đồng phụ.\\n20.5. Các bên nhận hợp đồng phải được kiểm tra định kỳ.'),\n",
      " Document(metadata={'d_id': 3866476495}, page_content='14.1. Bất kỳ hoạt động nào được thực hiện, theo hướng dẫn GMP và GTDP, được ủy thác cho một bên khác đều phải được thỏa thuận thông qua hợp đồng bằng văn bản.\\n14.2. Trước khi đi đến thỏa thuận, bên hợp đồng phải đánh giá mức độ tuân thủ GTDP của bên nhận hợp đồng.\\n14.3. Tất cả các bên nhận hợp đồng phải đáp ứng các yêu cầu trong hướng dẫn này. Đặc biệt lưu ý ngăn chặn tình trạng ô nhiễm chéo và phải duy trì khả năng truy nguyên.\\n14.4. Phải có hợp đồng hoặc thỏa thuận chính thức bằng văn bản và được duyệt ký giữa bên hợp đồng và bên nhận hợp đồng trong đó xác định chi tiết trách nhiệm của các bên theo GTDP và bên nào chịu trách nhiệm đối với biện pháp bảo đảm chất lượng nào.\\n14.5. Có thể được phép ký hợp đồng phụ trong những điều kiện nhất định và tùy thuộc vào phê duyệt của bên giao kết hợp đồng, đặc biệt là đối với các hoạt động như lấy mẫu, phân tích, đóng gói lại và dán nhãn lại./.')]\n"
     ]
    }
   ],
   "source": [
    "paper_store = Neo4jVector.from_existing_index(\n",
    "    embedding=embedding_model,\n",
    "    url=\"bolt://28.11.5.39:7687\",\n",
    "    username=\"neo4j\",\n",
    "    password=\"phongthang2012\",\n",
    "    index_name=\"doc_index\",\n",
    "    text_node_property=\"content\"\n",
    ")\n",
    "\n",
    "result = paper_store.similarity_search(\"20. Hoạt động theo hợp đồng\")\n",
    "pprint(result)"
   ]
  },
  {
   "cell_type": "code",
   "execution_count": 5,
   "metadata": {},
   "outputs": [
    {
     "name": "stdout",
     "output_type": "stream",
     "text": [
      "Document(metadata={'d_id': '032018TTBYT'}, page_content='\\ncontent: Điều 9. Đánh giá định kỳ việc duy trì đáp ứng Thực hành tốt phân phối thuốc, nguyên liệu làm thuốc ')\n",
      "Document(metadata={'d_id': '032018TTBYT'}, page_content='\\ncontent: Điều 10. Xử lý kết quả đánh giá định kỳ việc đáp ứng Thực hành tốt phân phối thuốc, nguyên liệu làm thuốc ')\n",
      "Document(metadata={'d_id': '032018TTBYT'}, page_content='\\ncontent: Điều 6. Trình tự đánh giá việc đáp ứng Thực hành tốt phân phối thuốc, nguyên liệu làm thuốc ')\n",
      "Document(metadata={'d_id': 8805631062}, page_content='\\ncontent: . Thông tư này quy định việc công bố áp dụng và đánh giá việc đáp ứng Thực hành tốt phân phối thuốc, nguyên liệu làm thuốc.')\n"
     ]
    }
   ],
   "source": [
    "from pprint import pprint\n",
    "\n",
    "result = paper_graph.similarity_search(\"Điều 9. Đánh giá định kỳ việc duy trì đáp ứng Thực hành tốt phân phối thuốc, nguyên liệu làm thuốc \")\n",
    "for i in result:\n",
    "    pprint(i)"
   ]
  },
  {
   "cell_type": "code",
   "execution_count": 6,
   "metadata": {},
   "outputs": [],
   "source": [
    "driver.close()"
   ]
  }
 ],
 "metadata": {
  "kernelspec": {
   "display_name": "llm2",
   "language": "python",
   "name": "python3"
  },
  "language_info": {
   "codemirror_mode": {
    "name": "ipython",
    "version": 3
   },
   "file_extension": ".py",
   "mimetype": "text/x-python",
   "name": "python",
   "nbconvert_exporter": "python",
   "pygments_lexer": "ipython3",
   "version": "3.11.11"
  }
 },
 "nbformat": 4,
 "nbformat_minor": 2
}
