{
 "cells": [
  {
   "cell_type": "code",
   "execution_count": 16,
   "metadata": {},
   "outputs": [
    {
     "name": "stdout",
     "output_type": "stream",
     "text": [
      "Connected to Remote Neo4j!\n"
     ]
    }
   ],
   "source": [
    "from neo4j import GraphDatabase\n",
    "\n",
    "WINDOWS_IP = \"28.11.5.39\"\n",
    "URI = f\"bolt://{WINDOWS_IP}:7687\"\n",
    "USERNAME = \"neo4j\"\n",
    "PASSWORD = \"phongthang2012\"\n",
    "\n",
    "driver = GraphDatabase.driver(URI, auth=(USERNAME, PASSWORD))\n",
    "\n",
    "\n",
    "def test_connection():\n",
    "    with driver.session() as session:\n",
    "        result = session.run(\"RETURN 'Connected to Remote Neo4j!' AS message\")\n",
    "        for record in result:\n",
    "            print(record[\"message\"])\n",
    "\n",
    "test_connection()"
   ]
  },
  {
   "cell_type": "code",
   "execution_count": 17,
   "metadata": {},
   "outputs": [],
   "source": [
    "def create_graph(tx, nodes):\n",
    "    # Create nodes\n",
    "    for node in nodes:\n",
    "        tx.run(\"MERGE (n:Node {name: $name})\", name=node)\n",
    "\n",
    "    # Create relationships\n",
    "    for i in range(len(nodes) - 1):\n",
    "        tx.run(\"\"\"\n",
    "            MATCH (a:Node {name: $node1}), (b:Node {name: $node2})\n",
    "            MERGE (a)-[:NEXT]->(b)\n",
    "        \"\"\", node1=nodes[i], node2=nodes[i + 1])\n",
    "\n",
    "# Define node sequence\n",
    "nodes = [\"a\", \"1\", \"2\", \"3\", \"4\", \"5\"]\n",
    "\n",
    "# Run transaction\n",
    "with driver.session() as session:\n",
    "    session.execute_write(create_graph, nodes)"
   ]
  },
  {
   "cell_type": "code",
   "execution_count": 18,
   "metadata": {},
   "outputs": [],
   "source": [
    "driver.close()"
   ]
  }
 ],
 "metadata": {
  "kernelspec": {
   "display_name": "llm2",
   "language": "python",
   "name": "python3"
  },
  "language_info": {
   "codemirror_mode": {
    "name": "ipython",
    "version": 3
   },
   "file_extension": ".py",
   "mimetype": "text/x-python",
   "name": "python",
   "nbconvert_exporter": "python",
   "pygments_lexer": "ipython3",
   "version": "3.11.11"
  }
 },
 "nbformat": 4,
 "nbformat_minor": 2
}
