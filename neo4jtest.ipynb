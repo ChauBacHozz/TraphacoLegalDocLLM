{
 "cells": [
  {
   "cell_type": "code",
   "execution_count": 1,
   "metadata": {},
   "outputs": [
    {
     "name": "stdout",
     "output_type": "stream",
     "text": [
      "Connected to Remote Neo4j!\n"
     ]
    }
   ],
   "source": [
    "from neo4j import GraphDatabase\n",
    "\n",
    "WINDOWS_IP = \"28.11.5.39\"\n",
    "URI = f\"bolt://{WINDOWS_IP}:7687\"\n",
    "USERNAME = \"neo4j\"\n",
    "PASSWORD = \"phongthang2012\"\n",
    "\n",
    "driver = GraphDatabase.driver(URI, auth=(USERNAME, PASSWORD))\n",
    "\n",
    "\n",
    "def test_connection():\n",
    "    with driver.session() as session:\n",
    "        result = session.run(\"RETURN 'Connected to Remote Neo4j!' AS message\")\n",
    "        for record in result:\n",
    "            print(record[\"message\"])\n",
    "\n",
    "test_connection()"
   ]
  },
  {
   "cell_type": "code",
   "execution_count": 2,
   "metadata": {},
   "outputs": [
    {
     "name": "stderr",
     "output_type": "stream",
     "text": [
      "/home/phongnd/anaconda3/envs/llm2/lib/python3.11/site-packages/tqdm/auto.py:21: TqdmWarning: IProgress not found. Please update jupyter and ipywidgets. See https://ipywidgets.readthedocs.io/en/stable/user_install.html\n",
      "  from .autonotebook import tqdm as notebook_tqdm\n"
     ]
    }
   ],
   "source": [
    "# from neo4j_graphrag.retrievers import VectorRetriever\n",
    "# from neo4j_graphrag.llm import OpenAILLM\n",
    "# from neo4j_graphrag.generation import GraphRAG\n",
    "from neo4j_graphrag.embeddings.sentence_transformers import SentenceTransformerEmbeddings\n",
    "# INDEX_NAME = \"vector_index_name\"\n",
    "embedder = SentenceTransformerEmbeddings(model=\"dangvantuan/vietnamese-document-embedding\", trust_remote_code=True)\n",
    "\n",
    "# # Initialize the retriever\n",
    "# retriever = VectorRetriever(driver, INDEX_NAME, embedder)\n",
    "\n",
    "# # 3. LLM\n",
    "# # Note: the OPENAI_API_KEY must be in the env vars\n",
    "# llm = OpenAILLM(model_name=\"gpt-4o\", model_params={\"temperature\": 0})\n",
    "\n",
    "# # Initialize the RAG pipeline\n",
    "# rag = GraphRAG(retriever=retriever, llm=llm)\n",
    "\n",
    "# # Query the graph\n",
    "# query_text = \"Điều 13\"\n",
    "# response = rag.search(query_text=query_text, retriever_config={\"top_k\": 5})\n",
    "# print(response.answer)\n"
   ]
  },
  {
   "cell_type": "code",
   "execution_count": 3,
   "metadata": {},
   "outputs": [],
   "source": [
    "# EMBEDDING_MODEL = \"dangvantuan/vietnamese-document-embedding\"\n",
    "# QWEN_MODEL = \"AITeamVN/Vi-Qwen2-3B-RAG\"\n",
    "# from sentence_transformers import SentenceTransformer\n",
    "# from transformers import AutoModelForCausalLM, AutoTokenizer\n",
    "# import faiss\n",
    "# import torch\n",
    "# import numpy as np\n",
    "# import json\n",
    "\n",
    "# # === CONNECT TO NEO4J ===\n",
    "# class Neo4jHandler:\n",
    "#     def __init__(self, uri, user, password):\n",
    "#         self.driver = GraphDatabase.driver(uri, auth=(user, password))\n",
    "\n",
    "#     def close(self):\n",
    "#         self.driver.close()\n",
    "\n",
    "#     def get_nodes_with_content(self):\n",
    "#         query = \"\"\"\n",
    "#         MATCH (n) WHERE n.content IS NOT NULL\n",
    "#         RETURN n.id AS id, n.content AS content, labels(n) AS type\n",
    "#         \"\"\"\n",
    "#         with self.driver.session() as session:\n",
    "#             result = session.run(query)\n",
    "#             return [record for record in result]\n",
    "\n",
    "#     def get_graph_context(self, node_ids):\n",
    "#         \"\"\" Retrieve related legal clauses via Neo4j Graph Search \"\"\"\n",
    "#         query = f\"\"\"\n",
    "#         MATCH (n) WHERE n.id IN {json.dumps(node_ids)}\n",
    "#         OPTIONAL MATCH (n)-[:PARENT*]->(p)   // Get parent context\n",
    "#         OPTIONAL MATCH (n)-[:NEXT]->(next)   // Get sequential context\n",
    "#         RETURN n.id, n.content, p.content AS parent_content, next.content AS next_content\n",
    "#         \"\"\"\n",
    "#         with self.driver.session() as session:\n",
    "#             results = session.run(query)\n",
    "#             return [record for record in results]\n",
    "\n",
    "# # === EMBEDDING & VECTOR STORAGE ===\n",
    "# class VectorStore:\n",
    "#     def __init__(self, model_name):\n",
    "#         self.model = SentenceTransformer(model_name, trust_remote_code=True)\n",
    "#         self.index = None\n",
    "#         self.id_map = {}  # FAISS ID -> Document ID\n",
    "\n",
    "#     def build_index(self, docs):\n",
    "#         embeddings = np.array([self.model.encode(d[\"content\"]) for d in docs], dtype=\"float32\")\n",
    "#         self.index = faiss.IndexFlatL2(embeddings.shape[1])\n",
    "#         self.index.add(embeddings)\n",
    "#         for i, d in enumerate(docs):\n",
    "#             self.id_map[i] = d[\"id\"]\n",
    "\n",
    "#     def search(self, query, top_k=5):\n",
    "#         query_vec = np.array([self.model.encode(query)], dtype=\"float32\")\n",
    "#         _, indices = self.index.search(query_vec, top_k)\n",
    "#         return [self.id_map[i] for i in indices[0] if i in self.id_map]\n",
    "\n",
    "# # === LLM GENERATION (QWEN) ===\n",
    "# class QwenRAG:\n",
    "#     def __init__(self, model_name):\n",
    "#         self.tokenizer = AutoTokenizer.from_pretrained(model_name, trust_remote_code=True)\n",
    "#         self.model = AutoModelForCausalLM.from_pretrained(model_name, device_map=\"auto\", torch_dtype=torch.float16, trust_remote_code=True)\n",
    "\n",
    "#     def generate(self, query, context):\n",
    "#         prompt = f\"Bạn là một trợ lí Tiếng Việt nhiệt tình và trung thực. Hãy luôn trả lời một cách hữu ích nhất có thể.\\n\\n\"\n",
    "        \n",
    "#         for i, doc in enumerate(context):\n",
    "#             prompt += f\"[{i+1}] {doc['content']}\\n\"\n",
    "#             if doc[\"parent_content\"]:\n",
    "#                 prompt += f\"-> Điều khoản liên quan: {doc['parent_content']}\\n\"\n",
    "#             if doc[\"next_content\"]:\n",
    "#                 prompt += f\"-> Điều khoản tiếp theo: {doc['next_content']}\\n\"\n",
    "#         prompt += f\"\\nHỏi: {query}\\nĐáp:\"\n",
    "\n",
    "#         input_ids = self.tokenizer(prompt, return_tensors=\"pt\").input_ids.to(\"cuda\")\n",
    "#         output_ids = self.model.generate(input_ids, max_length=1024)\n",
    "#         return self.tokenizer.decode(output_ids[0], skip_special_tokens=True)\n",
    "\n",
    "# # === MAIN SCRIPT ===\n",
    "# if __name__ == \"__main__\":\n",
    "#     neo4j_handler = Neo4jHandler(URI, USERNAME, PASSWORD)\n",
    "\n",
    "#     # Step 1: Extract nodes\n",
    "#     nodes = neo4j_handler.get_nodes_with_content()\n",
    "\n",
    "#     # Step 2: Build FAISS vector index\n",
    "#     vector_store = VectorStore(EMBEDDING_MODEL)\n",
    "#     vector_store.build_index(nodes)\n",
    "\n",
    "#     # Step 3: Query the legal database\n",
    "#     query_text = \"Điều kiện để phân phối thuốc\"  # Example query\n",
    "#     result_ids = vector_store.search(query_text)\n",
    "\n",
    "#     # Step 4: Retrieve Graph Context from Neo4j\n",
    "#     if result_ids:\n",
    "#         graph_context = neo4j_handler.get_graph_context(result_ids)\n",
    "        \n",
    "#         # Step 5: Generate Answer using Qwen\n",
    "#         qwen_rag = QwenRAG(QWEN_MODEL)\n",
    "#         response = qwen_rag.generate(query_text, graph_context)\n",
    "\n",
    "#         print(\"==== Câu trả lời của AI ====\")\n",
    "#         print(response)\n",
    "\n",
    "#     neo4j_handler.close()"
   ]
  },
  {
   "cell_type": "code",
   "execution_count": 9,
   "metadata": {},
   "outputs": [
    {
     "name": "stdout",
     "output_type": "stream",
     "text": [
      "[]\n"
     ]
    }
   ],
   "source": [
    "from langchain_community.vectorstores import Neo4jVector\n",
    "# from langchain_openai import OpenAIEmbeddings\n",
    "from langchain.embeddings import HuggingFaceEmbeddings\n",
    "import os \n",
    "from dotenv import load_dotenv\n",
    "embedding_model = HuggingFaceEmbeddings(\n",
    "    model_name=\"dangvantuan/vietnamese-document-embedding\", \n",
    "    model_kwargs={\"trust_remote_code\": True},)\n",
    "load_dotenv()\n",
    "from pprint import pprint\n",
    "\n",
    "# Create the vectorstore for our existing graph\n",
    "paper_graph = Neo4jVector.from_existing_graph(\n",
    "    embedding=embedding_model,\n",
    "    url=\"bolt://28.11.5.39:7687\",\n",
    "    username=\"neo4j\",\n",
    "    password=\"phongthang2012\",\n",
    "    index_name=\"doc_index\",\n",
    "    node_label=\"Doc_Node\",\n",
    "    text_node_properties=[\"content\"],\n",
    "    embedding_node_property=\"doc_embedding\",\n",
    ")\n",
    "# paper_store = Neo4jVector.from_existing_index(\n",
    "#     embedding=embedding_model,\n",
    "#     url=\"bolt://28.11.5.39:7687\",\n",
    "#     username=\"neo4j\",\n",
    "#     password=\"phongthang2012\",\n",
    "#     index_name=\"doc_index\",\n",
    "#     text_node_property=\"content\"\n",
    "# )\n",
    "\n",
    "result = paper_graph.similarity_search(\"Cơ sở phân phối\")\n",
    "pprint(result)"
   ]
  },
  {
   "cell_type": "code",
   "execution_count": null,
   "metadata": {},
   "outputs": [
    {
     "name": "stdout",
     "output_type": "stream",
     "text": [
      "('2. Trường hợp biên bản đánh giá GDP kết luận cơ sở phân phối tuân thủ GDP ở '\n",
      " 'mức độ 2 theo quy định tại điểm b khoản 2 Điều 7 Thông tư này:. a) Trong '\n",
      " 'thời hạn 05 ngày, kể từ ngày hoàn thành việc đánh giá thực tế tại cơ sở phân '\n",
      " 'phối và ký biên bản đánh giá, Sở Y tế gửi văn bản yêu cầu cơ sở phân phối '\n",
      " 'khắc phục, sửa chữa theo nội dung được ghi trong Biên bản đánh giá.. Trường '\n",
      " 'hợp cơ sở phân phối thuốc phải kiểm soát đặc biệt, trong thời hạn 15 ngày, '\n",
      " 'kể từ ngày hoàn thành việc đánh giá thực tế tại cơ sở phân phối và ký biên '\n",
      " 'bản đánh giá, Sở Y tế gửi văn bản yêu cầu cơ sở phân phối khắc phục, sửa '\n",
      " 'chữa tồn tại được ghi trong Biên bản đánh giá.. b) Sau khi hoàn thành việc '\n",
      " 'khắc phục, sửa chữa, cơ sở phân phối phải có văn bản thông báo kèm theo các '\n",
      " 'bằng chứng (hồ sơ tài liệu, hình ảnh, video, giấy chứng nhận) chứng minh đã '\n",
      " 'hoàn thành việc khắc phục, sửa chữa tồn tại được ghi trong Biên bản đánh '\n",
      " 'giá;. c) Trong thời hạn 20 ngày, kể từ ngày nhận được báo cáo khắc phục, Sở '\n",
      " 'Y tế đánh giá kết quả khắc phục của cơ sở phân phối và kết luận về tình '\n",
      " 'trạng đáp ứng GDP của cơ sở phân phối:. - Trường hợp việc khắc phục của cơ '\n",
      " 'sở phân phối đã đáp ứng yêu cầu: Sở Y tế cấp Giấy chứng nhận đủ điều kiện '\n",
      " 'kinh doanh dược hoặc thực hiện việc cấp Giấy chứng nhận GDP theo Mẫu số 06 '\n",
      " 'quy định tại Phụ lục IV kèm theo Thông tư này;. - Trường hợp việc khắc phục '\n",
      " 'của cơ sở phân phối chưa đáp ứng yêu cầu, Sở Y tế có văn bản trả lời lý do '\n",
      " 'chưa cấp.. d) Trong thời hạn 06 tháng, kể từ ngày Sở Y tế có văn bản yêu cầu '\n",
      " 'sửa đổi, bổ sung, cơ sở phân phối phải nộp hồ sơ sửa đổi, bổ sung theo yêu '\n",
      " 'cầu. Sau thời hạn trên, cơ sở phân phối không sửa đổi, bổ sung hoặc sau 12 '\n",
      " 'tháng kể từ ngày nộp hồ sơ đề nghị lần đầu mà hồ sơ bổ sung không đáp ứng '\n",
      " 'yêu cầu thì hồ sơ đã nộp không còn giá trị.')\n"
     ]
    }
   ],
   "source": [
    "paper_store = Neo4jVector.from_existing_index(\n",
    "    embedding=embedding_model,\n",
    "    url=\"bolt://28.11.5.39:7687\",\n",
    "    username=\"neo4j\",\n",
    "    password=\"phongthang2012\",\n",
    "    index_name=\"doc_index\",\n",
    "    text_node_property=\"content\"\n",
    ")\n",
    "\n",
    "result = paper_store.similarity_search(\"20. Hoạt động theo hợp đồng\")\n",
    "pprint(result[0].page_content)"
   ]
  },
  {
   "cell_type": "code",
   "execution_count": null,
   "metadata": {},
   "outputs": [
    {
     "name": "stdout",
     "output_type": "stream",
     "text": [
      "Document(metadata={'d_id': 8805631062}, page_content='\\ncontent: . Thông tư này quy định việc công bố áp dụng và đánh giá việc đáp ứng Thực hành tốt phân phối thuốc, nguyên liệu làm thuốc.')\n",
      "Document(metadata={'d_id': 907374565}, page_content='\\ncontent: 3. Thực hành tốt phân phối thuốc, nguyên liệu làm thuốc là bộ nguyên tắc, tiêu chuẩn về phân phối thuốc, nguyên liệu làm thuốc nhằm bảo đảm chất lượng của thuốc, nguyên liệu làm thuốc được duy trì thông qua việc kiểm soát đầy đủ các hoạt động trong quá trình phân phối và tránh sự thâm nhập của thuốc, nguyên liệu làm thuốc không được phép lưu hành vào hệ thống phân phối.')\n",
      "Document(metadata={'d_id': 6986604295}, page_content='\\ncontent: 14.1. Phải có hướng dẫn bằng văn bản và hồ sơ ghi chép tất cả các hoạt động liên quan đến việc phân phối thuốc, kể cả việc tiếp nhận và phát hành (hóa đơn). Hồ sơ, sổ sách phải được lưu giữ ít nhất trong 7 năm trừ khi có quy định khác của pháp luật.\\n14.2. Các cơ sở phân phối phải lưu giữ hồ sơ, sổ sách về tất cả các thuốc đã tiếp nhận. Hồ sơ ít nhất phải bao gồm các thông tin sau:\\n- Tên thuốc; nồng độ, hàm lượng, quy cách đóng gói, giấy phép lưu hành, phiếu kiểm nghiệm, ngày sản xuất, số lô, hạn dùng.\\n- Tên nhà sản xuất, nhà nhập khẩu (nếu có), nhà cung cấp, số lượng nhập, thời gian nhập; biên bản kiểm nhập.\\n- Tên và địa chỉ, số điện thoại, thư điện tử (nếu có) của cơ sở mua thuốc, số lượng xuất bán, thời gian xuất kho, biên bản giao nhận thuốc.\\n14.3. Phải xây dựng và duy trì các quy trình chuẩn bị, rà soát, phê duyệt, sử dụng và kiểm soát những thay đổi đối với tất cả hồ sơ, sổ sách liên quan tới quá trình phân phối. Phải có quy trình cho các hồ sơ, tài liệu do nội bộ cơ sở xây dựng và cho hồ sơ, tài liệu lấy từ nguồn bên ngoài.\\n14.4. Các tài liệu và đặc biệt là các hướng dẫn và quy trình liên quan tới bất kỳ hoạt động nào có thể ảnh hưởng đến chất lượng của thuốc, phải được thiết kế, hoàn thiện, rà soát và phân phối một cách thận trọng.\\n14.5. Tiêu đề, bản chất và mục đích của mỗi tài liệu phải được nêu rõ ràng. Nội dung của các tài liệu phải rõ ràng, rành mạch. Các tài liệu này phải được trình bày có trật tự để dễ kiểm tra.\\n14.6. Tất cả các tài liệu đều phải do người có thẩm quyền phù hợp hoàn thiện, phê duyệt, ký và ghi ngày, tháng, năm và không được thay đổi khi không được phép.\\n14.7. Hình thức tài liệu, nội dung và việc lưu giữ tài liệu liên quan đến việc phân phối các thuốc, hoặc liên quan đến bất kỳ cuộc điều tra, hành động pháp lý nào được thực hiện đều phải tuân thủ các quy định của pháp luật liên quan. Trường hợp pháp luật không có các quy định cụ thể liên quan thì hồ sơ, tài liệu phải được lưu giữ trong ít nhất một năm kể từ sau ngày hết hạn sử dụng của sản phẩm liên quan.\\n14.8. Cơ sở phân phối phải xây dựng và duy trì các quy trình nhận dạng, thu thập, lập chỉ mục, hồi cứu, bảo quản, bảo trì, loại bỏ và tiếp cận tất cả các hồ sơ, tài liệu thích hợp.\\n14.9. Tất cả các hồ sơ, sổ sách phải luôn sẵn sàng cho việc tra cứu, rà soát và phải được bảo quản và lưu trữ bằng các phương tiện an toàn, ngăn ngừa việc sửa chữa không được phép, hủy hoại, gây hư hỏng và/hoặc mất hồ sơ tài liệu.\\n14.10. Tài liệu phải thường xuyên được rà soát và cập nhật. Khi có một tài liệu nào đó được sửa đổi thì phải có hệ thống phù hợp phòng ngừa việc vô ý tiếp tục sử dụng các phiên bản tài liệu cũ.\\n14.11. Phải có máy tính kết nối internet và thực hiện quản lý hoạt động phân phối thuốc bằng phần mềm vi tính. Có cơ chế chuyển thông tin về việc phân phối thuốc, chất lượng thuốc giữa nhà sản xuất với khách hàng cũng như việc chuyển giao thông tin cho cơ quan quản lý liên quan khi được yêu cầu.\\n14.12. Các hồ sơ, sổ sách liên quan tới việc bảo quản thuốc phải được lưu giữ và có sẵn khi được yêu cầu, phù hợp với Hướng dẫn Thực hành tốt bảo quản thuốc của WHO.\\n14.13. Phải có hồ sơ bằng văn bản hoặc điện tử đối với mỗi sản phẩm được bảo quản, trong đó chỉ ra các điều kiện bảo quản được khuyến cáo, cảnh báo cần lưu ý và thời điểm tiến hành kiểm tra lại. Các yêu cầu của dược điển và các quy định hiện hành của pháp luật liên quan đến nhãn và và bao bì phải luôn luôn được tuân thủ.\\nHồ sơ, sổ sách liên quan đến thuốc gây nghiện, thuốc hướng tâm thần, tiền chất, thuốc dạng phối hợp có chứa dược chất gây nghiện, thuốc dạng phối hợp có chứa dược chất hướng tâm thần, thuốc dạng phối hợp có chứa tiền chất; thuốc độc, nguyên liệu độc làm thuốc, thuốc và dược chất trong Danh mục thuốc, dược chất thuộc danh mục chất bị cấm sử dụng trong một số ngành, lĩnh vực theo đúng quy định của pháp luật tại các quy chế liên quan.\\n14.14. Phải có các quy trình về đánh giá độ đồng đều nhiệt độ, các quy định về an ninh để đề phòng tình trạng trộm cắp hoặc làm giả sản phẩm tại các cơ sở bảo quản, về việc loại bỏ/hủy bỏ các sản phẩm không bán được hoặc không sử dụng được và về việc lưu trữ hồ sơ.\\n14.15. Đối với các cơ sở xây dựng và lưu trữ hồ sơ dưới dạng hồ sơ điện tử thì phải được sao lưu dự phòng tránh trường hợp sự cố mất dữ liệu.')\n",
      "Document(metadata={'d_id': 3369575602}, page_content='\\ncontent: 2. Phân phối nguyên liệu làm thuốc là việc phân chia và di chuyển, bảo quản nguyên liệu làm thuốc trong quá trình di chuyển từ kho của cơ sở sản xuất nguyên liệu làm thuốc, cơ sở nhập khẩu nguyên liệu làm thuốc đến cơ sở sản xuất thuốc thành phẩm hoặc đến các điểm phân phối, bảo quản của cơ sở phân phối hoặc giữa các điểm phân phối bằng các phương tiện vận chuyển khác nhau.')\n"
     ]
    }
   ],
   "source": [
    "from pprint import pprint\n",
    "\n",
    "result = paper_graph.similarity_search(\"Điều 9. Đánh giá định kỳ việc duy trì đáp ứng Thực hành tốt phân phối thuốc, nguyên liệu làm thuốc \")\n",
    "for i in result:\n",
    "    pprint(i)"
   ]
  },
  {
   "cell_type": "code",
   "execution_count": null,
   "metadata": {},
   "outputs": [],
   "source": [
    "driver.close()"
   ]
  }
 ],
 "metadata": {
  "kernelspec": {
   "display_name": "llm2",
   "language": "python",
   "name": "python3"
  },
  "language_info": {
   "codemirror_mode": {
    "name": "ipython",
    "version": 3
   },
   "file_extension": ".py",
   "mimetype": "text/x-python",
   "name": "python",
   "nbconvert_exporter": "python",
   "pygments_lexer": "ipython3",
   "version": "3.11.11"
  }
 },
 "nbformat": 4,
 "nbformat_minor": 2
}
