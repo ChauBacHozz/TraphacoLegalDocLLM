{
 "cells": [
  {
   "cell_type": "code",
   "execution_count": 4,
   "metadata": {},
   "outputs": [
    {
     "name": "stdout",
     "output_type": "stream",
     "text": [
      "Connected to Remote Neo4j!\n"
     ]
    }
   ],
   "source": [
    "from neo4j import GraphDatabase\n",
    "\n",
    "WINDOWS_IP = \"28.11.5.39\"\n",
    "URI = \"neo4j+s://13d9b8ff.databases.neo4j.io\"\n",
    "USERNAME = \"neo4j\"\n",
    "PASSWORD = \"tDJXOWtq9GSTnXqQyVFmb2xiR3GREbxnU8m9MxxWHwU\"\n",
    "driver = GraphDatabase.driver(URI, auth=(USERNAME, PASSWORD))\n",
    "\n",
    "\n",
    "\n",
    "def test_connection():\n",
    "    with driver.session() as session:\n",
    "        result = session.run(\"RETURN 'Connected to Remote Neo4j!' AS message\")\n",
    "        for record in result:\n",
    "            print(record[\"message\"])\n",
    "\n",
    "test_connection()"
   ]
  },
  {
   "cell_type": "code",
   "execution_count": 1,
   "metadata": {},
   "outputs": [],
   "source": [
    "# from neo4j_graphrag.embeddings.sentence_transformers import SentenceTransformerEmbeddings\n",
    "# embedder = SentenceTransformerEmbeddings(model=\"dangvantuan/vietnamese-document-embedding\", trust_remote_code=True)\n"
   ]
  },
  {
   "cell_type": "code",
   "execution_count": 5,
   "metadata": {},
   "outputs": [
    {
     "name": "stdout",
     "output_type": "stream",
     "text": [
      "[Document(metadata={'d_id': '03/2018/TT-BYT'}, page_content='\\ncontent: THÔNG TƯ: QUY ĐỊNH VỀ THỰC HÀNH TỐT PHÂN PHỐI THUỐC, NGUYÊN LIỆU LÀM THUỐC'),\n",
      " Document(metadata={'d_id': '03/2018/TT-BYT', 'path': 'chương V', 'bullet_type': 'chương', 'bullet': 'V'}, page_content='\\ncontent: Chương V ĐOÀN ĐÁNH GIÁ VIỆC ĐÁP ỨNG THỰC HÀNH TỐT PHÂN PHỐI THUỐC, NGUYÊN LIỆU LÀM THUỐC'),\n",
      " Document(metadata={'d_id': '03/2018/TT-BYT', 'path': 'chương III', 'bullet_type': 'chương', 'bullet': 'III'}, page_content='\\ncontent: Chương III ĐÁNH GIÁ VIỆC ĐÁP ỨNG THỰC HÀNH TỐT PHÂN PHỐI THUỐC, NGUYÊN LIỆU LÀM THUỐC'),\n",
      " Document(metadata={'d_id': '36/2018/TT-BYT'}, page_content='\\ncontent: THÔNG TƯ: QUY ĐỊNH VỀ THỰC HÀNH TỐT BẢO QUẢN THUỐC, NGUYÊN LIỆU LÀM THUỐC')]\n"
     ]
    }
   ],
   "source": [
    "from langchain_community.vectorstores import Neo4jVector\n",
    "# from langchain_openai import OpenAIEmbeddings\n",
    "from langchain.embeddings import HuggingFaceEmbeddings\n",
    "import os \n",
    "from dotenv import load_dotenv\n",
    "embedding_model = HuggingFaceEmbeddings(\n",
    "    model_name=\"dangvantuan/vietnamese-document-embedding\", \n",
    "    model_kwargs={\"trust_remote_code\": True},)\n",
    "# load_dotenv()\n",
    "from pprint import pprint\n",
    "\n",
    "# Create the vectorstore for our existing graph\n",
    "paper_graph = Neo4jVector.from_existing_graph(\n",
    "    embedding=embedding_model,\n",
    "    url=\"neo4j+s://13d9b8ff.databases.neo4j.io\",\n",
    "    username=\"neo4j\",\n",
    "    password=\"tDJXOWtq9GSTnXqQyVFmb2xiR3GREbxnU8m9MxxWHwU\",\n",
    "    index_name=\"doc_index\",\n",
    "    node_label=\"Doc_Node\",\n",
    "    text_node_properties=[\"content\"],\n",
    "    embedding_node_property=\"doc_embedding\",\n",
    ")\n",
    "# paper_store = Neo4jVector.from_existing_index(\n",
    "#     embedding=embedding_model,\n",
    "#     url=\"bolt://28.11.5.39:7687\",\n",
    "#     username=\"neo4j\",\n",
    "#     password=\"phongthang2012\",\n",
    "#     index_name=\"doc_index\",\n",
    "#     text_node_property=\"content\"\n",
    "# )\n",
    "# query_embedding = embedding_model.embed_query(query)\n",
    "result = paper_graph.similarity_search(\"THÔNG TƯ: QUY ĐỊNH VỀ THỰC HÀNH TỐT PHÂN PHỐI THUỐC, NGUYÊN LIỆU LÀM THUỐC\")\n",
    "pprint(result)"
   ]
  },
  {
   "cell_type": "code",
   "execution_count": 7,
   "metadata": {},
   "outputs": [
    {
     "name": "stdout",
     "output_type": "stream",
     "text": [
      "[Document(metadata={'d_id': '44/2024/QH15', 'path': 'điều 1 > khoản 27 > Điều 53a. Quyền và trách nhiệm của cơ sở kinh doanh dược có vốn đầu tư nước ngoài > 2. Cơ sở sản xuất thuốc, nguyên liệu làm thuốc có vốn đầu tư nước ngoài có các quyền quy định tại khoản 1 Điều này và các quyền sau đây:', 'bullet_type': 'khoản', 'bullet': '2'}, page_content='\\ncontent: 2. Cơ sở sản xuất thuốc, nguyên liệu làm thuốc có vốn đầu tư nước ngoài có các quyền quy định tại khoản 1 Điều này và các quyền sau đây:'),\n",
      " Document(metadata={'d_id': '44/2024/QH15', 'path': 'điều 1 > khoản 27 > Điều 53a. Quyền và trách nhiệm của cơ sở kinh doanh dược có vốn đầu tư nước ngoài > 3. Cơ sở nhập khẩu thuốc, nguyên liệu làm thuốc có vốn đầu tư nước ngoài có các quyền quy định tại khoản 1 Điều này và các quyền sau đây:', 'bullet_type': 'khoản', 'bullet': '3'}, page_content='\\ncontent: 3. Cơ sở nhập khẩu thuốc, nguyên liệu làm thuốc có vốn đầu tư nước ngoài có các quyền quy định tại khoản 1 Điều này và các quyền sau đây:'),\n",
      " Document(metadata={'d_id': '44/2024/QH15', 'path': 'điều 1 > khoản 27 > Điều 53a. Quyền và trách nhiệm của cơ sở kinh doanh dược có vốn đầu tư nước ngoài > 1. Cơ sở kinh doanh dược quy định tại các điểm a, b, e, g và h khoản 2 Điều 32 của Luật này có vốn đầu tư nước ngoài có các quyền sau đây:', 'bullet_type': 'khoản', 'bullet': '1'}, page_content='\\ncontent: 1. Cơ sở kinh doanh dược quy định tại các điểm a, b, e, g và h khoản 2 Điều 32 của Luật này có vốn đầu tư nước ngoài có các quyền sau đây:'),\n",
      " Document(metadata={'d_id': '44/2024/QH15', 'path': 'điều 1 > khoản 27 > Điều 53a. Quyền và trách nhiệm của cơ sở kinh doanh dược có vốn đầu tư nước ngoài', 'bullet_type': 'điều', 'bullet': '53a'}, page_content='\\ncontent: Điều 53a. Quyền và trách nhiệm của cơ sở kinh doanh dược có vốn đầu tư nước ngoài'),\n",
      " Document(metadata={'d_id': '44/2024/QH15', 'path': 'điều 1 > khoản 27 > Điều 53a. Quyền và trách nhiệm của cơ sở kinh doanh dược có vốn đầu tư nước ngoài > 5. Cơ sở kinh doanh dược có vốn đầu tư nước ngoài không được thực hiện hoạt động bán lẻ thuốc, bán buôn thuốc, nguyên liệu làm thuốc, trừ trường hợp quy định tại khoản 2 và khoản 3 Điều này.._(modified_sub_nodes)', 'bullet_type': 'khoản', 'bullet': '5'}, page_content='\\ncontent: 5. Cơ sở kinh doanh dược có vốn đầu tư nước ngoài không được thực hiện hoạt động bán lẻ thuốc, bán buôn thuốc, nguyên liệu làm thuốc, trừ trường hợp quy định tại khoản 2 và khoản 3 Điều này..'),\n",
      " Document(metadata={'d_id': '44/2024/QH15', 'path': 'điều 1 > khoản 5 > Điều 8. Chính sách ưu đãi, hỗ trợ đầu tư trong phát triển công nghiệp dược > 2. Dự án đầu tư thành lập mới (bao gồm cả việc mở rộng dự án thành lập mới đó) trong phát triển công nghiệp dược có tổng vốn đầu tư từ 3.000 tỷ đồng trở lên, thực hiện giải ngân tối thiểu 1.000 tỷ đồng trong thời hạn 03 năm kể từ ngày được cấp Giấy chứng nhận đăng ký đầu tư hoặc chấp thuận chủ trương đầu tư thì được áp dụng ưu đãi và hỗ trợ đầu tư đặc biệt như đối tượng quy định tại điểm a khoản 2 Điều 20 của Luật Đầu tư, bao gồm:', 'bullet_type': 'khoản', 'bullet': '2'}, page_content='\\ncontent: 2. Dự án đầu tư thành lập mới (bao gồm cả việc mở rộng dự án thành lập mới đó) trong phát triển công nghiệp dược có tổng vốn đầu tư từ 3.000 tỷ đồng trở lên, thực hiện giải ngân tối thiểu 1.000 tỷ đồng trong thời hạn 03 năm kể từ ngày được cấp Giấy chứng nhận đăng ký đầu tư hoặc chấp thuận chủ trương đầu tư thì được áp dụng ưu đãi và hỗ trợ đầu tư đặc biệt như đối tượng quy định tại điểm a khoản 2 Điều 20 của Luật Đầu tư, bao gồm:'),\n",
      " Document(metadata={'d_id': '44/2024/QH15', 'path': 'điều 1 > khoản 27 > Điều 53a. Quyền và trách nhiệm của cơ sở kinh doanh dược có vốn đầu tư nước ngoài > 4. Cơ sở kinh doanh dược quy định tại các điểm a, b, e, g và h khoản 2 Điều 32 có vốn đầu tư nước ngoài có trách nhiệm tương ứng với từng loại hình cơ sở kinh doanh dược quy định tại khoản 2 Điều 42, khoản 2 Điều 43, khoản 2 Điều 44, khoản 2 Điều 51, khoản 2 Điều 52, khoản 2 Điều 53 của Luật này và không được thực hiện các hoạt động liên quan trực tiếp đến phân phối thuốc, nguyên liệu làm thuốc, bao gồm:', 'bullet_type': 'khoản', 'bullet': '4'}, page_content='\\ncontent: 4. Cơ sở kinh doanh dược quy định tại các điểm a, b, e, g và h khoản 2 Điều 32 có vốn đầu tư nước ngoài có trách nhiệm tương ứng với từng loại hình cơ sở kinh doanh dược quy định tại khoản 2 Điều 42, khoản 2 Điều 43, khoản 2 Điều 44, khoản 2 Điều 51, khoản 2 Điều 52, khoản 2 Điều 53 của Luật này và không được thực hiện các hoạt động liên quan trực tiếp đến phân phối thuốc, nguyên liệu làm thuốc, bao gồm:'),\n",
      " Document(metadata={'d_id': '54/2017/NĐ-CP', 'path': 'chương IV > mục 4 > điều 87 > khoản 1 > điểm e', 'c_id': 3779763765, 'bullet_type': 'điểm', 'bullet': 'e'}, page_content='\\ncontent: e) Bản sao có đóng dấu của cơ sở nhập khẩu, văn bản ủy quyền của cơ sở sản xuất dược liệu cho cơ sở cung cấp thuốc nước ngoài trừ trường hợp cơ sở sản xuất là cơ sở cung cấp. Văn bản ủy quyền thực hiện theo quy định tại điểm đ khoản 15 Điều 91 của Nghị định này.'),\n",
      " Document(metadata={'d_id': '54/2017/NĐ-CP', 'path': 'chương IV > mục 1 > điều 57 > khoản 2 > điểm b', 'c_id': 1320022154, 'bullet_type': 'điểm', 'bullet': 'b'}, page_content='\\ncontent: b) Được sản xuất tại nước ngoài, được cấp phép lưu hành tại Việt Nam và có giấy phép nhập khẩu do cơ quan quản lý có thẩm quyền nước nhập khẩu cấp.'),\n",
      " Document(metadata={'d_id': '54/2017/NĐ-CP', 'path': 'chương IV > mục 1 > điều 57 > khoản 1 > điểm b', 'c_id': 9436899293, 'bullet_type': 'điểm', 'bullet': 'b'}, page_content='\\ncontent: b) Được sản xuất tại nước ngoài, được cấp phép lưu hành tại Việt Nam và có giấy phép nhập khẩu do cơ quan quản lý có thẩm quyền nước nhập khẩu cấp.')]\n"
     ]
    }
   ],
   "source": [
    "result = paper_graph.similarity_search(\"Quyền của công ty sản xuất có vốn đầu tư nước ngoài\", k =10)\n",
    "pprint(result)"
   ]
  },
  {
   "cell_type": "code",
   "execution_count": 4,
   "metadata": {},
   "outputs": [
    {
     "name": "stdout",
     "output_type": "stream",
     "text": [
      "[Document(metadata={'d_id': '03/2018/TT-BYT', 'path': 'phụ lục I > khoản 20', 'bullet_type': 'khoản', 'bullet': '20'}, page_content='20. Hoạt động theo hợp đồng '),\n",
      " Document(metadata={'d_id': '03/2018/TT-BYT', 'path': 'phụ lục II > khoản 14', 'bullet_type': 'khoản', 'bullet': '14'}, page_content='14. Hoạt động hợp đồng '),\n",
      " Document(metadata={'d_id': '54/2017/NĐ-CP', 'path': 'chương II > mục 4 > điều 20', 'bullet_type': 'điều', 'bullet': '20'}, page_content='Điều 20. Nội dung thực hành chuyên môn '),\n",
      " Document(metadata={'d_id': '155/2018/NĐ-CP', 'bullet_type': 'điều', 'bullet': '20'}, page_content='Điều 20. Hiệu lực thi hành ')]\n"
     ]
    }
   ],
   "source": [
    "paper_store = Neo4jVector.from_existing_index(\n",
    "    embedding=embedding_model,\n",
    "    url=\"bolt://28.11.5.39:7687\",\n",
    "    username=\"neo4j\",\n",
    "    password=\"phongthang2012\",\n",
    "    index_name=\"doc_index\",\n",
    "    text_node_property=\"content\"\n",
    ")\n",
    "\n",
    "result = paper_store.similarity_search(\"20. Hoạt động theo hợp đồng\")\n",
    "pprint(result)"
   ]
  },
  {
   "cell_type": "code",
   "execution_count": null,
   "metadata": {},
   "outputs": [
    {
     "name": "stdout",
     "output_type": "stream",
     "text": [
      "chương II > mục 1 > điều 6 54/2017/NĐ-CP\n",
      "Điều 6. Quy định chi tiết về thủ tục cấp, cấp lại, điều chỉnh nội dung Chứng chỉ hành nghề dược\n",
      "\n",
      "chương III > mục 1 > điều 27 105/2016/QH13\n",
      "Điều 27. Thủ tục cấp, cấp lại, Điều chỉnh nội dung Chứng chỉ hành nghề dược\n",
      "\n",
      "chương II > mục 1 > điều 6 > khoản 1 > điểm b 54/2017/NĐ-CP\n",
      "b) Sở Y tế đối với trường hợp đề nghị cấp, cấp lại, điều chỉnh nội dung Chứng chỉ hành nghề dược theo hình thức xét hồ sơ.\n",
      "\n",
      "chương II > mục 1 > điều 6 > khoản 1 > điểm a 54/2017/NĐ-CP\n",
      "a) Bộ Y tế đối với trường hợp đề nghị cấp, cấp lại, điều chỉnh nội dung Chứng chỉ hành nghề dược theo hình thức thi;\n",
      "\n",
      "chương IV > mục 1 > điều 41 > khoản 2 > điểm a 105/2016/QH13\n",
      "a) Hồ sơ, thủ tục cấp, cấp lại, Điều chỉnh, thu hồi Giấy chứng nhận đủ Điều kiện kinh doanh dược;\n",
      "\n",
      "chương III > mục 1 > điều 12 > khoản 3 105/2016/QH13\n",
      "3. Điều chỉnh nội dung Chứng chỉ hành nghề dược áp dụng đối với trường hợp người đã được cấp Chứng chỉ hành nghề dược nhưng có thay đổi phạm vi hành nghề, hình thức cấp Chứng chỉ hành nghề dược hoặc thông tin của người được cấp Chứng chỉ hành nghề dược.\n",
      "\n",
      "chương II > mục 1 > điều 5 54/2017/NĐ-CP\n",
      "Điều 5. Quy định chi tiết về hồ sơ đề nghị điều chỉnh nội dung Chứng chỉ hành nghề dược\n",
      "\n",
      "chương III > mục 1 > điều 26 105/2016/QH13\n",
      "Điều 26. Hồ sơ đề nghị Điều chỉnh nội dung Chứng chỉ hành nghề dược\n",
      "\n",
      "chương III > mục 1 > điều 32 54/2017/NĐ-CP\n",
      "Điều 32. Quy định chi tiết hồ sơ cấp, cấp lại, điều chỉnh Giấy chứng nhận đủ điều kiện kinh doanh dược\n",
      "\n",
      "chương II > mục 1 > điều 5 > khoản 1 54/2017/NĐ-CP\n",
      "1. Hồ sơ đề nghị điều chỉnh nội dung Chứng chỉ hành nghề dược thực hiện theo quy định tại Điều 26 của Luật dược và được quy định cụ thể như sau:\n",
      "\n"
     ]
    }
   ],
   "source": [
    "from pprint import pprint\n",
    "\n",
    "result = paper_store.similarity_search(\"Quyền của công ty sản xuất có vốn đầu tư nước ngoài\", k = 10)\n",
    "\n",
    "\n",
    "for i in result:\n",
    "    print(i.metadata[\"path\"], i.metadata[\"d_id\"])\n",
    "    print(i.page_content.strip())\n",
    "    print()\n",
    "    "
   ]
  },
  {
   "cell_type": "code",
   "execution_count": 5,
   "metadata": {},
   "outputs": [
    {
     "ename": "ValueError",
     "evalue": "Could not connect to Neo4j database. Please ensure that the url is correct",
     "output_type": "error",
     "traceback": [
      "\u001b[31m---------------------------------------------------------------------------\u001b[39m",
      "\u001b[31mOSError\u001b[39m                                   Traceback (most recent call last)",
      "\u001b[36mFile \u001b[39m\u001b[32m~/miniconda3/envs/llm/lib/python3.12/site-packages/neo4j/_async_compat/network/_bolt_socket.py:409\u001b[39m, in \u001b[36mBoltSocketBase._connect_secure\u001b[39m\u001b[34m(cls, resolved_address, timeout, keep_alive, ssl_context)\u001b[39m\n\u001b[32m    408\u001b[39m log.debug(\u001b[33m\"\u001b[39m\u001b[33m[#0000]  C: <OPEN> \u001b[39m\u001b[38;5;132;01m%s\u001b[39;00m\u001b[33m\"\u001b[39m, resolved_address)\n\u001b[32m--> \u001b[39m\u001b[32m409\u001b[39m \u001b[43ms\u001b[49m\u001b[43m.\u001b[49m\u001b[43mconnect\u001b[49m\u001b[43m(\u001b[49m\u001b[43mresolved_address\u001b[49m\u001b[43m)\u001b[49m\n\u001b[32m    410\u001b[39m s.settimeout(t)\n",
      "\u001b[31mOSError\u001b[39m: [Errno 113] No route to host",
      "\nThe above exception was the direct cause of the following exception:\n",
      "\u001b[31mServiceUnavailable\u001b[39m                        Traceback (most recent call last)",
      "\u001b[36mFile \u001b[39m\u001b[32m~/miniconda3/envs/llm/lib/python3.12/site-packages/neo4j/_sync/io/_bolt_socket.py:328\u001b[39m, in \u001b[36mBoltSocket.connect\u001b[39m\u001b[34m(cls, address, tcp_timeout, deadline, custom_resolver, ssl_context, keep_alive)\u001b[39m\n\u001b[32m    327\u001b[39m \u001b[38;5;28;01mtry\u001b[39;00m:\n\u001b[32m--> \u001b[39m\u001b[32m328\u001b[39m     s = \u001b[38;5;28;43mcls\u001b[39;49m\u001b[43m.\u001b[49m\u001b[43m_connect_secure\u001b[49m\u001b[43m(\u001b[49m\n\u001b[32m    329\u001b[39m \u001b[43m        \u001b[49m\u001b[43mresolved_address\u001b[49m\u001b[43m,\u001b[49m\u001b[43m \u001b[49m\u001b[43mtcp_timeout\u001b[49m\u001b[43m,\u001b[49m\u001b[43m \u001b[49m\u001b[43mkeep_alive\u001b[49m\u001b[43m,\u001b[49m\u001b[43m \u001b[49m\u001b[43mssl_context\u001b[49m\n\u001b[32m    330\u001b[39m \u001b[43m    \u001b[49m\u001b[43m)\u001b[49m\n\u001b[32m    331\u001b[39m     agreed_version, handshake, response = s._handshake(\n\u001b[32m    332\u001b[39m         resolved_address, deadline\n\u001b[32m    333\u001b[39m     )\n",
      "\u001b[36mFile \u001b[39m\u001b[32m~/miniconda3/envs/llm/lib/python3.12/site-packages/neo4j/_async_compat/network/_bolt_socket.py:426\u001b[39m, in \u001b[36mBoltSocketBase._connect_secure\u001b[39m\u001b[34m(cls, resolved_address, timeout, keep_alive, ssl_context)\u001b[39m\n\u001b[32m    425\u001b[39m \u001b[38;5;28;01mif\u001b[39;00m \u001b[38;5;28misinstance\u001b[39m(error, \u001b[38;5;167;01mOSError\u001b[39;00m):\n\u001b[32m--> \u001b[39m\u001b[32m426\u001b[39m     \u001b[38;5;28;01mraise\u001b[39;00m ServiceUnavailable(\n\u001b[32m    427\u001b[39m         \u001b[33m\"\u001b[39m\u001b[33mFailed to establish connection to \u001b[39m\u001b[33m\"\u001b[39m\n\u001b[32m    428\u001b[39m         \u001b[33mf\u001b[39m\u001b[33m\"\u001b[39m\u001b[38;5;132;01m{\u001b[39;00mresolved_address\u001b[38;5;132;01m!r}\u001b[39;00m\u001b[33m (reason \u001b[39m\u001b[38;5;132;01m{\u001b[39;00merror\u001b[38;5;132;01m}\u001b[39;00m\u001b[33m)\u001b[39m\u001b[33m\"\u001b[39m\n\u001b[32m    429\u001b[39m     ) \u001b[38;5;28;01mfrom\u001b[39;00m\u001b[38;5;250m \u001b[39m\u001b[34;01merror\u001b[39;00m\n\u001b[32m    430\u001b[39m \u001b[38;5;28;01mraise\u001b[39;00m\n",
      "\u001b[31mServiceUnavailable\u001b[39m: Failed to establish connection to ResolvedIPv4Address(('28.11.5.39', 7687)) (reason [Errno 113] No route to host)",
      "\nThe above exception was the direct cause of the following exception:\n",
      "\u001b[31mServiceUnavailable\u001b[39m                        Traceback (most recent call last)",
      "\u001b[36mFile \u001b[39m\u001b[32m~/miniconda3/envs/llm/lib/python3.12/site-packages/langchain_community/vectorstores/neo4j_vector.py:605\u001b[39m, in \u001b[36mNeo4jVector.__init__\u001b[39m\u001b[34m(self, embedding, search_type, username, password, url, keyword_index_name, database, index_name, node_label, embedding_node_property, text_node_property, distance_strategy, logger, pre_delete_collection, retrieval_query, relevance_score_fn, index_type, graph)\u001b[39m\n\u001b[32m    604\u001b[39m \u001b[38;5;28;01mtry\u001b[39;00m:\n\u001b[32m--> \u001b[39m\u001b[32m605\u001b[39m     \u001b[38;5;28;43mself\u001b[39;49m\u001b[43m.\u001b[49m\u001b[43m_driver\u001b[49m\u001b[43m.\u001b[49m\u001b[43mverify_connectivity\u001b[49m\u001b[43m(\u001b[49m\u001b[43m)\u001b[49m\n\u001b[32m    606\u001b[39m \u001b[38;5;28;01mexcept\u001b[39;00m neo4j.exceptions.ServiceUnavailable:\n",
      "\u001b[36mFile \u001b[39m\u001b[32m~/miniconda3/envs/llm/lib/python3.12/site-packages/neo4j/_sync/driver.py:1082\u001b[39m, in \u001b[36mDriver.verify_connectivity\u001b[39m\u001b[34m(self, **config)\u001b[39m\n\u001b[32m   1081\u001b[39m session_config = \u001b[38;5;28mself\u001b[39m._read_session_config(config)\n\u001b[32m-> \u001b[39m\u001b[32m1082\u001b[39m \u001b[38;5;28;43mself\u001b[39;49m\u001b[43m.\u001b[49m\u001b[43m_get_server_info\u001b[49m\u001b[43m(\u001b[49m\u001b[43msession_config\u001b[49m\u001b[43m)\u001b[49m\n",
      "\u001b[36mFile \u001b[39m\u001b[32m~/miniconda3/envs/llm/lib/python3.12/site-packages/neo4j/_sync/driver.py:1297\u001b[39m, in \u001b[36mDriver._get_server_info\u001b[39m\u001b[34m(self, session_config)\u001b[39m\n\u001b[32m   1296\u001b[39m \u001b[38;5;28;01mwith\u001b[39;00m \u001b[38;5;28mself\u001b[39m._session(session_config) \u001b[38;5;28;01mas\u001b[39;00m session:\n\u001b[32m-> \u001b[39m\u001b[32m1297\u001b[39m     \u001b[38;5;28;01mreturn\u001b[39;00m \u001b[43msession\u001b[49m\u001b[43m.\u001b[49m\u001b[43m_get_server_info\u001b[49m\u001b[43m(\u001b[49m\u001b[43m)\u001b[49m\n",
      "\u001b[36mFile \u001b[39m\u001b[32m~/miniconda3/envs/llm/lib/python3.12/site-packages/neo4j/_sync/work/session.py:183\u001b[39m, in \u001b[36mSession._get_server_info\u001b[39m\u001b[34m(self)\u001b[39m\n\u001b[32m    182\u001b[39m \u001b[38;5;28;01massert\u001b[39;00m \u001b[38;5;129;01mnot\u001b[39;00m \u001b[38;5;28mself\u001b[39m._connection\n\u001b[32m--> \u001b[39m\u001b[32m183\u001b[39m \u001b[38;5;28;43mself\u001b[39;49m\u001b[43m.\u001b[49m\u001b[43m_connect\u001b[49m\u001b[43m(\u001b[49m\u001b[43mREAD_ACCESS\u001b[49m\u001b[43m,\u001b[49m\u001b[43m \u001b[49m\u001b[43mliveness_check_timeout\u001b[49m\u001b[43m=\u001b[49m\u001b[32;43m0\u001b[39;49m\u001b[43m)\u001b[49m\n\u001b[32m    184\u001b[39m server_info = \u001b[38;5;28mself\u001b[39m._connection.server_info\n",
      "\u001b[36mFile \u001b[39m\u001b[32m~/miniconda3/envs/llm/lib/python3.12/site-packages/neo4j/_sync/work/session.py:136\u001b[39m, in \u001b[36mSession._connect\u001b[39m\u001b[34m(self, access_mode, **acquire_kwargs)\u001b[39m\n\u001b[32m    135\u001b[39m \u001b[38;5;28;01mtry\u001b[39;00m:\n\u001b[32m--> \u001b[39m\u001b[32m136\u001b[39m     \u001b[38;5;28;43msuper\u001b[39;49m\u001b[43m(\u001b[49m\u001b[43m)\u001b[49m\u001b[43m.\u001b[49m\u001b[43m_connect\u001b[49m\u001b[43m(\u001b[49m\n\u001b[32m    137\u001b[39m \u001b[43m        \u001b[49m\u001b[43maccess_mode\u001b[49m\u001b[43m,\u001b[49m\u001b[43m \u001b[49m\u001b[43mauth\u001b[49m\u001b[43m=\u001b[49m\u001b[38;5;28;43mself\u001b[39;49m\u001b[43m.\u001b[49m\u001b[43m_config\u001b[49m\u001b[43m.\u001b[49m\u001b[43mauth\u001b[49m\u001b[43m,\u001b[49m\u001b[43m \u001b[49m\u001b[43m*\u001b[49m\u001b[43m*\u001b[49m\u001b[43macquire_kwargs\u001b[49m\n\u001b[32m    138\u001b[39m \u001b[43m    \u001b[49m\u001b[43m)\u001b[49m\n\u001b[32m    139\u001b[39m \u001b[38;5;28;01mexcept\u001b[39;00m asyncio.CancelledError:\n",
      "\u001b[36mFile \u001b[39m\u001b[32m~/miniconda3/envs/llm/lib/python3.12/site-packages/neo4j/_sync/work/workspace.py:199\u001b[39m, in \u001b[36mWorkspace._connect\u001b[39m\u001b[34m(self, access_mode, auth, **acquire_kwargs)\u001b[39m\n\u001b[32m    198\u001b[39m acquire_kwargs_.update(acquire_kwargs)\n\u001b[32m--> \u001b[39m\u001b[32m199\u001b[39m \u001b[38;5;28mself\u001b[39m._connection = \u001b[38;5;28;43mself\u001b[39;49m\u001b[43m.\u001b[49m\u001b[43m_pool\u001b[49m\u001b[43m.\u001b[49m\u001b[43macquire\u001b[49m\u001b[43m(\u001b[49m\u001b[43m*\u001b[49m\u001b[43m*\u001b[49m\u001b[43macquire_kwargs_\u001b[49m\u001b[43m)\u001b[49m\n\u001b[32m    200\u001b[39m \u001b[38;5;28;01mif\u001b[39;00m (\n\u001b[32m    201\u001b[39m     target_db.guessed\n\u001b[32m    202\u001b[39m     \u001b[38;5;129;01mand\u001b[39;00m \u001b[38;5;129;01mnot\u001b[39;00m \u001b[38;5;28mself\u001b[39m._pinned_database\n\u001b[32m   (...)\u001b[39m\u001b[32m    206\u001b[39m     \u001b[38;5;66;03m# support SSR.\u001b[39;00m\n\u001b[32m    207\u001b[39m     \u001b[38;5;66;03m# => we need to fall back to explicit home database resolution\u001b[39;00m\n",
      "\u001b[36mFile \u001b[39m\u001b[32m~/miniconda3/envs/llm/lib/python3.12/site-packages/neo4j/_sync/io/_pool.py:662\u001b[39m, in \u001b[36mBoltPool.acquire\u001b[39m\u001b[34m(self, access_mode, timeout, database, bookmarks, auth, liveness_check_timeout, database_callback)\u001b[39m\n\u001b[32m    661\u001b[39m deadline = Deadline.from_timeout_or_deadline(timeout)\n\u001b[32m--> \u001b[39m\u001b[32m662\u001b[39m \u001b[38;5;28;01mreturn\u001b[39;00m \u001b[38;5;28;43mself\u001b[39;49m\u001b[43m.\u001b[49m\u001b[43m_acquire\u001b[49m\u001b[43m(\u001b[49m\n\u001b[32m    663\u001b[39m \u001b[43m    \u001b[49m\u001b[38;5;28;43mself\u001b[39;49m\u001b[43m.\u001b[49m\u001b[43maddress\u001b[49m\u001b[43m,\u001b[49m\u001b[43m \u001b[49m\u001b[43mauth\u001b[49m\u001b[43m,\u001b[49m\u001b[43m \u001b[49m\u001b[43mdeadline\u001b[49m\u001b[43m,\u001b[49m\u001b[43m \u001b[49m\u001b[43mliveness_check_timeout\u001b[49m\n\u001b[32m    664\u001b[39m \u001b[43m\u001b[49m\u001b[43m)\u001b[49m\n",
      "\u001b[36mFile \u001b[39m\u001b[32m~/miniconda3/envs/llm/lib/python3.12/site-packages/neo4j/_sync/io/_pool.py:408\u001b[39m, in \u001b[36mIOPool._acquire\u001b[39m\u001b[34m(self, address, auth, deadline, liveness_check_timeout)\u001b[39m\n\u001b[32m    407\u001b[39m log.debug(\u001b[33m\"\u001b[39m\u001b[33m[#0000]  _: <POOL> trying to hand out new connection\u001b[39m\u001b[33m\"\u001b[39m)\n\u001b[32m--> \u001b[39m\u001b[32m408\u001b[39m \u001b[38;5;28;01mreturn\u001b[39;00m \u001b[43mconnection_creator\u001b[49m\u001b[43m(\u001b[49m\u001b[43m)\u001b[49m\n",
      "\u001b[36mFile \u001b[39m\u001b[32m~/miniconda3/envs/llm/lib/python3.12/site-packages/neo4j/_sync/io/_pool.py:230\u001b[39m, in \u001b[36mIOPool._acquire_new_later.<locals>.connection_creator\u001b[39m\u001b[34m()\u001b[39m\n\u001b[32m    229\u001b[39m \u001b[38;5;28;01mtry\u001b[39;00m:\n\u001b[32m--> \u001b[39m\u001b[32m230\u001b[39m     connection = \u001b[38;5;28;43mself\u001b[39;49m\u001b[43m.\u001b[49m\u001b[43mopener\u001b[49m\u001b[43m(\u001b[49m\n\u001b[32m    231\u001b[39m \u001b[43m        \u001b[49m\u001b[43maddress\u001b[49m\u001b[43m,\u001b[49m\u001b[43m \u001b[49m\u001b[43mauth\u001b[49m\u001b[43m \u001b[49m\u001b[38;5;129;43;01mor\u001b[39;49;00m\u001b[43m \u001b[49m\u001b[38;5;28;43mself\u001b[39;49m\u001b[43m.\u001b[49m\u001b[43mpool_config\u001b[49m\u001b[43m.\u001b[49m\u001b[43mauth\u001b[49m\u001b[43m,\u001b[49m\u001b[43m \u001b[49m\u001b[43mdeadline\u001b[49m\n\u001b[32m    232\u001b[39m \u001b[43m    \u001b[49m\u001b[43m)\u001b[49m\n\u001b[32m    233\u001b[39m \u001b[38;5;28;01mexcept\u001b[39;00m ServiceUnavailable:\n",
      "\u001b[36mFile \u001b[39m\u001b[32m~/miniconda3/envs/llm/lib/python3.12/site-packages/neo4j/_sync/io/_pool.py:624\u001b[39m, in \u001b[36mBoltPool.open.<locals>.opener\u001b[39m\u001b[34m(addr, auth_manager, deadline)\u001b[39m\n\u001b[32m    623\u001b[39m \u001b[38;5;28;01mdef\u001b[39;00m\u001b[38;5;250m \u001b[39m\u001b[34mopener\u001b[39m(addr, auth_manager, deadline):\n\u001b[32m--> \u001b[39m\u001b[32m624\u001b[39m     \u001b[38;5;28;01mreturn\u001b[39;00m \u001b[43mBolt\u001b[49m\u001b[43m.\u001b[49m\u001b[43mopen\u001b[49m\u001b[43m(\u001b[49m\n\u001b[32m    625\u001b[39m \u001b[43m        \u001b[49m\u001b[43maddr\u001b[49m\u001b[43m,\u001b[49m\n\u001b[32m    626\u001b[39m \u001b[43m        \u001b[49m\u001b[43mauth_manager\u001b[49m\u001b[43m=\u001b[49m\u001b[43mauth_manager\u001b[49m\u001b[43m,\u001b[49m\n\u001b[32m    627\u001b[39m \u001b[43m        \u001b[49m\u001b[43mdeadline\u001b[49m\u001b[43m=\u001b[49m\u001b[43mdeadline\u001b[49m\u001b[43m,\u001b[49m\n\u001b[32m    628\u001b[39m \u001b[43m        \u001b[49m\u001b[43mrouting_context\u001b[49m\u001b[43m=\u001b[49m\u001b[38;5;28;43;01mNone\u001b[39;49;00m\u001b[43m,\u001b[49m\n\u001b[32m    629\u001b[39m \u001b[43m        \u001b[49m\u001b[43mpool_config\u001b[49m\u001b[43m=\u001b[49m\u001b[43mpool_config\u001b[49m\u001b[43m,\u001b[49m\n\u001b[32m    630\u001b[39m \u001b[43m    \u001b[49m\u001b[43m)\u001b[49m\n",
      "\u001b[36mFile \u001b[39m\u001b[32m~/miniconda3/envs/llm/lib/python3.12/site-packages/neo4j/_sync/io/_bolt.py:369\u001b[39m, in \u001b[36mBolt.open\u001b[39m\u001b[34m(cls, address, auth_manager, deadline, routing_context, pool_config)\u001b[39m\n\u001b[32m    367\u001b[39m     deadline = Deadline(\u001b[38;5;28;01mNone\u001b[39;00m)\n\u001b[32m--> \u001b[39m\u001b[32m369\u001b[39m s, protocol_version, handshake, data = \u001b[43mBoltSocket\u001b[49m\u001b[43m.\u001b[49m\u001b[43mconnect\u001b[49m\u001b[43m(\u001b[49m\n\u001b[32m    370\u001b[39m \u001b[43m    \u001b[49m\u001b[43maddress\u001b[49m\u001b[43m,\u001b[49m\n\u001b[32m    371\u001b[39m \u001b[43m    \u001b[49m\u001b[43mtcp_timeout\u001b[49m\u001b[43m=\u001b[49m\u001b[43mpool_config\u001b[49m\u001b[43m.\u001b[49m\u001b[43mconnection_timeout\u001b[49m\u001b[43m,\u001b[49m\n\u001b[32m    372\u001b[39m \u001b[43m    \u001b[49m\u001b[43mdeadline\u001b[49m\u001b[43m=\u001b[49m\u001b[43mdeadline\u001b[49m\u001b[43m,\u001b[49m\n\u001b[32m    373\u001b[39m \u001b[43m    \u001b[49m\u001b[43mcustom_resolver\u001b[49m\u001b[43m=\u001b[49m\u001b[43mpool_config\u001b[49m\u001b[43m.\u001b[49m\u001b[43mresolver\u001b[49m\u001b[43m,\u001b[49m\n\u001b[32m    374\u001b[39m \u001b[43m    \u001b[49m\u001b[43mssl_context\u001b[49m\u001b[43m=\u001b[49m\u001b[43mpool_config\u001b[49m\u001b[43m.\u001b[49m\u001b[43mget_ssl_context\u001b[49m\u001b[43m(\u001b[49m\u001b[43m)\u001b[49m\u001b[43m,\u001b[49m\n\u001b[32m    375\u001b[39m \u001b[43m    \u001b[49m\u001b[43mkeep_alive\u001b[49m\u001b[43m=\u001b[49m\u001b[43mpool_config\u001b[49m\u001b[43m.\u001b[49m\u001b[43mkeep_alive\u001b[49m\u001b[43m,\u001b[49m\n\u001b[32m    376\u001b[39m \u001b[43m\u001b[49m\u001b[43m)\u001b[49m\n\u001b[32m    378\u001b[39m pool_config.protocol_version = protocol_version\n",
      "\u001b[36mFile \u001b[39m\u001b[32m~/miniconda3/envs/llm/lib/python3.12/site-packages/neo4j/_sync/io/_bolt_socket.py:376\u001b[39m, in \u001b[36mBoltSocket.connect\u001b[39m\u001b[34m(cls, address, tcp_timeout, deadline, custom_resolver, ssl_context, keep_alive)\u001b[39m\n\u001b[32m    375\u001b[39m error_strs = \u001b[33m\"\u001b[39m\u001b[38;5;130;01m\\n\u001b[39;00m\u001b[33m\"\u001b[39m.join(\u001b[38;5;28mmap\u001b[39m(\u001b[38;5;28mstr\u001b[39m, errors))\n\u001b[32m--> \u001b[39m\u001b[32m376\u001b[39m \u001b[38;5;28;01mraise\u001b[39;00m ServiceUnavailable(\n\u001b[32m    377\u001b[39m     \u001b[33mf\u001b[39m\u001b[33m\"\u001b[39m\u001b[33mCouldn\u001b[39m\u001b[33m'\u001b[39m\u001b[33mt connect to \u001b[39m\u001b[38;5;132;01m{\u001b[39;00maddress\u001b[38;5;132;01m}\u001b[39;00m\u001b[33m (resolved to \u001b[39m\u001b[38;5;132;01m{\u001b[39;00maddress_strs\u001b[38;5;132;01m}\u001b[39;00m\u001b[33m):\u001b[39m\u001b[33m\"\u001b[39m\n\u001b[32m    378\u001b[39m     \u001b[33mf\u001b[39m\u001b[33m\"\u001b[39m\u001b[38;5;130;01m\\n\u001b[39;00m\u001b[38;5;132;01m{\u001b[39;00merror_strs\u001b[38;5;132;01m}\u001b[39;00m\u001b[33m\"\u001b[39m\n\u001b[32m    379\u001b[39m ) \u001b[38;5;28;01mfrom\u001b[39;00m\u001b[38;5;250m \u001b[39m\u001b[34;01merrors\u001b[39;00m[\u001b[32m0\u001b[39m]\n",
      "\u001b[31mServiceUnavailable\u001b[39m: Couldn't connect to 28.11.5.39:7687 (resolved to ('28.11.5.39:7687',)):\nFailed to establish connection to ResolvedIPv4Address(('28.11.5.39', 7687)) (reason [Errno 113] No route to host)",
      "\nDuring handling of the above exception, another exception occurred:\n",
      "\u001b[31mValueError\u001b[39m                                Traceback (most recent call last)",
      "\u001b[36mCell\u001b[39m\u001b[36m \u001b[39m\u001b[32mIn[5]\u001b[39m\u001b[32m, line 9\u001b[39m\n\u001b[32m      5\u001b[39m \u001b[38;5;28;01mfrom\u001b[39;00m\u001b[38;5;250m \u001b[39m\u001b[34;01mdotenv\u001b[39;00m\u001b[38;5;250m \u001b[39m\u001b[38;5;28;01mimport\u001b[39;00m load_dotenv\n\u001b[32m      6\u001b[39m embedding_model = HuggingFaceEmbeddings(\n\u001b[32m      7\u001b[39m     model_name=\u001b[33m\"\u001b[39m\u001b[33mdangvantuan/vietnamese-document-embedding\u001b[39m\u001b[33m\"\u001b[39m, \n\u001b[32m      8\u001b[39m     model_kwargs={\u001b[33m\"\u001b[39m\u001b[33mtrust_remote_code\u001b[39m\u001b[33m\"\u001b[39m: \u001b[38;5;28;01mTrue\u001b[39;00m},)\n\u001b[32m----> \u001b[39m\u001b[32m9\u001b[39m paper_store = \u001b[43mNeo4jVector\u001b[49m\u001b[43m.\u001b[49m\u001b[43mfrom_existing_index\u001b[49m\u001b[43m(\u001b[49m\n\u001b[32m     10\u001b[39m \u001b[43m    \u001b[49m\u001b[43membedding\u001b[49m\u001b[43m=\u001b[49m\u001b[43membedding_model\u001b[49m\u001b[43m,\u001b[49m\n\u001b[32m     11\u001b[39m \u001b[43m    \u001b[49m\u001b[43murl\u001b[49m\u001b[43m=\u001b[49m\u001b[33;43m\"\u001b[39;49m\u001b[33;43mbolt://28.11.5.39:7687\u001b[39;49m\u001b[33;43m\"\u001b[39;49m\u001b[43m,\u001b[49m\n\u001b[32m     12\u001b[39m \u001b[43m    \u001b[49m\u001b[43musername\u001b[49m\u001b[43m=\u001b[49m\u001b[33;43m\"\u001b[39;49m\u001b[33;43mneo4j\u001b[39;49m\u001b[33;43m\"\u001b[39;49m\u001b[43m,\u001b[49m\n\u001b[32m     13\u001b[39m \u001b[43m    \u001b[49m\u001b[43mpassword\u001b[49m\u001b[43m=\u001b[49m\u001b[33;43m\"\u001b[39;49m\u001b[33;43mphongthang2012\u001b[39;49m\u001b[33;43m\"\u001b[39;49m\u001b[43m,\u001b[49m\n\u001b[32m     14\u001b[39m \u001b[43m    \u001b[49m\u001b[43mindex_name\u001b[49m\u001b[43m=\u001b[49m\u001b[33;43m\"\u001b[39;49m\u001b[33;43mdoc_index\u001b[39;49m\u001b[33;43m\"\u001b[39;49m\u001b[43m,\u001b[49m\n\u001b[32m     15\u001b[39m \u001b[43m    \u001b[49m\u001b[43mtext_node_property\u001b[49m\u001b[43m=\u001b[49m\u001b[33;43m\"\u001b[39;49m\u001b[33;43mcontent\u001b[39;49m\u001b[33;43m\"\u001b[39;49m\n\u001b[32m     16\u001b[39m \u001b[43m)\u001b[49m\n",
      "\u001b[36mFile \u001b[39m\u001b[32m~/miniconda3/envs/llm/lib/python3.12/site-packages/langchain_community/vectorstores/neo4j_vector.py:1339\u001b[39m, in \u001b[36mNeo4jVector.from_existing_index\u001b[39m\u001b[34m(cls, embedding, index_name, search_type, keyword_index_name, **kwargs)\u001b[39m\n\u001b[32m   1334\u001b[39m \u001b[38;5;28;01mif\u001b[39;00m search_type == SearchType.HYBRID \u001b[38;5;129;01mand\u001b[39;00m \u001b[38;5;129;01mnot\u001b[39;00m keyword_index_name:\n\u001b[32m   1335\u001b[39m     \u001b[38;5;28;01mraise\u001b[39;00m \u001b[38;5;167;01mValueError\u001b[39;00m(\n\u001b[32m   1336\u001b[39m         \u001b[33m\"\u001b[39m\u001b[33mkeyword_index name has to be specified when using hybrid search option\u001b[39m\u001b[33m\"\u001b[39m\n\u001b[32m   1337\u001b[39m     )\n\u001b[32m-> \u001b[39m\u001b[32m1339\u001b[39m store = \u001b[38;5;28;43mcls\u001b[39;49m\u001b[43m(\u001b[49m\n\u001b[32m   1340\u001b[39m \u001b[43m    \u001b[49m\u001b[43membedding\u001b[49m\u001b[43m=\u001b[49m\u001b[43membedding\u001b[49m\u001b[43m,\u001b[49m\n\u001b[32m   1341\u001b[39m \u001b[43m    \u001b[49m\u001b[43mindex_name\u001b[49m\u001b[43m=\u001b[49m\u001b[43mindex_name\u001b[49m\u001b[43m,\u001b[49m\n\u001b[32m   1342\u001b[39m \u001b[43m    \u001b[49m\u001b[43mkeyword_index_name\u001b[49m\u001b[43m=\u001b[49m\u001b[43mkeyword_index_name\u001b[49m\u001b[43m,\u001b[49m\n\u001b[32m   1343\u001b[39m \u001b[43m    \u001b[49m\u001b[43msearch_type\u001b[49m\u001b[43m=\u001b[49m\u001b[43msearch_type\u001b[49m\u001b[43m,\u001b[49m\n\u001b[32m   1344\u001b[39m \u001b[43m    \u001b[49m\u001b[43m*\u001b[49m\u001b[43m*\u001b[49m\u001b[43mkwargs\u001b[49m\u001b[43m,\u001b[49m\n\u001b[32m   1345\u001b[39m \u001b[43m\u001b[49m\u001b[43m)\u001b[49m\n\u001b[32m   1347\u001b[39m embedding_dimension, index_type = store.retrieve_existing_index()\n\u001b[32m   1349\u001b[39m \u001b[38;5;66;03m# Raise error if relationship index type\u001b[39;00m\n",
      "\u001b[36mFile \u001b[39m\u001b[32m~/miniconda3/envs/llm/lib/python3.12/site-packages/langchain_core/_api/deprecation.py:214\u001b[39m, in \u001b[36mdeprecated.<locals>.deprecate.<locals>.finalize.<locals>.warn_if_direct_instance\u001b[39m\u001b[34m(self, *args, **kwargs)\u001b[39m\n\u001b[32m    212\u001b[39m     warned = \u001b[38;5;28;01mTrue\u001b[39;00m\n\u001b[32m    213\u001b[39m     emit_warning()\n\u001b[32m--> \u001b[39m\u001b[32m214\u001b[39m \u001b[38;5;28;01mreturn\u001b[39;00m \u001b[43mwrapped\u001b[49m\u001b[43m(\u001b[49m\u001b[38;5;28;43mself\u001b[39;49m\u001b[43m,\u001b[49m\u001b[43m \u001b[49m\u001b[43m*\u001b[49m\u001b[43margs\u001b[49m\u001b[43m,\u001b[49m\u001b[43m \u001b[49m\u001b[43m*\u001b[49m\u001b[43m*\u001b[49m\u001b[43mkwargs\u001b[49m\u001b[43m)\u001b[49m\n",
      "\u001b[36mFile \u001b[39m\u001b[32m~/miniconda3/envs/llm/lib/python3.12/site-packages/langchain_community/vectorstores/neo4j_vector.py:607\u001b[39m, in \u001b[36mNeo4jVector.__init__\u001b[39m\u001b[34m(self, embedding, search_type, username, password, url, keyword_index_name, database, index_name, node_label, embedding_node_property, text_node_property, distance_strategy, logger, pre_delete_collection, retrieval_query, relevance_score_fn, index_type, graph)\u001b[39m\n\u001b[32m    605\u001b[39m     \u001b[38;5;28mself\u001b[39m._driver.verify_connectivity()\n\u001b[32m    606\u001b[39m \u001b[38;5;28;01mexcept\u001b[39;00m neo4j.exceptions.ServiceUnavailable:\n\u001b[32m--> \u001b[39m\u001b[32m607\u001b[39m     \u001b[38;5;28;01mraise\u001b[39;00m \u001b[38;5;167;01mValueError\u001b[39;00m(\n\u001b[32m    608\u001b[39m         \u001b[33m\"\u001b[39m\u001b[33mCould not connect to Neo4j database. \u001b[39m\u001b[33m\"\u001b[39m\n\u001b[32m    609\u001b[39m         \u001b[33m\"\u001b[39m\u001b[33mPlease ensure that the url is correct\u001b[39m\u001b[33m\"\u001b[39m\n\u001b[32m    610\u001b[39m     )\n\u001b[32m    611\u001b[39m \u001b[38;5;28;01mexcept\u001b[39;00m neo4j.exceptions.AuthError:\n\u001b[32m    612\u001b[39m     \u001b[38;5;28;01mraise\u001b[39;00m \u001b[38;5;167;01mValueError\u001b[39;00m(\n\u001b[32m    613\u001b[39m         \u001b[33m\"\u001b[39m\u001b[33mCould not connect to Neo4j database. \u001b[39m\u001b[33m\"\u001b[39m\n\u001b[32m    614\u001b[39m         \u001b[33m\"\u001b[39m\u001b[33mPlease ensure that the username and password are correct\u001b[39m\u001b[33m\"\u001b[39m\n\u001b[32m    615\u001b[39m     )\n",
      "\u001b[31mValueError\u001b[39m: Could not connect to Neo4j database. Please ensure that the url is correct"
     ]
    }
   ],
   "source": [
    "from langchain_community.vectorstores import Neo4jVector\n",
    "# from langchain_openai import OpenAIEmbeddings\n",
    "from langchain.embeddings import HuggingFaceEmbeddings\n",
    "import os \n",
    "from dotenv import load_dotenv\n",
    "embedding_model = HuggingFaceEmbeddings(\n",
    "    model_name=\"dangvantuan/vietnamese-document-embedding\", \n",
    "    model_kwargs={\"trust_remote_code\": True},)\n",
    "paper_store = Neo4jVector.from_existing_index(\n",
    "    embedding=embedding_model,\n",
    "    url=\"bolt://28.11.5.39:7687\",\n",
    "    username=\"neo4j\",\n",
    "    password=\"phongthang2012\",\n",
    "    index_name=\"doc_index\",\n",
    "    text_node_property=\"content\"\n",
    ")\n"
   ]
  },
  {
   "cell_type": "code",
   "execution_count": null,
   "metadata": {},
   "outputs": [
    {
     "ename": "NameError",
     "evalue": "name 'paper_store' is not defined",
     "output_type": "error",
     "traceback": [
      "\u001b[31m---------------------------------------------------------------------------\u001b[39m",
      "\u001b[31mNameError\u001b[39m                                 Traceback (most recent call last)",
      "\u001b[36mCell\u001b[39m\u001b[36m \u001b[39m\u001b[32mIn[4]\u001b[39m\u001b[32m, line 44\u001b[39m\n\u001b[32m     42\u001b[39m \u001b[38;5;66;03m# Run hybrid search\u001b[39;00m\n\u001b[32m     43\u001b[39m query = \u001b[33m\"\u001b[39m\u001b[33mCách thức nộp hồ sơ đề nghị cấp chứng chỉ hành nghề dược? \u001b[39m\u001b[33m\"\u001b[39m\n\u001b[32m---> \u001b[39m\u001b[32m44\u001b[39m results = \u001b[43mhybrid_search\u001b[49m\u001b[43m(\u001b[49m\u001b[43mquery\u001b[49m\u001b[43m)\u001b[49m\n\u001b[32m     45\u001b[39m pprint(results)\n",
      "\u001b[36mCell\u001b[39m\u001b[36m \u001b[39m\u001b[32mIn[4]\u001b[39m\u001b[32m, line 7\u001b[39m, in \u001b[36mhybrid_search\u001b[39m\u001b[34m(query, k)\u001b[39m\n\u001b[32m      5\u001b[39m \u001b[38;5;28;01mdef\u001b[39;00m\u001b[38;5;250m \u001b[39m\u001b[34mhybrid_search\u001b[39m(query, k=\u001b[32m10\u001b[39m):\n\u001b[32m      6\u001b[39m     \u001b[38;5;66;03m# Vector Similarity Search\u001b[39;00m\n\u001b[32m----> \u001b[39m\u001b[32m7\u001b[39m     vector_results = \u001b[43mpaper_store\u001b[49m.similarity_search_with_score(query, k=k)\n\u001b[32m      9\u001b[39m     \u001b[38;5;66;03m# BM25 Search (Full-Text Index)\u001b[39;00m\n\u001b[32m     10\u001b[39m     keyword_query = \u001b[33mf\u001b[39m\u001b[33m\"\"\"\u001b[39m\n\u001b[32m     11\u001b[39m \u001b[33m        CALL db.index.fulltext.queryNodes(\u001b[39m\u001b[33m\"\u001b[39m\u001b[33mfull_doc_index\u001b[39m\u001b[33m\"\u001b[39m\u001b[33m, \u001b[39m\u001b[33m\"\u001b[39m\u001b[38;5;132;01m{\u001b[39;00mquery\u001b[38;5;132;01m}\u001b[39;00m\u001b[33m\"\u001b[39m\u001b[33m) \u001b[39m\n\u001b[32m     12\u001b[39m \u001b[33m        YIELD node, score \u001b[39m\n\u001b[32m     13\u001b[39m \u001b[33m        RETURN node.content AS content, node.d_id AS d_id, node.path AS path\u001b[39m\n\u001b[32m     14\u001b[39m \u001b[33m        LIMIT \u001b[39m\u001b[38;5;132;01m{\u001b[39;00mk\u001b[38;5;132;01m}\u001b[39;00m\n\u001b[32m     15\u001b[39m \u001b[33m    \u001b[39m\u001b[33m\"\"\"\u001b[39m\n",
      "\u001b[31mNameError\u001b[39m: name 'paper_store' is not defined"
     ]
    }
   ],
   "source": [
    "from langchain.schema import Document\n",
    "from langchain.vectorstores.utils import maximal_marginal_relevance\n",
    "import numpy as np\n",
    "\n",
    "def hybrid_search(query, k=10):\n",
    "    # Vector Similarity Search\n",
    "    vector_results = paper_store.similarity_search_with_score(query, k=k)\n",
    "\n",
    "    # BM25 Search (Full-Text Index)\n",
    "    keyword_query = f\"\"\"\n",
    "        CALL db.index.fulltext.queryNodes(\"full_doc_index\", \"{query}\") \n",
    "        YIELD node, score \n",
    "        RETURN node.content AS content, node.d_id AS d_id, node.path AS path\n",
    "        LIMIT {k}\n",
    "    \"\"\"\n",
    "    keyword_results = paper_store.query(keyword_query)\n",
    "\n",
    "    # Convert results to LangChain Document objects\n",
    "    vector_documents = [doc for doc, _ in vector_results]\n",
    "    vector_embeddings = np.array([embedding_model.embed_query(doc.page_content) for doc in vector_documents])\n",
    "\n",
    "    keyword_documents = [\n",
    "        Document(page_content=doc[\"content\"], metadata={\"d_id\": doc[\"d_id\"], \"path\": doc[\"path\"]}) \n",
    "        for doc in keyword_results\n",
    "    ]\n",
    "\n",
    "    # Convert query embedding to NumPy array\n",
    "    query_embedding = np.array(embedding_model.embed_query(query))\n",
    "\n",
    "    # Merge using MMR\n",
    "    hybrid_indices = maximal_marginal_relevance(\n",
    "        query_embedding=query_embedding,\n",
    "        embedding_list=vector_embeddings,  # Only embeddings, no documents\n",
    "        lambda_mult=0.9\n",
    "    )\n",
    "\n",
    "    # Return re-ranked documents based on MMR indices\n",
    "    hybrid_results = [vector_documents[i] for i in hybrid_indices]\n",
    "\n",
    "    return hybrid_results + keyword_documents  # Combine with keyword-based retrieval\n",
    "\n",
    "# Run hybrid search\n",
    "query = \"Cách thức nộp hồ sơ đề nghị cấp chứng chỉ hành nghề dược? \"\n",
    "results = hybrid_search(query)\n",
    "pprint(results)\n"
   ]
  },
  {
   "cell_type": "code",
   "execution_count": null,
   "metadata": {},
   "outputs": [
    {
     "ename": "NameError",
     "evalue": "name 'driver' is not defined",
     "output_type": "error",
     "traceback": [
      "\u001b[0;31m---------------------------------------------------------------------------\u001b[0m",
      "\u001b[0;31mNameError\u001b[0m                                 Traceback (most recent call last)",
      "Cell \u001b[0;32mIn[6], line 1\u001b[0m\n\u001b[0;32m----> 1\u001b[0m \u001b[43mdriver\u001b[49m\u001b[38;5;241m.\u001b[39mclose()\n",
      "\u001b[0;31mNameError\u001b[0m: name 'driver' is not defined"
     ]
    }
   ],
   "source": [
    "# driver.close()"
   ]
  }
 ],
 "metadata": {
  "kernelspec": {
   "display_name": "llm",
   "language": "python",
   "name": "python3"
  },
  "language_info": {
   "codemirror_mode": {
    "name": "ipython",
    "version": 3
   },
   "file_extension": ".py",
   "mimetype": "text/x-python",
   "name": "python",
   "nbconvert_exporter": "python",
   "pygments_lexer": "ipython3",
   "version": "3.12.9"
  }
 },
 "nbformat": 4,
 "nbformat_minor": 2
}
